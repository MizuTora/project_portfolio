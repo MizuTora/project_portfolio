{
 "cells": [
  {
   "cell_type": "markdown",
   "id": "fbda0adc",
   "metadata": {},
   "source": [
    "# Принятие решений в бизнесе"
   ]
  },
  {
   "cell_type": "markdown",
   "id": "9aa42978",
   "metadata": {},
   "source": [
    "# Введение"
   ]
  },
  {
   "cell_type": "markdown",
   "id": "26bc9cdd",
   "metadata": {},
   "source": [
    "Я — аналитик крупного интернет-магазина.\\\n",
    "Вместе с отделом маркетинга мы подготовили список гипотез для увеличения выручки.\\\n",
    "Приоритизируем гипотезы и запустим A/B-тест а затем проанализируем результаты. "
   ]
  },
  {
   "cell_type": "markdown",
   "id": "f402163d",
   "metadata": {},
   "source": [
    "## Цель выявить наиболее эффективные гипотезы для повышения выручки интернет-магазина.\n",
    "## Разобем задачу на 2 части \n",
    "### Часть 1. Приоритизация гипотез. В дата-сете \"hypothesis.csv\" находятся гипотезы по увеличению выручки интернет-магазина.\n",
    "Наша задача с помощю приоритизации гипотез ICE и RICE отделить наиболее перспективные гипотезы от менее перспективных а так же выявить различия между методами приоритизации гипотез ICE и RICE.\\\n",
    "Датасет с гипотезами согласно документации содержит следующие данные:\n",
    "- Hypothesis — краткое описание гипотезы;\n",
    "- Reach — охват пользователей по 10-балльной шкале;\n",
    "- Impact — влияние на пользователей по 10-балльной шкале;\n",
    "- Confidence — уверенность в гипотезе по 10-балльной шкале;\n",
    "- Efforts — затраты ресурсов на проверку гипотезы по 10-балльной шкале. Чем больше значение Efforts, тем дороже проверка гипотезы."
   ]
  },
  {
   "cell_type": "markdown",
   "id": "90137e7c",
   "metadata": {},
   "source": [
    "------"
   ]
  },
  {
   "cell_type": "markdown",
   "id": "12009e95",
   "metadata": {},
   "source": [
    "### Часть 2. Анализ A/B-теста\n",
    "Мы провели A/B-тест и получили результаты, которые описаны в файлах \"orders.csv\" и \"visitors.csv\".\n",
    "\n",
    "Датасет с информацией о заказах согласно документации содержит следующие данные:\n",
    "- transactionId — идентификатор заказа;\n",
    "- visitorId — идентификатор пользователя, совершившего заказ;\n",
    "- date — дата, когда был совершён заказ;\n",
    "- revenue — выручка заказа;\n",
    "- group — группа A/B-теста, в которую попал заказ.\n",
    "\n",
    "Датасет с информацией о посещениях согласно документации содержит следующие данные:\n",
    "- date — дата;\n",
    "- group — группа A/B-теста;\n",
    "- visitors — количество пользователей в указанную дату в указанной группе A/B-теста\n",
    "\n",
    "Задача состоит в анализе A/B-тест:\n",
    "- Постройте графики:\n",
    "    - кумулятивной выручки по группам;\n",
    "    - кумулятивного среднего чека по группам; \n",
    "    - относительного изменения кумулятивного среднего чека группы B к группе A; \n",
    "    - кумулятивного среднего количества заказов на посетителя по группам;\n",
    "    - относительного изменения кумулятивного среднего количества заказов на посетителя группы B к группе A. С;\n",
    "    - точечный график количества заказов по пользователям;\n",
    "    - точечный график стоимостей заказов. Сделайте выводы и предположения.\n",
    "- Посчитайте: \n",
    "    - 95-й и 99-й перцентили количества заказов на пользователя. Выберите границу для определения аномальных пользователей;\n",
    "    - 95-й и 99-й перцентили стоимости заказов. Выберите границу для определения аномальных заказов;\n",
    "    - статистическую значимость различий в среднем количестве заказов на посетителя между группами по «сырым» данным. Сделайте выводы и предположения;\n",
    "    - статистическую значимость различий в среднем чеке заказа между группами по «сырым» данным. Сделайте выводы и предположения;\n",
    "    - статистическую значимость различий в среднем количестве заказов на посетителя между группами по «очищенным» данным. Сделайте выводы и предположения;\n",
    "    -  статистическую значимость различий в среднем чеке заказа между группами по «очищенным» данным. Сделайте выводы и предположения.\n",
    "- Примите решение по результатам теста и объясните его."
   ]
  },
  {
   "cell_type": "markdown",
   "id": "dda41ffe",
   "metadata": {},
   "source": [
    "------"
   ]
  },
  {
   "cell_type": "markdown",
   "id": "61e3d0de",
   "metadata": {},
   "source": [
    "<div class=\"alert alert-success\">\n",
    "    <b>✅ Комментарий ревьюера:</b>\n",
    "\n",
    "Введение принято!\n",
    "</div>"
   ]
  },
  {
   "cell_type": "code",
   "execution_count": 1,
   "id": "4dcfa587",
   "metadata": {},
   "outputs": [],
   "source": [
    "# загрузим необходимые библиотеки\n",
    "import pandas as pd\n",
    "import scipy.stats as stats\n",
    "import datetime as dt\n",
    "import numpy as np\n",
    "import matplotlib.pyplot as plt\n",
    "from pandas.plotting import register_matplotlib_converters\n",
    "import warnings"
   ]
  },
  {
   "cell_type": "code",
   "execution_count": 2,
   "id": "5c4f3ac3",
   "metadata": {},
   "outputs": [],
   "source": [
    "# откроем датасеты.\n",
    "try:\n",
    "    hypothesis,orders,visitors = (\n",
    "                        pd.read_csv('https://code.s3.yandex.net/datasets/hypothesis.csv'), # гипотезы\n",
    "                        pd.read_csv('https://code.s3.yandex.net/datasets/orders.csv'),  # заказы\n",
    "                        pd.read_csv('https://code.s3.yandex.net/datasets/visitors.csv'),)  # посещения\n",
    "except:\n",
    "    hypothesis,orders,visitors = (\n",
    "                        pd.read_csv('/datasets/hypothesis.csv'),  # гипотезы\n",
    "                        pd.read_csv('/datasets/orders.csv'),  # заказы\n",
    "                        pd.read_csv('/datasets/visitors.csv'),) # посещения "
   ]
  },
  {
   "cell_type": "markdown",
   "id": "b669c277",
   "metadata": {},
   "source": [
    "<div class=\"alert alert-success\">\n",
    "    <b>✅ Комментарий ревьюера:</b>\n",
    "\n",
    "👍 за конструкцию try-except!\n",
    "</div>"
   ]
  },
  {
   "cell_type": "markdown",
   "id": "dbd52ac7",
   "metadata": {},
   "source": [
    "# Часть 1. Приоритизация гипотез."
   ]
  },
  {
   "cell_type": "code",
   "execution_count": 3,
   "id": "e996d846",
   "metadata": {},
   "outputs": [
    {
     "data": {
      "text/html": [
       "<div>\n",
       "<style scoped>\n",
       "    .dataframe tbody tr th:only-of-type {\n",
       "        vertical-align: middle;\n",
       "    }\n",
       "\n",
       "    .dataframe tbody tr th {\n",
       "        vertical-align: top;\n",
       "    }\n",
       "\n",
       "    .dataframe thead th {\n",
       "        text-align: right;\n",
       "    }\n",
       "</style>\n",
       "<table border=\"1\" class=\"dataframe\">\n",
       "  <thead>\n",
       "    <tr style=\"text-align: right;\">\n",
       "      <th></th>\n",
       "      <th>Hypothesis</th>\n",
       "      <th>Reach</th>\n",
       "      <th>Impact</th>\n",
       "      <th>Confidence</th>\n",
       "      <th>Efforts</th>\n",
       "    </tr>\n",
       "  </thead>\n",
       "  <tbody>\n",
       "    <tr>\n",
       "      <th>0</th>\n",
       "      <td>Добавить два новых канала привлечения трафика,...</td>\n",
       "      <td>3</td>\n",
       "      <td>10</td>\n",
       "      <td>8</td>\n",
       "      <td>6</td>\n",
       "    </tr>\n",
       "    <tr>\n",
       "      <th>1</th>\n",
       "      <td>Запустить собственную службу доставки, что сок...</td>\n",
       "      <td>2</td>\n",
       "      <td>5</td>\n",
       "      <td>4</td>\n",
       "      <td>10</td>\n",
       "    </tr>\n",
       "    <tr>\n",
       "      <th>2</th>\n",
       "      <td>Добавить блоки рекомендаций товаров на сайт ин...</td>\n",
       "      <td>8</td>\n",
       "      <td>3</td>\n",
       "      <td>7</td>\n",
       "      <td>3</td>\n",
       "    </tr>\n",
       "    <tr>\n",
       "      <th>3</th>\n",
       "      <td>Изменить структура категорий, что увеличит кон...</td>\n",
       "      <td>8</td>\n",
       "      <td>3</td>\n",
       "      <td>3</td>\n",
       "      <td>8</td>\n",
       "    </tr>\n",
       "    <tr>\n",
       "      <th>4</th>\n",
       "      <td>Изменить цвет фона главной страницы, чтобы уве...</td>\n",
       "      <td>3</td>\n",
       "      <td>1</td>\n",
       "      <td>1</td>\n",
       "      <td>1</td>\n",
       "    </tr>\n",
       "    <tr>\n",
       "      <th>5</th>\n",
       "      <td>Добавить страницу отзывов клиентов о магазине,...</td>\n",
       "      <td>3</td>\n",
       "      <td>2</td>\n",
       "      <td>2</td>\n",
       "      <td>3</td>\n",
       "    </tr>\n",
       "    <tr>\n",
       "      <th>6</th>\n",
       "      <td>Показать на главной странице баннеры с актуаль...</td>\n",
       "      <td>5</td>\n",
       "      <td>3</td>\n",
       "      <td>8</td>\n",
       "      <td>3</td>\n",
       "    </tr>\n",
       "    <tr>\n",
       "      <th>7</th>\n",
       "      <td>Добавить форму подписки на все основные страни...</td>\n",
       "      <td>10</td>\n",
       "      <td>7</td>\n",
       "      <td>8</td>\n",
       "      <td>5</td>\n",
       "    </tr>\n",
       "    <tr>\n",
       "      <th>8</th>\n",
       "      <td>Запустить акцию, дающую скидку на товар в день...</td>\n",
       "      <td>1</td>\n",
       "      <td>9</td>\n",
       "      <td>9</td>\n",
       "      <td>5</td>\n",
       "    </tr>\n",
       "  </tbody>\n",
       "</table>\n",
       "</div>"
      ],
      "text/plain": [
       "                                          Hypothesis  Reach  Impact  \\\n",
       "0  Добавить два новых канала привлечения трафика,...      3      10   \n",
       "1  Запустить собственную службу доставки, что сок...      2       5   \n",
       "2  Добавить блоки рекомендаций товаров на сайт ин...      8       3   \n",
       "3  Изменить структура категорий, что увеличит кон...      8       3   \n",
       "4  Изменить цвет фона главной страницы, чтобы уве...      3       1   \n",
       "5  Добавить страницу отзывов клиентов о магазине,...      3       2   \n",
       "6  Показать на главной странице баннеры с актуаль...      5       3   \n",
       "7  Добавить форму подписки на все основные страни...     10       7   \n",
       "8  Запустить акцию, дающую скидку на товар в день...      1       9   \n",
       "\n",
       "   Confidence  Efforts  \n",
       "0           8        6  \n",
       "1           4       10  \n",
       "2           7        3  \n",
       "3           3        8  \n",
       "4           1        1  \n",
       "5           2        3  \n",
       "6           8        3  \n",
       "7           8        5  \n",
       "8           9        5  "
      ]
     },
     "execution_count": 3,
     "metadata": {},
     "output_type": "execute_result"
    }
   ],
   "source": [
    "hypothesis"
   ]
  },
  {
   "cell_type": "code",
   "execution_count": 4,
   "id": "3983421e",
   "metadata": {},
   "outputs": [
    {
     "name": "stdout",
     "output_type": "stream",
     "text": [
      "<class 'pandas.core.frame.DataFrame'>\n",
      "RangeIndex: 9 entries, 0 to 8\n",
      "Data columns (total 5 columns):\n",
      " #   Column      Non-Null Count  Dtype \n",
      "---  ------      --------------  ----- \n",
      " 0   Hypothesis  9 non-null      object\n",
      " 1   Reach       9 non-null      int64 \n",
      " 2   Impact      9 non-null      int64 \n",
      " 3   Confidence  9 non-null      int64 \n",
      " 4   Efforts     9 non-null      int64 \n",
      "dtypes: int64(4), object(1)\n",
      "memory usage: 488.0+ bytes\n"
     ]
    }
   ],
   "source": [
    "hypothesis.info()"
   ]
  },
  {
   "cell_type": "code",
   "execution_count": 5,
   "id": "f1ee6da4",
   "metadata": {},
   "outputs": [
    {
     "data": {
      "text/plain": [
       "array(['Добавить два новых канала привлечения трафика, что позволит привлекать на 30% больше пользователей',\n",
       "       'Запустить собственную службу доставки, что сократит срок доставки заказов',\n",
       "       'Добавить блоки рекомендаций товаров на сайт интернет магазина, чтобы повысить конверсию и средний чек заказа',\n",
       "       'Изменить структура категорий, что увеличит конверсию, т.к. пользователи быстрее найдут нужный товар',\n",
       "       'Изменить цвет фона главной страницы, чтобы увеличить вовлеченность пользователей',\n",
       "       'Добавить страницу отзывов клиентов о магазине, что позволит увеличить количество заказов',\n",
       "       'Показать на главной странице баннеры с актуальными акциями и распродажами, чтобы увеличить конверсию',\n",
       "       'Добавить форму подписки на все основные страницы, чтобы собрать базу клиентов для email-рассылок',\n",
       "       'Запустить акцию, дающую скидку на товар в день рождения'],\n",
       "      dtype=object)"
      ]
     },
     "execution_count": 5,
     "metadata": {},
     "output_type": "execute_result"
    }
   ],
   "source": [
    "hypothesis['Hypothesis'].unique()"
   ]
  },
  {
   "cell_type": "markdown",
   "id": "a5493206",
   "metadata": {},
   "source": [
    "Датасет с гипотезами содержат 9 гипотез и 5 столбцов, не имеет дубликатов."
   ]
  },
  {
   "cell_type": "markdown",
   "id": "9331f901",
   "metadata": {},
   "source": [
    "### Применим фреймворк ICE для приоритизации гипотез."
   ]
  },
  {
   "cell_type": "code",
   "execution_count": 6,
   "id": "133fc63f",
   "metadata": {},
   "outputs": [
    {
     "data": {
      "text/html": [
       "<div>\n",
       "<style scoped>\n",
       "    .dataframe tbody tr th:only-of-type {\n",
       "        vertical-align: middle;\n",
       "    }\n",
       "\n",
       "    .dataframe tbody tr th {\n",
       "        vertical-align: top;\n",
       "    }\n",
       "\n",
       "    .dataframe thead th {\n",
       "        text-align: right;\n",
       "    }\n",
       "</style>\n",
       "<table border=\"1\" class=\"dataframe\">\n",
       "  <thead>\n",
       "    <tr style=\"text-align: right;\">\n",
       "      <th></th>\n",
       "      <th>index</th>\n",
       "      <th>Hypothesis</th>\n",
       "      <th>ICE</th>\n",
       "    </tr>\n",
       "  </thead>\n",
       "  <tbody>\n",
       "    <tr>\n",
       "      <th>0</th>\n",
       "      <td>8</td>\n",
       "      <td>Запустить акцию, дающую скидку на товар в день...</td>\n",
       "      <td>16.20</td>\n",
       "    </tr>\n",
       "    <tr>\n",
       "      <th>1</th>\n",
       "      <td>0</td>\n",
       "      <td>Добавить два новых канала привлечения трафика,...</td>\n",
       "      <td>13.33</td>\n",
       "    </tr>\n",
       "    <tr>\n",
       "      <th>2</th>\n",
       "      <td>7</td>\n",
       "      <td>Добавить форму подписки на все основные страни...</td>\n",
       "      <td>11.20</td>\n",
       "    </tr>\n",
       "    <tr>\n",
       "      <th>3</th>\n",
       "      <td>6</td>\n",
       "      <td>Показать на главной странице баннеры с актуаль...</td>\n",
       "      <td>8.00</td>\n",
       "    </tr>\n",
       "    <tr>\n",
       "      <th>4</th>\n",
       "      <td>2</td>\n",
       "      <td>Добавить блоки рекомендаций товаров на сайт ин...</td>\n",
       "      <td>7.00</td>\n",
       "    </tr>\n",
       "    <tr>\n",
       "      <th>5</th>\n",
       "      <td>1</td>\n",
       "      <td>Запустить собственную службу доставки, что сок...</td>\n",
       "      <td>2.00</td>\n",
       "    </tr>\n",
       "    <tr>\n",
       "      <th>6</th>\n",
       "      <td>5</td>\n",
       "      <td>Добавить страницу отзывов клиентов о магазине,...</td>\n",
       "      <td>1.33</td>\n",
       "    </tr>\n",
       "    <tr>\n",
       "      <th>7</th>\n",
       "      <td>3</td>\n",
       "      <td>Изменить структура категорий, что увеличит кон...</td>\n",
       "      <td>1.12</td>\n",
       "    </tr>\n",
       "    <tr>\n",
       "      <th>8</th>\n",
       "      <td>4</td>\n",
       "      <td>Изменить цвет фона главной страницы, чтобы уве...</td>\n",
       "      <td>1.00</td>\n",
       "    </tr>\n",
       "  </tbody>\n",
       "</table>\n",
       "</div>"
      ],
      "text/plain": [
       "   index                                         Hypothesis    ICE\n",
       "0      8  Запустить акцию, дающую скидку на товар в день...  16.20\n",
       "1      0  Добавить два новых канала привлечения трафика,...  13.33\n",
       "2      7  Добавить форму подписки на все основные страни...  11.20\n",
       "3      6  Показать на главной странице баннеры с актуаль...   8.00\n",
       "4      2  Добавить блоки рекомендаций товаров на сайт ин...   7.00\n",
       "5      1  Запустить собственную службу доставки, что сок...   2.00\n",
       "6      5  Добавить страницу отзывов клиентов о магазине,...   1.33\n",
       "7      3  Изменить структура категорий, что увеличит кон...   1.12\n",
       "8      4  Изменить цвет фона главной страницы, чтобы уве...   1.00"
      ]
     },
     "execution_count": 6,
     "metadata": {},
     "output_type": "execute_result"
    }
   ],
   "source": [
    "# ICE = (Impact*Confidence)/Efforts\n",
    "hypothesis['ICE'] = (hypothesis['Impact']*hypothesis['Confidence'])/hypothesis['Efforts']\n",
    "hypothesis_ice = hypothesis[['Hypothesis', 'ICE']]\n",
    "# Отсортируем показатель по убыванию приоритета.\n",
    "hypothesis_ice = round(hypothesis_ice.sort_values(by='ICE', ascending=False).reset_index(),2)\n",
    "hypothesis_ice"
   ]
  },
  {
   "cell_type": "markdown",
   "id": "40378254",
   "metadata": {},
   "source": [
    "Выделяются три самых перспективных гипотез, а именно:\n",
    "- Запустить акцию, дающую скидку на товар в день рождения (16.20);\n",
    "- Добавить два новых канала привлечения трафика, что позволит привлекать на 30% больше пользователей (13.33);\n",
    "- Добавить форму подписки на все основные страницы, чтобы собрать базу клиентов для email-рассылок (11.20).\n",
    "\n",
    "Самыми слабыми гипотезами выступают:\n",
    "- Запустить собственную службу доставки, что сократит срок доставки заказов (1.33);\n",
    "- Изменить структура категорий, что увеличит конверсию, т.к. пользователи быстрее найдут нужный товар (1.12);\n",
    "- Изменить цвет фона главной страницы, чтобы увеличить вовлеченность пользователей (1).\n",
    "\n",
    "От слабых гипотез стоит отказаться. Посмотрим как изменится ситуация с фреймворком RICE."
   ]
  },
  {
   "cell_type": "markdown",
   "id": "3f9fa479",
   "metadata": {},
   "source": [
    "### Применим фреймворк RICE для приоритизации гипотез. "
   ]
  },
  {
   "cell_type": "code",
   "execution_count": 7,
   "id": "1a9dcdba",
   "metadata": {
    "scrolled": true
   },
   "outputs": [
    {
     "data": {
      "text/html": [
       "<div>\n",
       "<style scoped>\n",
       "    .dataframe tbody tr th:only-of-type {\n",
       "        vertical-align: middle;\n",
       "    }\n",
       "\n",
       "    .dataframe tbody tr th {\n",
       "        vertical-align: top;\n",
       "    }\n",
       "\n",
       "    .dataframe thead th {\n",
       "        text-align: right;\n",
       "    }\n",
       "</style>\n",
       "<table border=\"1\" class=\"dataframe\">\n",
       "  <thead>\n",
       "    <tr style=\"text-align: right;\">\n",
       "      <th></th>\n",
       "      <th>index</th>\n",
       "      <th>Hypothesis</th>\n",
       "      <th>RICE</th>\n",
       "    </tr>\n",
       "  </thead>\n",
       "  <tbody>\n",
       "    <tr>\n",
       "      <th>0</th>\n",
       "      <td>7</td>\n",
       "      <td>Добавить форму подписки на все основные страни...</td>\n",
       "      <td>112.0</td>\n",
       "    </tr>\n",
       "    <tr>\n",
       "      <th>1</th>\n",
       "      <td>2</td>\n",
       "      <td>Добавить блоки рекомендаций товаров на сайт ин...</td>\n",
       "      <td>56.0</td>\n",
       "    </tr>\n",
       "    <tr>\n",
       "      <th>2</th>\n",
       "      <td>0</td>\n",
       "      <td>Добавить два новых канала привлечения трафика,...</td>\n",
       "      <td>40.0</td>\n",
       "    </tr>\n",
       "    <tr>\n",
       "      <th>3</th>\n",
       "      <td>6</td>\n",
       "      <td>Показать на главной странице баннеры с актуаль...</td>\n",
       "      <td>40.0</td>\n",
       "    </tr>\n",
       "    <tr>\n",
       "      <th>4</th>\n",
       "      <td>8</td>\n",
       "      <td>Запустить акцию, дающую скидку на товар в день...</td>\n",
       "      <td>16.2</td>\n",
       "    </tr>\n",
       "    <tr>\n",
       "      <th>5</th>\n",
       "      <td>3</td>\n",
       "      <td>Изменить структура категорий, что увеличит кон...</td>\n",
       "      <td>9.0</td>\n",
       "    </tr>\n",
       "    <tr>\n",
       "      <th>6</th>\n",
       "      <td>1</td>\n",
       "      <td>Запустить собственную службу доставки, что сок...</td>\n",
       "      <td>4.0</td>\n",
       "    </tr>\n",
       "    <tr>\n",
       "      <th>7</th>\n",
       "      <td>5</td>\n",
       "      <td>Добавить страницу отзывов клиентов о магазине,...</td>\n",
       "      <td>4.0</td>\n",
       "    </tr>\n",
       "    <tr>\n",
       "      <th>8</th>\n",
       "      <td>4</td>\n",
       "      <td>Изменить цвет фона главной страницы, чтобы уве...</td>\n",
       "      <td>3.0</td>\n",
       "    </tr>\n",
       "  </tbody>\n",
       "</table>\n",
       "</div>"
      ],
      "text/plain": [
       "   index                                         Hypothesis   RICE\n",
       "0      7  Добавить форму подписки на все основные страни...  112.0\n",
       "1      2  Добавить блоки рекомендаций товаров на сайт ин...   56.0\n",
       "2      0  Добавить два новых канала привлечения трафика,...   40.0\n",
       "3      6  Показать на главной странице баннеры с актуаль...   40.0\n",
       "4      8  Запустить акцию, дающую скидку на товар в день...   16.2\n",
       "5      3  Изменить структура категорий, что увеличит кон...    9.0\n",
       "6      1  Запустить собственную службу доставки, что сок...    4.0\n",
       "7      5  Добавить страницу отзывов клиентов о магазине,...    4.0\n",
       "8      4  Изменить цвет фона главной страницы, чтобы уве...    3.0"
      ]
     },
     "execution_count": 7,
     "metadata": {},
     "output_type": "execute_result"
    }
   ],
   "source": [
    "# RICE = (Reach*Impact*Confidence)/Efforts\n",
    "hypothesis['RICE'] = (hypothesis['Reach']*hypothesis['Impact']*hypothesis['Confidence'])/hypothesis['Efforts']\n",
    "hypothesis_rice = hypothesis[['Hypothesis', 'RICE']]\n",
    "# Отсортируем показатель по убыванию приоритета.\n",
    "\n",
    "hypothesis_rice = hypothesis_rice.sort_values(by='RICE', ascending=False).reset_index()\n",
    "hypothesis_rice"
   ]
  },
  {
   "cell_type": "code",
   "execution_count": 8,
   "id": "1cdbc6f3",
   "metadata": {},
   "outputs": [],
   "source": [
    "# для отображения всех столбцов с описанием гипотез воспользуемся настройкой pd.set_option\n",
    "pd.set_option('display.max_colwidth', 0)"
   ]
  },
  {
   "cell_type": "code",
   "execution_count": 9,
   "id": "a1fdd9d2",
   "metadata": {},
   "outputs": [
    {
     "data": {
      "text/html": [
       "<div>\n",
       "<style scoped>\n",
       "    .dataframe tbody tr th:only-of-type {\n",
       "        vertical-align: middle;\n",
       "    }\n",
       "\n",
       "    .dataframe tbody tr th {\n",
       "        vertical-align: top;\n",
       "    }\n",
       "\n",
       "    .dataframe thead th {\n",
       "        text-align: right;\n",
       "    }\n",
       "</style>\n",
       "<table border=\"1\" class=\"dataframe\">\n",
       "  <thead>\n",
       "    <tr style=\"text-align: right;\">\n",
       "      <th></th>\n",
       "      <th>index</th>\n",
       "      <th>Hypothesis</th>\n",
       "      <th>RICE</th>\n",
       "      <th>ICE</th>\n",
       "    </tr>\n",
       "  </thead>\n",
       "  <tbody>\n",
       "    <tr>\n",
       "      <th>0</th>\n",
       "      <td>7</td>\n",
       "      <td>Добавить форму подписки на все основные страницы, чтобы собрать базу клиентов для email-рассылок</td>\n",
       "      <td>112.0</td>\n",
       "      <td>11.20</td>\n",
       "    </tr>\n",
       "    <tr>\n",
       "      <th>1</th>\n",
       "      <td>2</td>\n",
       "      <td>Добавить блоки рекомендаций товаров на сайт интернет магазина, чтобы повысить конверсию и средний чек заказа</td>\n",
       "      <td>56.0</td>\n",
       "      <td>7.00</td>\n",
       "    </tr>\n",
       "    <tr>\n",
       "      <th>2</th>\n",
       "      <td>0</td>\n",
       "      <td>Добавить два новых канала привлечения трафика, что позволит привлекать на 30% больше пользователей</td>\n",
       "      <td>40.0</td>\n",
       "      <td>13.33</td>\n",
       "    </tr>\n",
       "    <tr>\n",
       "      <th>3</th>\n",
       "      <td>6</td>\n",
       "      <td>Показать на главной странице баннеры с актуальными акциями и распродажами, чтобы увеличить конверсию</td>\n",
       "      <td>40.0</td>\n",
       "      <td>8.00</td>\n",
       "    </tr>\n",
       "    <tr>\n",
       "      <th>4</th>\n",
       "      <td>8</td>\n",
       "      <td>Запустить акцию, дающую скидку на товар в день рождения</td>\n",
       "      <td>16.2</td>\n",
       "      <td>16.20</td>\n",
       "    </tr>\n",
       "    <tr>\n",
       "      <th>5</th>\n",
       "      <td>3</td>\n",
       "      <td>Изменить структура категорий, что увеличит конверсию, т.к. пользователи быстрее найдут нужный товар</td>\n",
       "      <td>9.0</td>\n",
       "      <td>1.12</td>\n",
       "    </tr>\n",
       "    <tr>\n",
       "      <th>6</th>\n",
       "      <td>1</td>\n",
       "      <td>Запустить собственную службу доставки, что сократит срок доставки заказов</td>\n",
       "      <td>4.0</td>\n",
       "      <td>2.00</td>\n",
       "    </tr>\n",
       "    <tr>\n",
       "      <th>7</th>\n",
       "      <td>5</td>\n",
       "      <td>Добавить страницу отзывов клиентов о магазине, что позволит увеличить количество заказов</td>\n",
       "      <td>4.0</td>\n",
       "      <td>1.33</td>\n",
       "    </tr>\n",
       "    <tr>\n",
       "      <th>8</th>\n",
       "      <td>4</td>\n",
       "      <td>Изменить цвет фона главной страницы, чтобы увеличить вовлеченность пользователей</td>\n",
       "      <td>3.0</td>\n",
       "      <td>1.00</td>\n",
       "    </tr>\n",
       "  </tbody>\n",
       "</table>\n",
       "</div>"
      ],
      "text/plain": [
       "   index  \\\n",
       "0  7       \n",
       "1  2       \n",
       "2  0       \n",
       "3  6       \n",
       "4  8       \n",
       "5  3       \n",
       "6  1       \n",
       "7  5       \n",
       "8  4       \n",
       "\n",
       "                                                                                                     Hypothesis  \\\n",
       "0  Добавить форму подписки на все основные страницы, чтобы собрать базу клиентов для email-рассылок               \n",
       "1  Добавить блоки рекомендаций товаров на сайт интернет магазина, чтобы повысить конверсию и средний чек заказа   \n",
       "2  Добавить два новых канала привлечения трафика, что позволит привлекать на 30% больше пользователей             \n",
       "3  Показать на главной странице баннеры с актуальными акциями и распродажами, чтобы увеличить конверсию           \n",
       "4  Запустить акцию, дающую скидку на товар в день рождения                                                        \n",
       "5  Изменить структура категорий, что увеличит конверсию, т.к. пользователи быстрее найдут нужный товар            \n",
       "6  Запустить собственную службу доставки, что сократит срок доставки заказов                                      \n",
       "7  Добавить страницу отзывов клиентов о магазине, что позволит увеличить количество заказов                       \n",
       "8  Изменить цвет фона главной страницы, чтобы увеличить вовлеченность пользователей                               \n",
       "\n",
       "    RICE    ICE  \n",
       "0  112.0  11.20  \n",
       "1  56.0   7.00   \n",
       "2  40.0   13.33  \n",
       "3  40.0   8.00   \n",
       "4  16.2   16.20  \n",
       "5  9.0    1.12   \n",
       "6  4.0    2.00   \n",
       "7  4.0    1.33   \n",
       "8  3.0    1.00   "
      ]
     },
     "execution_count": 9,
     "metadata": {},
     "output_type": "execute_result"
    }
   ],
   "source": [
    "hypothesis_rice.merge(hypothesis_ice)"
   ]
  },
  {
   "cell_type": "markdown",
   "id": "8c998534",
   "metadata": {},
   "source": [
    "Наиболее перспективная гипотеза приоритизации задач с помошью фреймворка RICE:\n",
    "- Добавить форму подписки на все основные страницы, чтобы собрать базу клиентов для email-рассылок (112);\n",
    "- Добавить блоки рекомендаций товаров на сайт интернет магазина, чтобы повысить конверсию и средний чек заказа (56);\n",
    "- Добавить два новых канала привлечения трафика, что позволит привлекать на 30% больше пользователей (40);\n",
    "- Показать на главной странице баннеры с актуальными акциями и распродажами, чтобы увеличить конверсию (40).\n",
    "\n",
    "Самыми слабыми выступают гипотезы:\n",
    "- Запустить собственную службу доставки, что сократит срок доставки заказов (4);\n",
    "- Добавить страницу отзывов клиентов о магазине, что позволит увеличить количество заказов (4);\n",
    "- Изменить цвет фона главной страницы, чтобы увеличить вовлеченность пользователей (4)."
   ]
  },
  {
   "cell_type": "markdown",
   "id": "1f7703d3",
   "metadata": {},
   "source": [
    " ### Посмотрим как изменилась приоритизация гипотез при применении RICE вместо ICE."
   ]
  },
  {
   "cell_type": "markdown",
   "id": "a7e2410e",
   "metadata": {},
   "source": [
    "Так как способ приоритизации задач - RICE включает параметр Reach (оценка силы охвата изменений на пользователей) то он отличается от показателей полученых от применения фреймворка ICE\n",
    "\n",
    "Наиболее слабыми гипотезами в обоих фрейморках выступают гипотезы: \n",
    "- 1 Запустить собственную службу доставки, что сократит срок доставки заказов (ICE 2)(RICE 4) \n",
    "- 4 Изменить цвет фона главной страницы, чтобы увеличить вовлеченность пользователей (ICE 1) (RICE 4)\n",
    "- 5 Добавить страницу отзывов клиентов о магазине, что позволит увеличить количество заказов (ICE 1.33) (RICE 4) \n",
    "- 3 Изменить структура категорий, что увеличит конверсию, т.к. пользователи быстрее найдут нужный товар (ICE 1.12) (RICE 9.0 )\n",
    "\n",
    "От них стоит отказаться так как затраты на эти гипотезы никогда себя не окупят.\n",
    "\n",
    "В обоих фреймворках наиболее удачными гипотезами которые стоит проверить выступают:\n",
    "- 0 Добавить два новых канала привлечения трафика, что позволит привлекать на 30% больше пользователей (ICE 13.33) (RICE 40) \n",
    "- 7 Добавить форму подписки на все основные страницы, чтобы собрать базу клиентов для email-рассылок (ICE 11.20) (RICE 112)\n",
    "\n",
    "При этом гипотеза  - 6 Показать на главной странице баннеры с актуальными акциями и распродажами, чтобы увеличить конверсию (ICE  8) (RICE 40) так и осталась в обоих случаях на 4 месте.\n",
    "\n",
    "Сильнее всего изменились две гипотезы:\n",
    "- 8 Запустить акцию, дающую скидку на товар в день рождения (ICE 8.00) (RICE 16.20) опустилась на 4 пункта так как уверенность у гипотезы высокая но охват и влияние низкое.\n",
    "\n",
    "Наиболее перспективная гипотеза приоритизации задач с помошью фреймворка RICE:\n",
    "- 2 Добавить блоки рекомендаций товаров на сайт интернет магазина, чтобы повысить конверсию и средний чек заказа (ICE 7.00) (RICE 56) поднялась на 3 пункта (с 5 места по 2) так как охват у гипотезы высокий но влияние низкое."
   ]
  },
  {
   "cell_type": "markdown",
   "id": "46f35496",
   "metadata": {},
   "source": [
    "# Часть 2. Анализ A/B-теста"
   ]
  },
  {
   "cell_type": "code",
   "execution_count": 10,
   "id": "7c3bf429",
   "metadata": {},
   "outputs": [
    {
     "data": {
      "text/html": [
       "<div>\n",
       "<style scoped>\n",
       "    .dataframe tbody tr th:only-of-type {\n",
       "        vertical-align: middle;\n",
       "    }\n",
       "\n",
       "    .dataframe tbody tr th {\n",
       "        vertical-align: top;\n",
       "    }\n",
       "\n",
       "    .dataframe thead th {\n",
       "        text-align: right;\n",
       "    }\n",
       "</style>\n",
       "<table border=\"1\" class=\"dataframe\">\n",
       "  <thead>\n",
       "    <tr style=\"text-align: right;\">\n",
       "      <th></th>\n",
       "      <th>transactionId</th>\n",
       "      <th>visitorId</th>\n",
       "      <th>date</th>\n",
       "      <th>revenue</th>\n",
       "      <th>group</th>\n",
       "    </tr>\n",
       "  </thead>\n",
       "  <tbody>\n",
       "    <tr>\n",
       "      <th>0</th>\n",
       "      <td>3667963787</td>\n",
       "      <td>3312258926</td>\n",
       "      <td>2019-08-15</td>\n",
       "      <td>1650</td>\n",
       "      <td>B</td>\n",
       "    </tr>\n",
       "    <tr>\n",
       "      <th>1</th>\n",
       "      <td>2804400009</td>\n",
       "      <td>3642806036</td>\n",
       "      <td>2019-08-15</td>\n",
       "      <td>730</td>\n",
       "      <td>B</td>\n",
       "    </tr>\n",
       "    <tr>\n",
       "      <th>2</th>\n",
       "      <td>2961555356</td>\n",
       "      <td>4069496402</td>\n",
       "      <td>2019-08-15</td>\n",
       "      <td>400</td>\n",
       "      <td>A</td>\n",
       "    </tr>\n",
       "    <tr>\n",
       "      <th>3</th>\n",
       "      <td>3797467345</td>\n",
       "      <td>1196621759</td>\n",
       "      <td>2019-08-15</td>\n",
       "      <td>9759</td>\n",
       "      <td>B</td>\n",
       "    </tr>\n",
       "    <tr>\n",
       "      <th>4</th>\n",
       "      <td>2282983706</td>\n",
       "      <td>2322279887</td>\n",
       "      <td>2019-08-15</td>\n",
       "      <td>2308</td>\n",
       "      <td>B</td>\n",
       "    </tr>\n",
       "  </tbody>\n",
       "</table>\n",
       "</div>"
      ],
      "text/plain": [
       "   transactionId   visitorId        date  revenue group\n",
       "0  3667963787     3312258926  2019-08-15  1650     B   \n",
       "1  2804400009     3642806036  2019-08-15  730      B   \n",
       "2  2961555356     4069496402  2019-08-15  400      A   \n",
       "3  3797467345     1196621759  2019-08-15  9759     B   \n",
       "4  2282983706     2322279887  2019-08-15  2308     B   "
      ]
     },
     "execution_count": 10,
     "metadata": {},
     "output_type": "execute_result"
    }
   ],
   "source": [
    "orders.head(5)"
   ]
  },
  {
   "cell_type": "code",
   "execution_count": 11,
   "id": "587e8617",
   "metadata": {},
   "outputs": [
    {
     "name": "stdout",
     "output_type": "stream",
     "text": [
      "<class 'pandas.core.frame.DataFrame'>\n",
      "RangeIndex: 1197 entries, 0 to 1196\n",
      "Data columns (total 5 columns):\n",
      " #   Column         Non-Null Count  Dtype \n",
      "---  ------         --------------  ----- \n",
      " 0   transactionId  1197 non-null   int64 \n",
      " 1   visitorId      1197 non-null   int64 \n",
      " 2   date           1197 non-null   object\n",
      " 3   revenue        1197 non-null   int64 \n",
      " 4   group          1197 non-null   object\n",
      "dtypes: int64(3), object(2)\n",
      "memory usage: 46.9+ KB\n"
     ]
    }
   ],
   "source": [
    "orders.info()"
   ]
  },
  {
   "cell_type": "markdown",
   "id": "f7c928bd",
   "metadata": {},
   "source": [
    "В датасете с заказами 5 столбцов и 1197 строк. Данных достаточно для проведения A/B тестирования. Для екселя, еще есть возможность для обработки такого кол-ва записей. Но он будет обрабатывать такое кол-во данных на пределе сил. Для Sql это слишком маленькая выборка. По этому лучше всего воспользоваться силами Python."
   ]
  },
  {
   "cell_type": "code",
   "execution_count": 12,
   "id": "33d7f7a3",
   "metadata": {},
   "outputs": [],
   "source": [
    "# изменим тип данных  в столбце с датами\n",
    "orders['date'] = orders['date'].map(lambda x: dt.datetime.strptime(x, '%Y-%m-%d'))"
   ]
  },
  {
   "cell_type": "code",
   "execution_count": 13,
   "id": "820c6b2f",
   "metadata": {},
   "outputs": [
    {
     "name": "stdout",
     "output_type": "stream",
     "text": [
      "2019-08-01 00:00:00\n",
      "2019-08-31 00:00:00\n",
      "30 days 00:00:00\n"
     ]
    }
   ],
   "source": [
    "print(orders['date'].min())\n",
    "print(orders['date'].max())\n",
    "print(orders['date'].max()-orders['date'].min())"
   ]
  },
  {
   "cell_type": "markdown",
   "id": "a96cf182",
   "metadata": {},
   "source": [
    "Тестирование проводилось с 1 августа 2019 года по 31 августа 2019 года."
   ]
  },
  {
   "cell_type": "code",
   "execution_count": 14,
   "id": "d772a4d9",
   "metadata": {},
   "outputs": [
    {
     "data": {
      "text/plain": [
       "count    1.197000e+03\n",
       "mean     8.348006e+03\n",
       "std      3.919113e+04\n",
       "min      5.000000e+01\n",
       "25%      1.220000e+03\n",
       "50%      2.978000e+03\n",
       "75%      8.290000e+03\n",
       "max      1.294500e+06\n",
       "Name: revenue, dtype: float64"
      ]
     },
     "execution_count": 14,
     "metadata": {},
     "output_type": "execute_result"
    }
   ],
   "source": [
    "orders['revenue'].describe()"
   ]
  },
  {
   "cell_type": "code",
   "execution_count": 15,
   "id": "5c3c6a2a",
   "metadata": {},
   "outputs": [
    {
     "data": {
      "text/plain": [
       "<AxesSubplot:>"
      ]
     },
     "execution_count": 15,
     "metadata": {},
     "output_type": "execute_result"
    },
    {
     "data": {
      "image/png": "[encoded data removed]",
      "text/plain": [
       "<Figure size 432x288 with 1 Axes>"
      ]
     },
     "metadata": {
      "needs_background": "light"
     },
     "output_type": "display_data"
    }
   ],
   "source": [
    "orders['revenue'].hist(range = (1,40000))"
   ]
  },
  {
   "cell_type": "code",
   "execution_count": 16,
   "id": "95f46714",
   "metadata": {},
   "outputs": [
    {
     "data": {
      "text/plain": [
       "B    640\n",
       "A    557\n",
       "Name: group, dtype: int64"
      ]
     },
     "execution_count": 16,
     "metadata": {},
     "output_type": "execute_result"
    }
   ],
   "source": [
    "orders['group'].value_counts()"
   ]
  },
  {
   "cell_type": "markdown",
   "id": "cb2a339a",
   "metadata": {},
   "source": [
    "группа 'B' больше выборки 'A' возможно в группе 'B' больше пользователей которые 2 и более раза совершали заказ."
   ]
  },
  {
   "cell_type": "code",
   "execution_count": 17,
   "id": "5a3942da",
   "metadata": {},
   "outputs": [
    {
     "data": {
      "text/plain": [
       "group\n",
       "A    503\n",
       "B    586\n",
       "Name: visitorId, dtype: int64"
      ]
     },
     "execution_count": 17,
     "metadata": {},
     "output_type": "execute_result"
    }
   ],
   "source": [
    "group_orders = orders.groupby('group')['visitorId'].nunique()\n",
    "group_orders"
   ]
  },
  {
   "cell_type": "code",
   "execution_count": 18,
   "id": "64f9273c",
   "metadata": {},
   "outputs": [
    {
     "name": "stdout",
     "output_type": "stream",
     "text": [
      "53.81083562901745\n",
      "46.18916437098255\n"
     ]
    }
   ],
   "source": [
    "print(group_orders['B']/(group_orders['A']+group_orders['B'])*100)\n",
    "print(group_orders['A']/(group_orders['A']+group_orders['B'])*100)"
   ]
  },
  {
   "cell_type": "markdown",
   "id": "ab3a9f17",
   "metadata": {},
   "source": [
    "группа 'B' больше группы 'A' на 7.63 %"
   ]
  },
  {
   "cell_type": "code",
   "execution_count": 19,
   "id": "197897fb",
   "metadata": {},
   "outputs": [
    {
     "name": "stdout",
     "output_type": "stream",
     "text": [
      "166\n",
      "0\n"
     ]
    }
   ],
   "source": [
    "print(orders['visitorId'].duplicated().sum())\n",
    "print(orders['transactionId'].duplicated().sum())"
   ]
  },
  {
   "cell_type": "markdown",
   "id": "484ef8d6",
   "metadata": {},
   "source": [
    "У заказов дубликаты отсутствуют. Посетители могут и за день делать разные заказы. "
   ]
  },
  {
   "cell_type": "markdown",
   "id": "059fbdb5",
   "metadata": {},
   "source": [
    "Проверим столбец с посешением."
   ]
  },
  {
   "cell_type": "code",
   "execution_count": 20,
   "id": "4e91a151",
   "metadata": {},
   "outputs": [
    {
     "data": {
      "text/html": [
       "<div>\n",
       "<style scoped>\n",
       "    .dataframe tbody tr th:only-of-type {\n",
       "        vertical-align: middle;\n",
       "    }\n",
       "\n",
       "    .dataframe tbody tr th {\n",
       "        vertical-align: top;\n",
       "    }\n",
       "\n",
       "    .dataframe thead th {\n",
       "        text-align: right;\n",
       "    }\n",
       "</style>\n",
       "<table border=\"1\" class=\"dataframe\">\n",
       "  <thead>\n",
       "    <tr style=\"text-align: right;\">\n",
       "      <th></th>\n",
       "      <th>date</th>\n",
       "      <th>group</th>\n",
       "      <th>visitors</th>\n",
       "    </tr>\n",
       "  </thead>\n",
       "  <tbody>\n",
       "    <tr>\n",
       "      <th>0</th>\n",
       "      <td>2019-08-01</td>\n",
       "      <td>A</td>\n",
       "      <td>719</td>\n",
       "    </tr>\n",
       "    <tr>\n",
       "      <th>1</th>\n",
       "      <td>2019-08-02</td>\n",
       "      <td>A</td>\n",
       "      <td>619</td>\n",
       "    </tr>\n",
       "    <tr>\n",
       "      <th>2</th>\n",
       "      <td>2019-08-03</td>\n",
       "      <td>A</td>\n",
       "      <td>507</td>\n",
       "    </tr>\n",
       "    <tr>\n",
       "      <th>3</th>\n",
       "      <td>2019-08-04</td>\n",
       "      <td>A</td>\n",
       "      <td>717</td>\n",
       "    </tr>\n",
       "    <tr>\n",
       "      <th>4</th>\n",
       "      <td>2019-08-05</td>\n",
       "      <td>A</td>\n",
       "      <td>756</td>\n",
       "    </tr>\n",
       "  </tbody>\n",
       "</table>\n",
       "</div>"
      ],
      "text/plain": [
       "         date group  visitors\n",
       "0  2019-08-01  A     719     \n",
       "1  2019-08-02  A     619     \n",
       "2  2019-08-03  A     507     \n",
       "3  2019-08-04  A     717     \n",
       "4  2019-08-05  A     756     "
      ]
     },
     "execution_count": 20,
     "metadata": {},
     "output_type": "execute_result"
    }
   ],
   "source": [
    "visitors.head(5)"
   ]
  },
  {
   "cell_type": "code",
   "execution_count": 21,
   "id": "22f731b1",
   "metadata": {},
   "outputs": [
    {
     "name": "stdout",
     "output_type": "stream",
     "text": [
      "<class 'pandas.core.frame.DataFrame'>\n",
      "RangeIndex: 62 entries, 0 to 61\n",
      "Data columns (total 3 columns):\n",
      " #   Column    Non-Null Count  Dtype \n",
      "---  ------    --------------  ----- \n",
      " 0   date      62 non-null     object\n",
      " 1   group     62 non-null     object\n",
      " 2   visitors  62 non-null     int64 \n",
      "dtypes: int64(1), object(2)\n",
      "memory usage: 1.6+ KB\n"
     ]
    }
   ],
   "source": [
    "visitors.info()"
   ]
  },
  {
   "cell_type": "markdown",
   "id": "58e11ea8",
   "metadata": {},
   "source": [
    "3 столбца с 62 значениями."
   ]
  },
  {
   "cell_type": "markdown",
   "id": "f380e6ad",
   "metadata": {},
   "source": [
    "Переведем даты к необходимому формату"
   ]
  },
  {
   "cell_type": "code",
   "execution_count": 22,
   "id": "8fcaefbd",
   "metadata": {},
   "outputs": [],
   "source": [
    "# изменим тип данных  в столбце с датами\n",
    "visitors['date'] = visitors['date'].map(lambda x: dt.datetime.strptime(x, '%Y-%m-%d'))"
   ]
  },
  {
   "cell_type": "code",
   "execution_count": 23,
   "id": "35a649a7",
   "metadata": {},
   "outputs": [
    {
     "name": "stdout",
     "output_type": "stream",
     "text": [
      "2019-08-01 00:00:00\n",
      "2019-08-31 00:00:00\n",
      "30 days 00:00:00\n"
     ]
    }
   ],
   "source": [
    "print(visitors['date'].min())\n",
    "print(visitors['date'].max())\n",
    "print(visitors['date'].max()-orders['date'].min())"
   ]
  },
  {
   "cell_type": "markdown",
   "id": "b2da2041",
   "metadata": {},
   "source": [
    "Период тот же что и в датасете с заказами."
   ]
  },
  {
   "cell_type": "code",
   "execution_count": 24,
   "id": "f42dc4ad",
   "metadata": {},
   "outputs": [
    {
     "data": {
      "text/plain": [
       "count    62.000000 \n",
       "mean     607.290323\n",
       "std      114.400560\n",
       "min      361.000000\n",
       "25%      534.000000\n",
       "50%      624.500000\n",
       "75%      710.500000\n",
       "max      770.000000\n",
       "Name: visitors, dtype: float64"
      ]
     },
     "execution_count": 24,
     "metadata": {},
     "output_type": "execute_result"
    }
   ],
   "source": [
    "visitors['visitors'].describe()"
   ]
  },
  {
   "cell_type": "code",
   "execution_count": 25,
   "id": "2b5d8948",
   "metadata": {},
   "outputs": [
    {
     "data": {
      "image/png": "[encoded data removed]",
      "text/plain": [
       "<Figure size 432x288 with 1 Axes>"
      ]
     },
     "metadata": {
      "needs_background": "light"
     },
     "output_type": "display_data"
    }
   ],
   "source": [
    "visitors['visitors'].hist();"
   ]
  },
  {
   "cell_type": "code",
   "execution_count": 26,
   "id": "49d7d4e5",
   "metadata": {},
   "outputs": [
    {
     "data": {
      "text/plain": [
       "A    31\n",
       "B    31\n",
       "Name: group, dtype: int64"
      ]
     },
     "execution_count": 26,
     "metadata": {},
     "output_type": "execute_result"
    }
   ],
   "source": [
    "visitors['group'].value_counts()"
   ]
  },
  {
   "cell_type": "markdown",
   "id": "7b1360ee",
   "metadata": {},
   "source": [
    "Данные по датасету с посещением проверены, даты приведены к необходимым форматам данных."
   ]
  },
  {
   "cell_type": "code",
   "execution_count": 27,
   "id": "42192534",
   "metadata": {},
   "outputs": [
    {
     "name": "stdout",
     "output_type": "stream",
     "text": [
      "<class 'pandas.core.frame.DataFrame'>\n",
      "RangeIndex: 1197 entries, 0 to 1196\n",
      "Data columns (total 5 columns):\n",
      " #   Column         Non-Null Count  Dtype         \n",
      "---  ------         --------------  -----         \n",
      " 0   transactionId  1197 non-null   int64         \n",
      " 1   visitorId      1197 non-null   int64         \n",
      " 2   date           1197 non-null   datetime64[ns]\n",
      " 3   revenue        1197 non-null   int64         \n",
      " 4   group          1197 non-null   object        \n",
      "dtypes: datetime64[ns](1), int64(3), object(1)\n",
      "memory usage: 46.9+ KB\n",
      "None\n",
      "<class 'pandas.core.frame.DataFrame'>\n",
      "RangeIndex: 62 entries, 0 to 61\n",
      "Data columns (total 3 columns):\n",
      " #   Column    Non-Null Count  Dtype         \n",
      "---  ------    --------------  -----         \n",
      " 0   date      62 non-null     datetime64[ns]\n",
      " 1   group     62 non-null     object        \n",
      " 2   visitors  62 non-null     int64         \n",
      "dtypes: datetime64[ns](1), int64(1), object(1)\n",
      "memory usage: 1.6+ KB\n",
      "None\n"
     ]
    }
   ],
   "source": [
    "print(orders.info())\n",
    "print(visitors.info()) "
   ]
  },
  {
   "cell_type": "markdown",
   "id": "c65b07da",
   "metadata": {},
   "source": [
    "----------------"
   ]
  },
  {
   "cell_type": "markdown",
   "id": "28eef23c",
   "metadata": {},
   "source": [
    "Данные проверены, можно начинать подготовку к проведению A/B тестированию"
   ]
  },
  {
   "cell_type": "code",
   "execution_count": 28,
   "id": "9942cbc9",
   "metadata": {},
   "outputs": [
    {
     "data": {
      "text/html": [
       "<div>\n",
       "<style scoped>\n",
       "    .dataframe tbody tr th:only-of-type {\n",
       "        vertical-align: middle;\n",
       "    }\n",
       "\n",
       "    .dataframe tbody tr th {\n",
       "        vertical-align: top;\n",
       "    }\n",
       "\n",
       "    .dataframe thead th {\n",
       "        text-align: right;\n",
       "    }\n",
       "</style>\n",
       "<table border=\"1\" class=\"dataframe\">\n",
       "  <thead>\n",
       "    <tr style=\"text-align: right;\">\n",
       "      <th></th>\n",
       "      <th>visitorId</th>\n",
       "      <th>group</th>\n",
       "    </tr>\n",
       "  </thead>\n",
       "  <tbody>\n",
       "    <tr>\n",
       "      <th>703</th>\n",
       "      <td>8300375</td>\n",
       "      <td>A</td>\n",
       "    </tr>\n",
       "    <tr>\n",
       "      <th>823</th>\n",
       "      <td>199603092</td>\n",
       "      <td>A</td>\n",
       "    </tr>\n",
       "    <tr>\n",
       "      <th>246</th>\n",
       "      <td>199603092</td>\n",
       "      <td>B</td>\n",
       "    </tr>\n",
       "    <tr>\n",
       "      <th>1102</th>\n",
       "      <td>199603092</td>\n",
       "      <td>A</td>\n",
       "    </tr>\n",
       "    <tr>\n",
       "      <th>134</th>\n",
       "      <td>199603092</td>\n",
       "      <td>A</td>\n",
       "    </tr>\n",
       "    <tr>\n",
       "      <th>...</th>\n",
       "      <td>...</td>\n",
       "      <td>...</td>\n",
       "    </tr>\n",
       "    <tr>\n",
       "      <th>873</th>\n",
       "      <td>4256040402</td>\n",
       "      <td>B</td>\n",
       "    </tr>\n",
       "    <tr>\n",
       "      <th>901</th>\n",
       "      <td>4256040402</td>\n",
       "      <td>A</td>\n",
       "    </tr>\n",
       "    <tr>\n",
       "      <th>187</th>\n",
       "      <td>4256040402</td>\n",
       "      <td>A</td>\n",
       "    </tr>\n",
       "    <tr>\n",
       "      <th>114</th>\n",
       "      <td>4256040402</td>\n",
       "      <td>A</td>\n",
       "    </tr>\n",
       "    <tr>\n",
       "      <th>682</th>\n",
       "      <td>4266935830</td>\n",
       "      <td>B</td>\n",
       "    </tr>\n",
       "  </tbody>\n",
       "</table>\n",
       "<p>166 rows × 2 columns</p>\n",
       "</div>"
      ],
      "text/plain": [
       "       visitorId group\n",
       "703   8300375     A   \n",
       "823   199603092   A   \n",
       "246   199603092   B   \n",
       "1102  199603092   A   \n",
       "134   199603092   A   \n",
       "...         ...  ..   \n",
       "873   4256040402  B   \n",
       "901   4256040402  A   \n",
       "187   4256040402  A   \n",
       "114   4256040402  A   \n",
       "682   4266935830  B   \n",
       "\n",
       "[166 rows x 2 columns]"
      ]
     },
     "execution_count": 28,
     "metadata": {},
     "output_type": "execute_result"
    }
   ],
   "source": [
    "orders_dupl = orders[['visitorId','group']]\n",
    "orders_dupl[orders_dupl['visitorId'].duplicated()].sort_values(by = 'visitorId')"
   ]
  },
  {
   "cell_type": "markdown",
   "id": "2255674a",
   "metadata": {},
   "source": [
    "В датасете присутствуют пользователи в обоеих группах, но мы не сможем удалить их из таблицы с посещениями т.к. информации в этой таблице - какие пользователи из каких групп мы, не знаем."
   ]
  },
  {
   "cell_type": "code",
   "execution_count": 29,
   "id": "34266e54",
   "metadata": {},
   "outputs": [
    {
     "data": {
      "text/html": [
       "<div>\n",
       "<style scoped>\n",
       "    .dataframe tbody tr th:only-of-type {\n",
       "        vertical-align: middle;\n",
       "    }\n",
       "\n",
       "    .dataframe tbody tr th {\n",
       "        vertical-align: top;\n",
       "    }\n",
       "\n",
       "    .dataframe thead th {\n",
       "        text-align: right;\n",
       "    }\n",
       "</style>\n",
       "<table border=\"1\" class=\"dataframe\">\n",
       "  <thead>\n",
       "    <tr style=\"text-align: right;\">\n",
       "      <th></th>\n",
       "      <th>date</th>\n",
       "      <th>group</th>\n",
       "    </tr>\n",
       "  </thead>\n",
       "  <tbody>\n",
       "    <tr>\n",
       "      <th>0</th>\n",
       "      <td>2019-08-15</td>\n",
       "      <td>B</td>\n",
       "    </tr>\n",
       "    <tr>\n",
       "      <th>2</th>\n",
       "      <td>2019-08-15</td>\n",
       "      <td>A</td>\n",
       "    </tr>\n",
       "    <tr>\n",
       "      <th>45</th>\n",
       "      <td>2019-08-16</td>\n",
       "      <td>A</td>\n",
       "    </tr>\n",
       "    <tr>\n",
       "      <th>47</th>\n",
       "      <td>2019-08-16</td>\n",
       "      <td>B</td>\n",
       "    </tr>\n",
       "    <tr>\n",
       "      <th>55</th>\n",
       "      <td>2019-08-01</td>\n",
       "      <td>A</td>\n",
       "    </tr>\n",
       "    <tr>\n",
       "      <th>...</th>\n",
       "      <td>...</td>\n",
       "      <td>...</td>\n",
       "    </tr>\n",
       "    <tr>\n",
       "      <th>1068</th>\n",
       "      <td>2019-08-12</td>\n",
       "      <td>A</td>\n",
       "    </tr>\n",
       "    <tr>\n",
       "      <th>1114</th>\n",
       "      <td>2019-08-13</td>\n",
       "      <td>B</td>\n",
       "    </tr>\n",
       "    <tr>\n",
       "      <th>1116</th>\n",
       "      <td>2019-08-13</td>\n",
       "      <td>A</td>\n",
       "    </tr>\n",
       "    <tr>\n",
       "      <th>1149</th>\n",
       "      <td>2019-08-14</td>\n",
       "      <td>B</td>\n",
       "    </tr>\n",
       "    <tr>\n",
       "      <th>1150</th>\n",
       "      <td>2019-08-14</td>\n",
       "      <td>A</td>\n",
       "    </tr>\n",
       "  </tbody>\n",
       "</table>\n",
       "<p>62 rows × 2 columns</p>\n",
       "</div>"
      ],
      "text/plain": [
       "           date group\n",
       "0    2019-08-15  B   \n",
       "2    2019-08-15  A   \n",
       "45   2019-08-16  A   \n",
       "47   2019-08-16  B   \n",
       "55   2019-08-01  A   \n",
       "...         ... ..   \n",
       "1068 2019-08-12  A   \n",
       "1114 2019-08-13  B   \n",
       "1116 2019-08-13  A   \n",
       "1149 2019-08-14  B   \n",
       "1150 2019-08-14  A   \n",
       "\n",
       "[62 rows x 2 columns]"
      ]
     },
     "execution_count": 29,
     "metadata": {},
     "output_type": "execute_result"
    }
   ],
   "source": [
    "# создадим массив уникальных пар значений дат и групп теста\n",
    "datesGroups = orders[['date', 'group']].drop_duplicates()\n",
    "datesGroups"
   ]
  },
  {
   "cell_type": "code",
   "execution_count": 30,
   "id": "38d97ee9",
   "metadata": {},
   "outputs": [
    {
     "data": {
      "text/html": [
       "<div>\n",
       "<style scoped>\n",
       "    .dataframe tbody tr th:only-of-type {\n",
       "        vertical-align: middle;\n",
       "    }\n",
       "\n",
       "    .dataframe tbody tr th {\n",
       "        vertical-align: top;\n",
       "    }\n",
       "\n",
       "    .dataframe thead th {\n",
       "        text-align: right;\n",
       "    }\n",
       "</style>\n",
       "<table border=\"1\" class=\"dataframe\">\n",
       "  <thead>\n",
       "    <tr style=\"text-align: right;\">\n",
       "      <th></th>\n",
       "      <th>date</th>\n",
       "      <th>group</th>\n",
       "      <th>transactionId</th>\n",
       "      <th>visitorId</th>\n",
       "      <th>revenue</th>\n",
       "    </tr>\n",
       "  </thead>\n",
       "  <tbody>\n",
       "    <tr>\n",
       "      <th>55</th>\n",
       "      <td>2019-08-01</td>\n",
       "      <td>A</td>\n",
       "      <td>24</td>\n",
       "      <td>20</td>\n",
       "      <td>148579</td>\n",
       "    </tr>\n",
       "    <tr>\n",
       "      <th>66</th>\n",
       "      <td>2019-08-01</td>\n",
       "      <td>B</td>\n",
       "      <td>21</td>\n",
       "      <td>20</td>\n",
       "      <td>101217</td>\n",
       "    </tr>\n",
       "    <tr>\n",
       "      <th>175</th>\n",
       "      <td>2019-08-02</td>\n",
       "      <td>A</td>\n",
       "      <td>44</td>\n",
       "      <td>38</td>\n",
       "      <td>242401</td>\n",
       "    </tr>\n",
       "    <tr>\n",
       "      <th>173</th>\n",
       "      <td>2019-08-02</td>\n",
       "      <td>B</td>\n",
       "      <td>45</td>\n",
       "      <td>43</td>\n",
       "      <td>266748</td>\n",
       "    </tr>\n",
       "    <tr>\n",
       "      <th>291</th>\n",
       "      <td>2019-08-03</td>\n",
       "      <td>A</td>\n",
       "      <td>68</td>\n",
       "      <td>62</td>\n",
       "      <td>354874</td>\n",
       "    </tr>\n",
       "    <tr>\n",
       "      <th>...</th>\n",
       "      <td>...</td>\n",
       "      <td>...</td>\n",
       "      <td>...</td>\n",
       "      <td>...</td>\n",
       "      <td>...</td>\n",
       "    </tr>\n",
       "    <tr>\n",
       "      <th>496</th>\n",
       "      <td>2019-08-29</td>\n",
       "      <td>B</td>\n",
       "      <td>596</td>\n",
       "      <td>544</td>\n",
       "      <td>5559398</td>\n",
       "    </tr>\n",
       "    <tr>\n",
       "      <th>730</th>\n",
       "      <td>2019-08-30</td>\n",
       "      <td>A</td>\n",
       "      <td>545</td>\n",
       "      <td>493</td>\n",
       "      <td>4022970</td>\n",
       "    </tr>\n",
       "    <tr>\n",
       "      <th>690</th>\n",
       "      <td>2019-08-30</td>\n",
       "      <td>B</td>\n",
       "      <td>620</td>\n",
       "      <td>567</td>\n",
       "      <td>5774631</td>\n",
       "    </tr>\n",
       "    <tr>\n",
       "      <th>958</th>\n",
       "      <td>2019-08-31</td>\n",
       "      <td>A</td>\n",
       "      <td>557</td>\n",
       "      <td>503</td>\n",
       "      <td>4084803</td>\n",
       "    </tr>\n",
       "    <tr>\n",
       "      <th>930</th>\n",
       "      <td>2019-08-31</td>\n",
       "      <td>B</td>\n",
       "      <td>640</td>\n",
       "      <td>586</td>\n",
       "      <td>5907760</td>\n",
       "    </tr>\n",
       "  </tbody>\n",
       "</table>\n",
       "<p>62 rows × 5 columns</p>\n",
       "</div>"
      ],
      "text/plain": [
       "          date group  transactionId  visitorId  revenue\n",
       "55  2019-08-01  A     24             20         148579 \n",
       "66  2019-08-01  B     21             20         101217 \n",
       "175 2019-08-02  A     44             38         242401 \n",
       "173 2019-08-02  B     45             43         266748 \n",
       "291 2019-08-03  A     68             62         354874 \n",
       "..         ... ..     ..             ..            ... \n",
       "496 2019-08-29  B     596            544        5559398\n",
       "730 2019-08-30  A     545            493        4022970\n",
       "690 2019-08-30  B     620            567        5774631\n",
       "958 2019-08-31  A     557            503        4084803\n",
       "930 2019-08-31  B     640            586        5907760\n",
       "\n",
       "[62 rows x 5 columns]"
      ]
     },
     "execution_count": 30,
     "metadata": {},
     "output_type": "execute_result"
    }
   ],
   "source": [
    "# получаем агрегированные кумулятивные по дням данные о заказах \n",
    "ordersAggregated = datesGroups.apply(lambda x: orders[np.logical_and(orders['date'] <= x['date'], orders['group'] == x['group'])]\\\n",
    ".agg({'date' : 'max', 'group' : 'max', 'transactionId' : 'nunique', 'visitorId' : 'nunique', 'revenue' : 'sum'}), axis=1).sort_values(by=['date','group'])\n",
    "ordersAggregated"
   ]
  },
  {
   "cell_type": "code",
   "execution_count": 31,
   "id": "77b137ce",
   "metadata": {},
   "outputs": [
    {
     "data": {
      "text/html": [
       "<div>\n",
       "<style scoped>\n",
       "    .dataframe tbody tr th:only-of-type {\n",
       "        vertical-align: middle;\n",
       "    }\n",
       "\n",
       "    .dataframe tbody tr th {\n",
       "        vertical-align: top;\n",
       "    }\n",
       "\n",
       "    .dataframe thead th {\n",
       "        text-align: right;\n",
       "    }\n",
       "</style>\n",
       "<table border=\"1\" class=\"dataframe\">\n",
       "  <thead>\n",
       "    <tr style=\"text-align: right;\">\n",
       "      <th></th>\n",
       "      <th>date</th>\n",
       "      <th>group</th>\n",
       "      <th>visitors</th>\n",
       "    </tr>\n",
       "  </thead>\n",
       "  <tbody>\n",
       "    <tr>\n",
       "      <th>55</th>\n",
       "      <td>2019-08-01</td>\n",
       "      <td>A</td>\n",
       "      <td>719</td>\n",
       "    </tr>\n",
       "    <tr>\n",
       "      <th>66</th>\n",
       "      <td>2019-08-01</td>\n",
       "      <td>B</td>\n",
       "      <td>713</td>\n",
       "    </tr>\n",
       "    <tr>\n",
       "      <th>175</th>\n",
       "      <td>2019-08-02</td>\n",
       "      <td>A</td>\n",
       "      <td>1338</td>\n",
       "    </tr>\n",
       "    <tr>\n",
       "      <th>173</th>\n",
       "      <td>2019-08-02</td>\n",
       "      <td>B</td>\n",
       "      <td>1294</td>\n",
       "    </tr>\n",
       "    <tr>\n",
       "      <th>291</th>\n",
       "      <td>2019-08-03</td>\n",
       "      <td>A</td>\n",
       "      <td>1845</td>\n",
       "    </tr>\n",
       "    <tr>\n",
       "      <th>...</th>\n",
       "      <td>...</td>\n",
       "      <td>...</td>\n",
       "      <td>...</td>\n",
       "    </tr>\n",
       "    <tr>\n",
       "      <th>496</th>\n",
       "      <td>2019-08-29</td>\n",
       "      <td>B</td>\n",
       "      <td>17708</td>\n",
       "    </tr>\n",
       "    <tr>\n",
       "      <th>730</th>\n",
       "      <td>2019-08-30</td>\n",
       "      <td>A</td>\n",
       "      <td>18037</td>\n",
       "    </tr>\n",
       "    <tr>\n",
       "      <th>690</th>\n",
       "      <td>2019-08-30</td>\n",
       "      <td>B</td>\n",
       "      <td>18198</td>\n",
       "    </tr>\n",
       "    <tr>\n",
       "      <th>958</th>\n",
       "      <td>2019-08-31</td>\n",
       "      <td>A</td>\n",
       "      <td>18736</td>\n",
       "    </tr>\n",
       "    <tr>\n",
       "      <th>930</th>\n",
       "      <td>2019-08-31</td>\n",
       "      <td>B</td>\n",
       "      <td>18916</td>\n",
       "    </tr>\n",
       "  </tbody>\n",
       "</table>\n",
       "<p>62 rows × 3 columns</p>\n",
       "</div>"
      ],
      "text/plain": [
       "          date group  visitors\n",
       "55  2019-08-01  A     719     \n",
       "66  2019-08-01  B     713     \n",
       "175 2019-08-02  A     1338    \n",
       "173 2019-08-02  B     1294    \n",
       "291 2019-08-03  A     1845    \n",
       "..         ... ..      ...    \n",
       "496 2019-08-29  B     17708   \n",
       "730 2019-08-30  A     18037   \n",
       "690 2019-08-30  B     18198   \n",
       "958 2019-08-31  A     18736   \n",
       "930 2019-08-31  B     18916   \n",
       "\n",
       "[62 rows x 3 columns]"
      ]
     },
     "execution_count": 31,
     "metadata": {},
     "output_type": "execute_result"
    }
   ],
   "source": [
    "# получаем агрегированные кумулятивные по дням данные о посетителях интернет-магазина \n",
    "visitorsAggregated = datesGroups.apply(\n",
    "    lambda x: visitors[\n",
    "        np.logical_and(visitors['date'] <= x['date'], visitors['group'] == x['group'])\n",
    "].agg({'date': 'max', 'group': 'max', 'visitors': 'sum'}),\n",
    "    axis=1,\n",
    ").sort_values(by=['date', 'group'])\n",
    "\n",
    "visitorsAggregated"
   ]
  },
  {
   "cell_type": "code",
   "execution_count": 32,
   "id": "00d29881",
   "metadata": {},
   "outputs": [
    {
     "name": "stdout",
     "output_type": "stream",
     "text": [
      "         date group  orders  buyers  revenue  visitors\n",
      "0  2019-08-01  A     24      20      148579   719     \n",
      "1  2019-08-01  B     21      20      101217   713     \n",
      "2  2019-08-02  A     44      38      242401   1338    \n",
      "3  2019-08-02  B     45      43      266748   1294    \n",
      "4  2019-08-03  A     68      62      354874   1845    \n",
      "..        ... ..     ..      ..         ...    ...    \n",
      "57 2019-08-29  B     596     544     5559398  17708   \n",
      "58 2019-08-30  A     545     493     4022970  18037   \n",
      "59 2019-08-30  B     620     567     5774631  18198   \n",
      "60 2019-08-31  A     557     503     4084803  18736   \n",
      "61 2019-08-31  B     640     586     5907760  18916   \n",
      "\n",
      "[62 rows x 6 columns]\n"
     ]
    }
   ],
   "source": [
    "# объединяем кумулятивные данные в одной таблице и присваиваем ее столбцам стандартные названия\n",
    "cumulativeData = ordersAggregated.merge(visitorsAggregated, left_on=['date', 'group'], right_on=['date', 'group'])\n",
    "cumulativeData.columns = ['date', 'group', 'orders', 'buyers', 'revenue', 'visitors']\n",
    "\n",
    "print(cumulativeData) "
   ]
  },
  {
   "cell_type": "code",
   "execution_count": 33,
   "id": "71307a03",
   "metadata": {},
   "outputs": [],
   "source": [
    "# датафрейм с кумулятивным количеством заказов и кумулятивной выручкой по дням в группе А\n",
    "cumulativeRevenueA = cumulativeData[cumulativeData['group']=='A'][['date','revenue', 'orders']]\n",
    "# датафрейм с кумулятивным количеством заказов и кумулятивной выручкой по дням в группе B\n",
    "cumulativeRevenueB = cumulativeData[cumulativeData['group']=='B'][['date','revenue', 'orders']]"
   ]
  },
  {
   "cell_type": "markdown",
   "id": "f13534fd",
   "metadata": {},
   "source": [
    "Данные готовы к построению графиков"
   ]
  },
  {
   "cell_type": "markdown",
   "id": "2c952078",
   "metadata": {},
   "source": [
    "### Построим график кумулятивной выручки по группам."
   ]
  },
  {
   "cell_type": "code",
   "execution_count": 34,
   "id": "1af2348a",
   "metadata": {},
   "outputs": [
    {
     "data": {
      "image/png": "[encoded data removed]",
      "text/plain": [
       "<Figure size 1008x432 with 1 Axes>"
      ]
     },
     "metadata": {
      "needs_background": "light"
     },
     "output_type": "display_data"
    }
   ],
   "source": [
    "plt.figure(figsize=(14,6))\n",
    "plt.grid()\n",
    "plt.title('График кумулятивной выручки по группам')\n",
    "plt.xlabel('Дата')\n",
    "plt.ylabel('Выручка')\n",
    "# Строим график выручки группы А\n",
    "plt.plot(cumulativeRevenueA['date'], cumulativeRevenueA['revenue'], label='кумулятивная выручка группы A')\n",
    "# Строим график выручки группы B\n",
    "plt.plot(cumulativeRevenueB['date'], cumulativeRevenueB['revenue'], label='кумулятивная выручка группы B')\n",
    "plt.legend();"
   ]
  },
  {
   "cell_type": "markdown",
   "id": "1e1b6bfd",
   "metadata": {},
   "source": [
    "Кумулятивная выручка по обоим группам, растет до конца периода. \n",
    "Примерно с 15 августа, группа B начала стремительно расти и увеличивать разницу в отношении роста группы А.\n",
    "После резкого роста группы B выручка продолжала расти.\n",
    "На рост группы B примерно 18-19 августа сильно повлиял большой заказ, возможно, это аномалия. "
   ]
  },
  {
   "cell_type": "code",
   "execution_count": 35,
   "id": "8890939f",
   "metadata": {},
   "outputs": [
    {
     "data": {
      "text/html": [
       "<div>\n",
       "<style scoped>\n",
       "    .dataframe tbody tr th:only-of-type {\n",
       "        vertical-align: middle;\n",
       "    }\n",
       "\n",
       "    .dataframe tbody tr th {\n",
       "        vertical-align: top;\n",
       "    }\n",
       "\n",
       "    .dataframe thead th {\n",
       "        text-align: right;\n",
       "    }\n",
       "</style>\n",
       "<table border=\"1\" class=\"dataframe\">\n",
       "  <thead>\n",
       "    <tr style=\"text-align: right;\">\n",
       "      <th></th>\n",
       "      <th>date</th>\n",
       "      <th>revenue</th>\n",
       "      <th>orders</th>\n",
       "    </tr>\n",
       "  </thead>\n",
       "  <tbody>\n",
       "    <tr>\n",
       "      <th>35</th>\n",
       "      <td>2019-08-18</td>\n",
       "      <td>2686621</td>\n",
       "      <td>382</td>\n",
       "    </tr>\n",
       "    <tr>\n",
       "      <th>37</th>\n",
       "      <td>2019-08-19</td>\n",
       "      <td>4116541</td>\n",
       "      <td>403</td>\n",
       "    </tr>\n",
       "  </tbody>\n",
       "</table>\n",
       "</div>"
      ],
      "text/plain": [
       "         date  revenue  orders\n",
       "35 2019-08-18  2686621  382   \n",
       "37 2019-08-19  4116541  403   "
      ]
     },
     "execution_count": 35,
     "metadata": {},
     "output_type": "execute_result"
    }
   ],
   "source": [
    "cumulativeRevenueB[(cumulativeRevenueB['date'] >= '2019-08-18') & (cumulativeRevenueB['date'] <= '2019-08-19')]"
   ]
  },
  {
   "cell_type": "code",
   "execution_count": 36,
   "id": "5ab3ced6",
   "metadata": {},
   "outputs": [
    {
     "data": {
      "text/html": [
       "<div>\n",
       "<style scoped>\n",
       "    .dataframe tbody tr th:only-of-type {\n",
       "        vertical-align: middle;\n",
       "    }\n",
       "\n",
       "    .dataframe tbody tr th {\n",
       "        vertical-align: top;\n",
       "    }\n",
       "\n",
       "    .dataframe thead th {\n",
       "        text-align: right;\n",
       "    }\n",
       "</style>\n",
       "<table border=\"1\" class=\"dataframe\">\n",
       "  <thead>\n",
       "    <tr style=\"text-align: right;\">\n",
       "      <th></th>\n",
       "      <th>transactionId</th>\n",
       "      <th>visitorId</th>\n",
       "      <th>date</th>\n",
       "      <th>revenue</th>\n",
       "      <th>group</th>\n",
       "    </tr>\n",
       "  </thead>\n",
       "  <tbody>\n",
       "    <tr>\n",
       "      <th>425</th>\n",
       "      <td>590470918</td>\n",
       "      <td>1920142716</td>\n",
       "      <td>2019-08-19</td>\n",
       "      <td>1294500</td>\n",
       "      <td>B</td>\n",
       "    </tr>\n",
       "    <tr>\n",
       "      <th>527</th>\n",
       "      <td>1570513684</td>\n",
       "      <td>2837914161</td>\n",
       "      <td>2019-08-19</td>\n",
       "      <td>33405</td>\n",
       "      <td>B</td>\n",
       "    </tr>\n",
       "    <tr>\n",
       "      <th>461</th>\n",
       "      <td>2683113224</td>\n",
       "      <td>154576532</td>\n",
       "      <td>2019-08-19</td>\n",
       "      <td>26550</td>\n",
       "      <td>B</td>\n",
       "    </tr>\n",
       "    <tr>\n",
       "      <th>368</th>\n",
       "      <td>3268879337</td>\n",
       "      <td>2536252163</td>\n",
       "      <td>2019-08-19</td>\n",
       "      <td>20026</td>\n",
       "      <td>B</td>\n",
       "    </tr>\n",
       "    <tr>\n",
       "      <th>463</th>\n",
       "      <td>4170537404</td>\n",
       "      <td>290022471</td>\n",
       "      <td>2019-08-19</td>\n",
       "      <td>16480</td>\n",
       "      <td>B</td>\n",
       "    </tr>\n",
       "  </tbody>\n",
       "</table>\n",
       "</div>"
      ],
      "text/plain": [
       "     transactionId   visitorId       date  revenue group\n",
       "425  590470918      1920142716 2019-08-19  1294500  B   \n",
       "527  1570513684     2837914161 2019-08-19  33405    B   \n",
       "461  2683113224     154576532  2019-08-19  26550    B   \n",
       "368  3268879337     2536252163 2019-08-19  20026    B   \n",
       "463  4170537404     290022471  2019-08-19  16480    B   "
      ]
     },
     "execution_count": 36,
     "metadata": {},
     "output_type": "execute_result"
    }
   ],
   "source": [
    "orders[(orders['group']=='B') & (orders['date'] == '2019-08-19')].sort_values(by='revenue', ascending=False).head()"
   ]
  },
  {
   "cell_type": "markdown",
   "id": "dad1c0da",
   "metadata": {},
   "source": [
    "Заказ № 590470918 на общую сумму 1 294 тыс. руб. явно является аномалией."
   ]
  },
  {
   "cell_type": "markdown",
   "id": "2a0d98fc",
   "metadata": {},
   "source": [
    "### Постройте график кумулятивного среднего чека по группам."
   ]
  },
  {
   "cell_type": "code",
   "execution_count": 37,
   "id": "8da47fc6",
   "metadata": {},
   "outputs": [
    {
     "data": {
      "image/png": "[encoded data removed]",
      "text/plain": [
       "<Figure size 1008x432 with 1 Axes>"
      ]
     },
     "metadata": {
      "needs_background": "light"
     },
     "output_type": "display_data"
    }
   ],
   "source": [
    "\n",
    "\n",
    "plt.figure(figsize=(14,6))\n",
    "plt.grid()\n",
    "plt.title('График кумулятивного среднего чека')\n",
    "plt.xlabel('Дата')\n",
    "plt.ylabel('Кумулятивный средний чек')\n",
    "plt.plot(cumulativeRevenueA['date'], cumulativeRevenueA['revenue']/cumulativeRevenueA['orders'], label='Кумулятивный средний чек группы A')\n",
    "plt.plot(cumulativeRevenueB['date'], cumulativeRevenueB['revenue']/cumulativeRevenueB['orders'], label='Кумулятивный средний чек группы B')\n",
    "plt.legend(); "
   ]
  },
  {
   "cell_type": "markdown",
   "id": "426a1642",
   "metadata": {},
   "source": [
    "Средний чек за представленый период растет у группы 'А' 6 августа наблюдается просадка а 13 августа наоборот пик значения.\n",
    "У группы \"Б\" наблюдается аномальное значение заказа № 590470918. После этого крупного заказа наблюдается падение показателя среднего чека."
   ]
  },
  {
   "cell_type": "markdown",
   "id": "8950685b",
   "metadata": {},
   "source": [
    "### Построем график относительного изменения кумулятивного среднего чека группы B к группе A."
   ]
  },
  {
   "cell_type": "code",
   "execution_count": 38,
   "id": "3afb4a48",
   "metadata": {},
   "outputs": [
    {
     "data": {
      "image/png": "[encoded data removed]",
      "text/plain": [
       "<Figure size 1008x432 with 1 Axes>"
      ]
     },
     "metadata": {
      "needs_background": "light"
     },
     "output_type": "display_data"
    }
   ],
   "source": [
    "plt.figure(figsize=(14,6))\n",
    "plt.grid()\n",
    "plt.title('График относительного изменения кумулятивного среднего чека')\n",
    "plt.xlabel('Дата')\n",
    "plt.ylabel('Коэффициент кумулятивного среднего чека')\n",
    "# собираем данные в одном датафрейме\n",
    "mergedCumulativeRevenue = cumulativeRevenueA.merge(cumulativeRevenueB, left_on='date', right_on='date', how='left', suffixes=['A', 'B'])\n",
    "\n",
    "# cтроим отношение средних чеков\n",
    "plt.plot(mergedCumulativeRevenue['date'], (mergedCumulativeRevenue['revenueB']/mergedCumulativeRevenue['ordersB'])/(mergedCumulativeRevenue['revenueA']/mergedCumulativeRevenue['ordersA'])-1)\n",
    "\n",
    "# добавляем ось X\n",
    "plt.axhline(y=0, color='black', linestyle='--');"
   ]
  },
  {
   "cell_type": "markdown",
   "id": "e0dd0849",
   "metadata": {},
   "source": [
    "На нескольких участках графика есть различия между сегментами. Заказ № 590470918 так же отражается на данных 19 августа.\n",
    "В период с 6 по 8 августа наблюдается резкий рост. А 13 августа наблюдается сильная просадка в суммах."
   ]
  },
  {
   "cell_type": "markdown",
   "id": "2f99101b",
   "metadata": {},
   "source": [
    "## Постройем график кумулятивного среднего количества заказов на посетителя по группам."
   ]
  },
  {
   "cell_type": "code",
   "execution_count": 39,
   "id": "6e827921",
   "metadata": {},
   "outputs": [],
   "source": [
    "# считаем кумулятивную конверсию\n",
    "cumulativeData['conversion'] = cumulativeData['orders']/cumulativeData['visitors']\n",
    "\n",
    "# отделяем данные по группе A и B\n",
    "cumulativeDataA = cumulativeData[cumulativeData['group']=='A']\n",
    "cumulativeDataB = cumulativeData[cumulativeData['group']=='B']"
   ]
  },
  {
   "cell_type": "code",
   "execution_count": 40,
   "id": "85a1acc4",
   "metadata": {},
   "outputs": [
    {
     "data": {
      "image/png": "[encoded data removed]",
      "text/plain": [
       "<Figure size 1008x432 with 1 Axes>"
      ]
     },
     "metadata": {
      "needs_background": "light"
     },
     "output_type": "display_data"
    }
   ],
   "source": [
    "plt.figure(figsize=(14,6))\n",
    "plt.grid()\n",
    "plt.title('График кумулятивного среднего количества заказов на посетителя')\n",
    "plt.xlabel('Дата')\n",
    "plt.ylabel('Коэффициент кумулятивного среднего количества заказов')\n",
    "# строим графики\n",
    "plt.plot(cumulativeDataA['date'], cumulativeDataA['conversion'], label='A')\n",
    "plt.plot(cumulativeDataB['date'], cumulativeDataB['conversion'], label='B')\n",
    "plt.legend();\n",
    "\n",
    "# задаем масштаб осей\n",
    "plt.axis([dt.datetime(2019, 8, 1), dt.datetime(2019, 8, 31), 0, 0.05]);"
   ]
  },
  {
   "cell_type": "markdown",
   "id": "b6843e8f",
   "metadata": {},
   "source": [
    "Группы колеблются около одного значения в пределах 0.029 по 0.035. Группа \"В\" 6 августа несильно увеличила коэффициент кумулятивного среднего количества заказов и стала лидером до конца затронутого периода. "
   ]
  },
  {
   "cell_type": "markdown",
   "id": "41e6165f",
   "metadata": {},
   "source": [
    "## Постройте график относительного изменения кумулятивного среднего количества заказов на посетителя группы B к группе A."
   ]
  },
  {
   "cell_type": "code",
   "execution_count": 41,
   "id": "b09e51c0",
   "metadata": {
    "scrolled": true
   },
   "outputs": [
    {
     "data": {
      "image/png": "[encoded data removed]",
      "text/plain": [
       "<Figure size 1080x360 with 1 Axes>"
      ]
     },
     "metadata": {
      "needs_background": "light"
     },
     "output_type": "display_data"
    }
   ],
   "source": [
    "plt.figure(figsize=(15,5))\n",
    "plt.grid()\n",
    "plt.title('график относительного изменения кумулятивного среднего количества заказов')\n",
    "plt.xlabel('Дата')\n",
    "plt.ylabel('Коэффициент')\n",
    "\n",
    "mergedCumulativeConversions = cumulativeDataA[['date','conversion']].merge(cumulativeDataB[['date','conversion']], left_on='date', right_on='date', how='left', suffixes=['A', 'B'])\n",
    "\n",
    "plt.plot(mergedCumulativeConversions['date'], mergedCumulativeConversions['conversionB']/mergedCumulativeConversions['conversionA']-1, label=\"Относительный прирост конверсии группы B относительно группы A\")\n",
    "plt.legend()\n",
    "\n",
    "plt.axhline(y=0, color='black', linestyle='--')\n",
    "plt.axhline(y=0.09, color='grey', linestyle='--')\n",
    "plt.axhline(y=-0.08, color='grey', linestyle='--')\n",
    "plt.axhline(y=0.21, color='grey', linestyle='--');\n",
    "\n",
    "#plt.axis([dt.datetime(2019, 8, 1), dt.datetime(2019, 8, 31), -0.5, 0.5]);"
   ]
  },
  {
   "cell_type": "markdown",
   "id": "ac458670",
   "metadata": {},
   "source": [
    "Рост начинается с 5 августа. Пик 15 августа и снижение куммулятивного среднего до конца периода."
   ]
  },
  {
   "cell_type": "markdown",
   "id": "66a9750b",
   "metadata": {},
   "source": [
    "Стоит проанализировать аномалии, они изменяют картину анализа."
   ]
  },
  {
   "cell_type": "markdown",
   "id": "d18fe6ca",
   "metadata": {},
   "source": [
    "------"
   ]
  },
  {
   "cell_type": "markdown",
   "id": "1ef167f0",
   "metadata": {},
   "source": [
    "## Проанализируем выбросы и всплески значения данных"
   ]
  },
  {
   "cell_type": "code",
   "execution_count": 42,
   "id": "7dd54a97",
   "metadata": {},
   "outputs": [
    {
     "data": {
      "text/html": [
       "<div>\n",
       "<style scoped>\n",
       "    .dataframe tbody tr th:only-of-type {\n",
       "        vertical-align: middle;\n",
       "    }\n",
       "\n",
       "    .dataframe tbody tr th {\n",
       "        vertical-align: top;\n",
       "    }\n",
       "\n",
       "    .dataframe thead th {\n",
       "        text-align: right;\n",
       "    }\n",
       "</style>\n",
       "<table border=\"1\" class=\"dataframe\">\n",
       "  <thead>\n",
       "    <tr style=\"text-align: right;\">\n",
       "      <th></th>\n",
       "      <th>visitorId</th>\n",
       "      <th>orders</th>\n",
       "    </tr>\n",
       "  </thead>\n",
       "  <tbody>\n",
       "    <tr>\n",
       "      <th>1023</th>\n",
       "      <td>4256040402</td>\n",
       "      <td>11</td>\n",
       "    </tr>\n",
       "    <tr>\n",
       "      <th>591</th>\n",
       "      <td>2458001652</td>\n",
       "      <td>11</td>\n",
       "    </tr>\n",
       "    <tr>\n",
       "      <th>569</th>\n",
       "      <td>2378935119</td>\n",
       "      <td>9</td>\n",
       "    </tr>\n",
       "    <tr>\n",
       "      <th>487</th>\n",
       "      <td>2038680547</td>\n",
       "      <td>8</td>\n",
       "    </tr>\n",
       "    <tr>\n",
       "      <th>44</th>\n",
       "      <td>199603092</td>\n",
       "      <td>5</td>\n",
       "    </tr>\n",
       "    <tr>\n",
       "      <th>744</th>\n",
       "      <td>3062433592</td>\n",
       "      <td>5</td>\n",
       "    </tr>\n",
       "    <tr>\n",
       "      <th>55</th>\n",
       "      <td>237748145</td>\n",
       "      <td>5</td>\n",
       "    </tr>\n",
       "    <tr>\n",
       "      <th>917</th>\n",
       "      <td>3803269165</td>\n",
       "      <td>5</td>\n",
       "    </tr>\n",
       "    <tr>\n",
       "      <th>299</th>\n",
       "      <td>1230306981</td>\n",
       "      <td>5</td>\n",
       "    </tr>\n",
       "    <tr>\n",
       "      <th>897</th>\n",
       "      <td>3717692402</td>\n",
       "      <td>5</td>\n",
       "    </tr>\n",
       "  </tbody>\n",
       "</table>\n",
       "</div>"
      ],
      "text/plain": [
       "       visitorId  orders\n",
       "1023  4256040402  11    \n",
       "591   2458001652  11    \n",
       "569   2378935119  9     \n",
       "487   2038680547  8     \n",
       "44    199603092   5     \n",
       "744   3062433592  5     \n",
       "55    237748145   5     \n",
       "917   3803269165  5     \n",
       "299   1230306981  5     \n",
       "897   3717692402  5     "
      ]
     },
     "execution_count": 42,
     "metadata": {},
     "output_type": "execute_result"
    }
   ],
   "source": [
    "#Подсчитаем количество заказов по пользователям и посмотрим на результат\n",
    "ordersByUsers = (orders.groupby('visitorId', as_index=False).agg({'transactionId': 'nunique'}))\n",
    "\n",
    "ordersByUsers.columns = ['visitorId', 'orders']\n",
    "ordersByUsers.sort_values(by='orders', ascending=False).head(10)"
   ]
  },
  {
   "cell_type": "markdown",
   "id": "d3ae09ae",
   "metadata": {},
   "source": [
    "Максимальное количесво заказов за август - 11."
   ]
  },
  {
   "cell_type": "markdown",
   "id": "bab22e09",
   "metadata": {},
   "source": [
    "### Постройем точечный график количества заказов по пользователям."
   ]
  },
  {
   "cell_type": "code",
   "execution_count": 43,
   "id": "39ccf6d9",
   "metadata": {},
   "outputs": [
    {
     "data": {
      "image/png": "[encoded data removed]",
      "text/plain": [
       "<Figure size 432x288 with 1 Axes>"
      ]
     },
     "metadata": {
      "needs_background": "light"
     },
     "output_type": "display_data"
    }
   ],
   "source": [
    "plt.grid()\n",
    "plt.title('Точечный график количества заказов по пользователям')\n",
    "plt.xlabel('Серия из чисел от 0 до количества наблюдений')\n",
    "plt.ylabel('Количество заказов')\n",
    "x_values = pd.Series(range(0, len(ordersByUsers)))\n",
    "plt.scatter(x_values, ordersByUsers['orders']);"
   ]
  },
  {
   "cell_type": "markdown",
   "id": "0ca3f578",
   "metadata": {},
   "source": [
    "1,2 - самые распространенные количество заказов. Намного меньше встречаются пользовавтели с заказами  3 и 4. Заказов больше 4 можно считать аномалией."
   ]
  },
  {
   "cell_type": "markdown",
   "id": "64eef3cd",
   "metadata": {},
   "source": [
    "### Посчитайте 95-й и 99-й перцентили количества заказов на пользователя. Выберите границу для определения аномальных пользователей."
   ]
  },
  {
   "cell_type": "code",
   "execution_count": 44,
   "id": "24a0ee09",
   "metadata": {},
   "outputs": [
    {
     "name": "stdout",
     "output_type": "stream",
     "text": [
      "[2. 4.]\n"
     ]
    }
   ],
   "source": [
    "print(np.percentile(ordersByUsers['orders'], [95, 99]))"
   ]
  },
  {
   "cell_type": "markdown",
   "id": "8cb88d38",
   "metadata": {},
   "source": [
    "Не больше 5% пользователей сделали 2 заказа. Не больше 1% пользователей сделали 4 и больше заказов."
   ]
  },
  {
   "cell_type": "markdown",
   "id": "c1b4de37",
   "metadata": {},
   "source": [
    "Границей для определения аномальных значений мы поставим пользователей сделавших больше 2 заказов. "
   ]
  },
  {
   "cell_type": "markdown",
   "id": "070a31f5",
   "metadata": {},
   "source": [
    "### Постройте точечный график стоимостей заказов."
   ]
  },
  {
   "cell_type": "code",
   "execution_count": 45,
   "id": "f9cd3bae",
   "metadata": {},
   "outputs": [
    {
     "data": {
      "image/png": "[encoded data removed]",
      "text/plain": [
       "<Figure size 432x288 with 1 Axes>"
      ]
     },
     "metadata": {
      "needs_background": "light"
     },
     "output_type": "display_data"
    }
   ],
   "source": [
    "plt.grid()\n",
    "plt.title('Точечный график стоимостей заказов')\n",
    "plt.xlabel('Серия из чисел от 0 до количества наблюдений')\n",
    "plt.ylabel('Стоимость заказов')\n",
    "x_values = pd.Series(range(0, len(orders['revenue'])))\n",
    "plt.scatter(x_values, orders['revenue']);"
   ]
  },
  {
   "cell_type": "markdown",
   "id": "7031de1b",
   "metadata": {},
   "source": [
    "на графике так же есть след от аномально большого заказа."
   ]
  },
  {
   "cell_type": "markdown",
   "id": "b7cfabae",
   "metadata": {},
   "source": [
    "## Посчитайте 95-й и 99-й перцентили стоимости заказов. "
   ]
  },
  {
   "cell_type": "code",
   "execution_count": 46,
   "id": "4d46887a",
   "metadata": {},
   "outputs": [
    {
     "name": "stdout",
     "output_type": "stream",
     "text": [
      "[28000.  58233.2]\n"
     ]
    }
   ],
   "source": [
    "print(np.percentile(orders['revenue'], [95, 99]))"
   ]
  },
  {
   "cell_type": "markdown",
   "id": "5c465ba5",
   "metadata": {},
   "source": [
    "Определив аномальные суммы которые встречаются суммы заказов, можно построить график без этих аномальных значений."
   ]
  },
  {
   "cell_type": "code",
   "execution_count": 47,
   "id": "c4bd30b4",
   "metadata": {},
   "outputs": [
    {
     "data": {
      "image/png": "[encoded data removed]",
      "text/plain": [
       "<Figure size 432x288 with 1 Axes>"
      ]
     },
     "metadata": {
      "needs_background": "light"
     },
     "output_type": "display_data"
    }
   ],
   "source": [
    "plt.grid()\n",
    "plt.title('Точечный график стоимостей заказов')\n",
    "plt.xlabel('Серия из чисел от 0 до количества наблюдений')\n",
    "plt.ylabel('Стоимость заказов')\n",
    "sort_orders = orders[orders['revenue']<=58233.2]['revenue']\n",
    "x_values = pd.Series(range(0, len(sort_orders)))\n",
    "plt.scatter(x_values, sort_orders);"
   ]
  },
  {
   "cell_type": "markdown",
   "id": "a8f248f4",
   "metadata": {},
   "source": [
    "Теперь на графике отображается намного больше значений."
   ]
  },
  {
   "cell_type": "markdown",
   "id": "14e9d496",
   "metadata": {},
   "source": [
    "Границей для определения аномальных значений мы поставим заказы стоимость которых больше 58233.20. "
   ]
  },
  {
   "cell_type": "markdown",
   "id": "fce48f5c",
   "metadata": {},
   "source": [
    "-----"
   ]
  },
  {
   "cell_type": "markdown",
   "id": "174e51da",
   "metadata": {},
   "source": [
    "### Подготовим данные для проведения анализа А/B тестирования"
   ]
  },
  {
   "cell_type": "code",
   "execution_count": 48,
   "id": "2a494fb9",
   "metadata": {},
   "outputs": [],
   "source": [
    "visitorsADaily = visitors[visitors['group'] == 'A'][['date', 'visitors']]\n",
    "visitorsADaily.columns = ['date', 'visitorsPerDateA']\n",
    "\n",
    "visitorsACummulative = visitorsADaily.apply(\n",
    "    lambda x: visitorsADaily[visitorsADaily['date'] <= x['date']].agg(\n",
    "        {'date': 'max', 'visitorsPerDateA': 'sum'}\n",
    "    ),\n",
    "    axis=1,\n",
    ")\n",
    "visitorsACummulative.columns = ['date', 'visitorsCummulativeA']\n",
    "\n",
    "visitorsBDaily = visitors[visitors['group'] == 'B'][['date', 'visitors']]\n",
    "visitorsBDaily.columns = ['date', 'visitorsPerDateB']\n",
    "\n",
    "visitorsBCummulative = visitorsBDaily.apply(\n",
    "    lambda x: visitorsBDaily[visitorsBDaily['date'] <= x['date']].agg(\n",
    "        {'date': 'max', 'visitorsPerDateB': 'sum'}\n",
    "    ),\n",
    "    axis=1,\n",
    ")\n",
    "visitorsBCummulative.columns = ['date', 'visitorsCummulativeB']\n",
    "\n",
    "ordersADaily = (\n",
    "    orders[orders['group'] == 'A'][['date', 'transactionId', 'visitorId', 'revenue']]\n",
    "    .groupby('date', as_index=False)\n",
    "    .agg({'transactionId': pd.Series.nunique, 'revenue': 'sum'})\n",
    ")\n",
    "ordersADaily.columns = ['date', 'ordersPerDateA', 'revenuePerDateA']\n",
    "\n",
    "ordersACummulative = ordersADaily.apply(\n",
    "    lambda x: ordersADaily[ordersADaily['date'] <= x['date']].agg(\n",
    "        {'date': 'max', 'ordersPerDateA': 'sum', 'revenuePerDateA': 'sum'}\n",
    "    ),\n",
    "    axis=1,\n",
    ").sort_values(by=['date'])\n",
    "ordersACummulative.columns = [\n",
    "    'date',\n",
    "    'ordersCummulativeA',\n",
    "    'revenueCummulativeA',\n",
    "]\n",
    "\n",
    "ordersBDaily = (\n",
    "    orders[orders['group'] == 'B'][['date', 'transactionId', 'visitorId', 'revenue']]\n",
    "    .groupby('date', as_index=False)\n",
    "    .agg({'transactionId': pd.Series.nunique, 'revenue': 'sum'})\n",
    ")\n",
    "ordersBDaily.columns = ['date', 'ordersPerDateB', 'revenuePerDateB']\n",
    "\n",
    "ordersBCummulative = ordersBDaily.apply(\n",
    "    lambda x: ordersBDaily[ordersBDaily['date'] <= x['date']].agg(\n",
    "        {'date': 'max', 'ordersPerDateB': 'sum', 'revenuePerDateB': 'sum'}\n",
    "    ),\n",
    "    axis=1,\n",
    ").sort_values(by=['date'])\n",
    "ordersBCummulative.columns = ['date',\n",
    "    'ordersCummulativeB',\n",
    "    'revenueCummulativeB',]"
   ]
  },
  {
   "cell_type": "code",
   "execution_count": 49,
   "id": "e1a09a08",
   "metadata": {},
   "outputs": [
    {
     "name": "stdout",
     "output_type": "stream",
     "text": [
      "        date  ordersPerDateA  revenuePerDateA  ordersPerDateB  \\\n",
      "0 2019-08-01  24              148579           21               \n",
      "1 2019-08-02  20              93822            24               \n",
      "2 2019-08-03  24              112473           16               \n",
      "3 2019-08-04  16              70825            17               \n",
      "4 2019-08-05  25              124218           23               \n",
      "\n",
      "   revenuePerDateB  ordersCummulativeA  revenueCummulativeA  \\\n",
      "0  101217           24                  148579                \n",
      "1  165531           44                  242401                \n",
      "2  114248           68                  354874                \n",
      "3  108571           84                  425699                \n",
      "4  92428            109                 549917                \n",
      "\n",
      "   ordersCummulativeB  revenueCummulativeB  visitorsPerDateA  \\\n",
      "0  21                  101217               719                \n",
      "1  45                  266748               619                \n",
      "2  61                  380996               507                \n",
      "3  78                  489567               717                \n",
      "4  101                 581995               756                \n",
      "\n",
      "   visitorsPerDateB  visitorsCummulativeA  visitorsCummulativeB  \n",
      "0  713               719                   713                   \n",
      "1  581               1338                  1294                  \n",
      "2  509               1845                  1803                  \n",
      "3  770               2562                  2573                  \n",
      "4  707               3318                  3280                  \n"
     ]
    }
   ],
   "source": [
    "data = (\n",
    "    ordersADaily.merge(\n",
    "        ordersBDaily, left_on='date', right_on='date', how='left'\n",
    "    )\n",
    "    .merge(ordersACummulative, left_on='date', right_on='date', how='left')\n",
    "    .merge(ordersBCummulative, left_on='date', right_on='date', how='left')\n",
    "    .merge(visitorsADaily, left_on='date', right_on='date', how='left')\n",
    "    .merge(visitorsBDaily, left_on='date', right_on='date', how='left')\n",
    "    .merge(visitorsACummulative, left_on='date', right_on='date', how='left')\n",
    "    .merge(visitorsBCummulative, left_on='date', right_on='date', how='left')\n",
    ")\n",
    "\n",
    "print(data.head(5)) "
   ]
  },
  {
   "cell_type": "markdown",
   "id": "5c6420ff",
   "metadata": {},
   "source": [
    "## Посчитайте статистическую значимость различий в среднем количестве заказов на посетителя между группами по «сырым» данным."
   ]
  },
  {
   "cell_type": "markdown",
   "id": "1728fe4d",
   "metadata": {},
   "source": [
    "Выведем нулевую гипотезу: различий в количестве заказов между группами нет и альтернативную гипотезу: различия в количестве заказов между группами есть."
   ]
  },
  {
   "cell_type": "markdown",
   "id": "ba772000",
   "metadata": {},
   "source": [
    "Возьмём значения альфы 0.05"
   ]
  },
  {
   "cell_type": "code",
   "execution_count": 50,
   "id": "fb35b959",
   "metadata": {},
   "outputs": [
    {
     "name": "stdout",
     "output_type": "stream",
     "text": [
      "p-value = 0.017\n",
      "Относительный показатель = 0.138\n"
     ]
    }
   ],
   "source": [
    "ordersByUsersA = (\n",
    "    orders[orders['group'] == 'A']\n",
    "    .groupby('visitorId', as_index=False)\n",
    "    .agg({'transactionId': pd.Series.nunique})\n",
    ")\n",
    "ordersByUsersA.columns = ['userId', 'orders']\n",
    "\n",
    "ordersByUsersB = (\n",
    "    orders[orders['group'] == 'B']\n",
    "    .groupby('visitorId', as_index=False)\n",
    "    .agg({'transactionId': pd.Series.nunique})\n",
    ")\n",
    "ordersByUsersB.columns = ['userId', 'orders']\n",
    "\n",
    "sampleA = pd.concat(\n",
    "    [\n",
    "        ordersByUsersA['orders'],\n",
    "        pd.Series(\n",
    "            0,\n",
    "            index=np.arange(\n",
    "                data['visitorsPerDateA'].sum() - len(ordersByUsersA['orders'])\n",
    "            ),\n",
    "            name='orders',\n",
    "        ),\n",
    "    ],\n",
    "    axis=0,\n",
    ")\n",
    "\n",
    "sampleB = pd.concat(\n",
    "    [\n",
    "        ordersByUsersB['orders'],\n",
    "        pd.Series(\n",
    "            0,\n",
    "            index=np.arange(\n",
    "                data['visitorsPerDateB'].sum() - len(ordersByUsersB['orders'])\n",
    "            ),\n",
    "            name='orders',\n",
    "        ),\n",
    "    ],\n",
    "    axis=0,\n",
    ")\n",
    "\n",
    "print(\"p-value = {0:.3f}\".format(stats.mannwhitneyu(sampleA, sampleB)[1]))\n",
    "print(\"Относительный показатель = {0:.3f}\".format(sampleB.mean() / sampleA.mean() - 1))"
   ]
  },
  {
   "cell_type": "markdown",
   "id": "30173e32",
   "metadata": {},
   "source": [
    "p-value = 0.017 меньше значения 0.05. Значит, нулевую гипотезу о том, что значимых различий в среднем числе заказов между группами нет, отвергаем. Однако относительный проигрыш группы \"B\" равен 13.8 %."
   ]
  },
  {
   "cell_type": "markdown",
   "id": "7c1bea8e",
   "metadata": {},
   "source": [
    "### Посчитайем статистическую значимость различий в среднем чеке заказа между группами по «сырым» данным. "
   ]
  },
  {
   "cell_type": "markdown",
   "id": "0ee1911a",
   "metadata": {},
   "source": [
    "Нулевая гипотеза: различий в среднем чеке между группами нет. Альтернативная гипотеза: различия в среднем чеке между группами есть"
   ]
  },
  {
   "cell_type": "code",
   "execution_count": 51,
   "id": "cf303737",
   "metadata": {},
   "outputs": [
    {
     "name": "stdout",
     "output_type": "stream",
     "text": [
      "p-value = 0.729\n",
      "Относительный показатель = 0.259\n"
     ]
    }
   ],
   "source": [
    "print('p-value = {0:.3f}'.format(stats.mannwhitneyu(orders[orders['group']=='A']['revenue'], orders[orders['group']=='B']['revenue'])[1]))\n",
    "print('Относительный показатель = {0:.3f}'.format(orders[orders['group']=='B']['revenue'].mean()/orders[orders['group']=='A']['revenue'].mean()-1)) "
   ]
  },
  {
   "cell_type": "markdown",
   "id": "a1e03a99",
   "metadata": {},
   "source": [
    "P-value 72,9 % значительно больше 0.05 Значит, причин отвергать нулевую гипотезу и считать, что в среднем чеке есть различия, нет. Средний чек группы B значительно выше среднего чека группы A и составляет 25.9 % ."
   ]
  },
  {
   "cell_type": "markdown",
   "id": "c185b18c",
   "metadata": {},
   "source": [
    "### Посчитайте статистическую значимость различий в среднем количестве заказов на посетителя между группами по «очищенным» данным. "
   ]
  },
  {
   "cell_type": "markdown",
   "id": "83ae691a",
   "metadata": {},
   "source": [
    "Нулевая гипотеза: различий в количестве заказов между группами нет. Альтернативная гипотеза: различия в количестве заказов между группами есть."
   ]
  },
  {
   "cell_type": "code",
   "execution_count": 52,
   "id": "b22e2cdb",
   "metadata": {},
   "outputs": [],
   "source": [
    "# возьмем аномальные значения стоимость больше 2 заказов на пользователя  \n",
    "usersWithManyOrders = pd.concat([ordersByUsersA[ordersByUsersA['orders'] > 2]['userId'],           \n",
    "                      ordersByUsersB[ordersByUsersB['orders'] > 2]['userId'],], axis=0,)\n",
    "\n",
    "# возьмем аномальные значения стоимость заказа больше 58233.20 \n",
    "usersWithExpensiveOrders = orders[orders['revenue'] > 58233.2]['visitorId']\n",
    "abnormalUsers = (pd.concat([usersWithManyOrders, usersWithExpensiveOrders], axis=0).drop_duplicates().sort_values())\n",
    "\n",
    "# уберем аномальные значения в данных\n",
    "\n",
    "sampleAFiltered = pd.concat(\n",
    "    [ordersByUsersA[np.logical_not(ordersByUsersA['userId'].isin(abnormalUsers))]['orders'],\n",
    "        pd.Series(\n",
    "            0,\n",
    "            index=np.arange(\n",
    "                data['visitorsPerDateA'].sum() - len(ordersByUsersA['orders'])\n",
    "            ),\n",
    "            name='orders',\n",
    "        ),\n",
    "    ],\n",
    "    axis=0,)\n",
    "\n",
    "sampleBFiltered = pd.concat(\n",
    "    [\n",
    "        ordersByUsersB[\n",
    "            np.logical_not(ordersByUsersB['userId'].isin(abnormalUsers))\n",
    "        ]['orders'],\n",
    "        pd.Series(\n",
    "            0,\n",
    "            index=np.arange(\n",
    "                data['visitorsPerDateB'].sum() - len(ordersByUsersB['orders'])\n",
    "            ),\n",
    "            name='orders',\n",
    "        ),\n",
    "    ],\n",
    "    axis=0,) \n"
   ]
  },
  {
   "cell_type": "code",
   "execution_count": 53,
   "id": "d328a71b",
   "metadata": {},
   "outputs": [
    {
     "name": "stdout",
     "output_type": "stream",
     "text": [
      "p-value = 0.01\n",
      "Относительный показатель = 0.174\n"
     ]
    }
   ],
   "source": [
    "print('p-value = {0:.2f}'.format(stats.mannwhitneyu(sampleAFiltered, sampleBFiltered)[1]))\n",
    "print('Относительный показатель = {0:.3f}'.format(sampleBFiltered.mean()/sampleAFiltered.mean()-1)) "
   ]
  },
  {
   "cell_type": "markdown",
   "id": "59589931",
   "metadata": {},
   "source": [
    "P-value уменьшился до 1%  что значит между сегментами в количестве заказов есть разница.\\\n",
    "Сегмент B лучше сегмента А на 17,4 %. Выше, чем с сырыми данными - 13.8 %."
   ]
  },
  {
   "cell_type": "markdown",
   "id": "c93af9a4",
   "metadata": {},
   "source": [
    "#### Посчитаем статистическую значимость различий в среднем чеке заказа между группами по «очищенным» данным. "
   ]
  },
  {
   "cell_type": "markdown",
   "id": "cf93c7e9",
   "metadata": {},
   "source": [
    "Нулевая гипотеза: различий в среднем чеке между группами нет. Альтернативная гипотеза: различия в среднем чеке между группами есть"
   ]
  },
  {
   "cell_type": "code",
   "execution_count": 54,
   "id": "e4cd5bd3",
   "metadata": {},
   "outputs": [
    {
     "name": "stdout",
     "output_type": "stream",
     "text": [
      "p-value =  0.798\n",
      "Относительный показатель =  -0.02\n"
     ]
    }
   ],
   "source": [
    "print(\n",
    "    'p-value =  {0:.3f}'.format(\n",
    "        stats.mannwhitneyu(\n",
    "            orders[\n",
    "                np.logical_and(\n",
    "                    orders['group'] == 'A',\n",
    "                    np.logical_not(orders['visitorId'].isin(abnormalUsers)),\n",
    "                )\n",
    "            ]['revenue'],\n",
    "            orders[\n",
    "                np.logical_and(\n",
    "                    orders['group'] == 'B',\n",
    "                    np.logical_not(orders['visitorId'].isin(abnormalUsers)),\n",
    "                )\n",
    "            ]['revenue'],\n",
    "        )[1]\n",
    "    )\n",
    ")\n",
    "\n",
    "print(\n",
    "    \"Относительный показатель =  {0:.2f}\".format(\n",
    "        orders[\n",
    "            np.logical_and(\n",
    "                orders['group'] == 'B',\n",
    "                np.logical_not(orders['visitorId'].isin(abnormalUsers)),\n",
    "            )\n",
    "        ]['revenue'].mean()\n",
    "        / orders[\n",
    "            np.logical_and(\n",
    "                orders['group'] == 'A',\n",
    "                np.logical_not(orders['visitorId'].isin(abnormalUsers)),\n",
    "            )\n",
    "        ]['revenue'].mean()\n",
    "        - 1\n",
    "    )\n",
    ") "
   ]
  },
  {
   "cell_type": "markdown",
   "id": "1a1cde25",
   "metadata": {},
   "source": [
    "Гипотеза  различий в среднем чеке между группами нет так же как и проверка гипотезы в \"сырых данных\".\\\n",
    "Разницы между групами А и В незначительное и составляет 2 %. Намного меньше чем в \"сырых данных\" 25.9 %."
   ]
  },
  {
   "cell_type": "markdown",
   "id": "0ca6d59d",
   "metadata": {},
   "source": [
    "## Примите решение по результатам теста и объясните его. Варианты решений:"
   ]
  },
  {
   "cell_type": "markdown",
   "id": "b7e7f072",
   "metadata": {},
   "source": [
    "\n",
    "    "
   ]
  },
  {
   "cell_type": "markdown",
   "id": "7328fc5e",
   "metadata": {},
   "source": [
    "победу одной из групп.\n"
   ]
  },
  {
   "cell_type": "markdown",
   "id": "52826bb8",
   "metadata": {},
   "source": [
    "С помощью графиков выявлены колебания из-за аномалии. С помощью 95-й и 99-й перцентили мы выявили аномальные значения.\n",
    "График различия конверсии между группами сообщает, что результаты группы B лучше группы A: имеют тенденцию к росту, либо зафиксировались около среднего значения.\n",
    "\n",
    "В сырых данными коэффициент среднего количества заказов сегмента B лучше сегмента А и составил 13.8 %. В очищенных данных сегмент B лучше сегмента А вырос и составил 17,4 %. \n",
    "\n",
    "В сырых данных нулевая гипотеза что значимых различий в 'среднем числе заказов' между группами не подтвердилась 0.017. После очистки данных нулевая гипотеза так же не подтвердилась и составил 0.01.\n",
    "\n",
    "По сырым данным нет статистически значимого различия по среднему чеку между группами 72,9 %. После удаления аномалий статистически значимое различие так же не подтвердилось и составило 79,8 %.\n",
    "\n",
    "По среднему чеку заказа разница между группами в сырых данных у группы B значительно выше среднего чека группы A и составляет 25.9 % . Но после удаления аномалий разницы между группами А и В стала незначительными и составляет 2 %. Намного меньше чем в \"сырых данных\"."
   ]
  },
  {
   "cell_type": "markdown",
   "id": "5a50ceab",
   "metadata": {},
   "source": [
    "### Вывод\n",
    "\n",
    "Результаты тестирования можно признать удачными. Стоит остановить тестирование и признать группу B лучше группы А по среднему количеству заказов.\n",
    "При этом различия по среднему чеку после очистки от аномальных значений незначительные."
   ]
  }
 ],
 "metadata": {
  "ExecuteTimeLog": [
   {
    "duration": 1148,
    "start_time": "2023-04-15T22:00:54.940Z"
   },
   {
    "duration": 326,
    "start_time": "2023-04-15T22:00:56.090Z"
   },
   {
    "duration": 16,
    "start_time": "2023-04-15T22:00:56.418Z"
   },
   {
    "duration": 17,
    "start_time": "2023-04-15T22:00:56.437Z"
   },
   {
    "duration": 25,
    "start_time": "2023-04-15T22:00:56.460Z"
   },
   {
    "duration": 46,
    "start_time": "2023-04-15T22:00:56.487Z"
   },
   {
    "duration": 18,
    "start_time": "2023-04-15T22:00:56.535Z"
   },
   {
    "duration": 12,
    "start_time": "2023-04-15T22:00:56.555Z"
   },
   {
    "duration": 18,
    "start_time": "2023-04-15T22:00:56.569Z"
   },
   {
    "duration": 23,
    "start_time": "2023-04-15T22:00:56.592Z"
   },
   {
    "duration": 6,
    "start_time": "2023-04-15T22:00:56.616Z"
   },
   {
    "duration": 15,
    "start_time": "2023-04-15T22:00:56.624Z"
   },
   {
    "duration": 210,
    "start_time": "2023-04-15T22:00:56.641Z"
   },
   {
    "duration": 8,
    "start_time": "2023-04-15T22:00:56.854Z"
   },
   {
    "duration": 26,
    "start_time": "2023-04-15T22:00:56.864Z"
   },
   {
    "duration": 5,
    "start_time": "2023-04-15T22:00:56.893Z"
   },
   {
    "duration": 12,
    "start_time": "2023-04-15T22:00:56.900Z"
   },
   {
    "duration": 10,
    "start_time": "2023-04-15T22:00:56.915Z"
   },
   {
    "duration": 13,
    "start_time": "2023-04-15T22:00:56.928Z"
   },
   {
    "duration": 8,
    "start_time": "2023-04-15T22:00:56.943Z"
   },
   {
    "duration": 40,
    "start_time": "2023-04-15T22:00:56.954Z"
   },
   {
    "duration": 18,
    "start_time": "2023-04-15T22:00:56.996Z"
   },
   {
    "duration": 182,
    "start_time": "2023-04-15T22:00:57.016Z"
   },
   {
    "duration": 8,
    "start_time": "2023-04-15T22:00:57.200Z"
   },
   {
    "duration": 23,
    "start_time": "2023-04-15T22:00:57.211Z"
   },
   {
    "duration": 15,
    "start_time": "2023-04-15T22:00:57.236Z"
   },
   {
    "duration": 205,
    "start_time": "2023-04-15T22:00:57.253Z"
   },
   {
    "duration": 159,
    "start_time": "2023-04-15T22:00:57.462Z"
   },
   {
    "duration": 17,
    "start_time": "2023-04-15T22:00:57.623Z"
   },
   {
    "duration": 15,
    "start_time": "2023-04-15T22:00:57.643Z"
   },
   {
    "duration": 350,
    "start_time": "2023-04-15T22:00:57.661Z"
   },
   {
    "duration": 10,
    "start_time": "2023-04-15T22:00:58.013Z"
   },
   {
    "duration": 23,
    "start_time": "2023-04-15T22:00:58.025Z"
   },
   {
    "duration": 258,
    "start_time": "2023-04-15T22:00:58.050Z"
   },
   {
    "duration": 314,
    "start_time": "2023-04-15T22:00:58.310Z"
   },
   {
    "duration": 7,
    "start_time": "2023-04-15T22:00:58.626Z"
   },
   {
    "duration": 207,
    "start_time": "2023-04-15T22:00:58.635Z"
   },
   {
    "duration": 379,
    "start_time": "2023-04-15T22:00:58.846Z"
   },
   {
    "duration": 14,
    "start_time": "2023-04-15T22:00:59.227Z"
   },
   {
    "duration": 151,
    "start_time": "2023-04-15T22:00:59.244Z"
   },
   {
    "duration": 4,
    "start_time": "2023-04-15T22:00:59.397Z"
   },
   {
    "duration": 160,
    "start_time": "2023-04-15T22:00:59.403Z"
   },
   {
    "duration": 5,
    "start_time": "2023-04-15T22:00:59.565Z"
   },
   {
    "duration": 240,
    "start_time": "2023-04-15T22:00:59.588Z"
   },
   {
    "duration": 243,
    "start_time": "2023-04-15T22:00:59.831Z"
   },
   {
    "duration": 31,
    "start_time": "2023-04-15T22:01:00.076Z"
   },
   {
    "duration": 257,
    "start_time": "2023-04-15T22:01:00.109Z"
   },
   {
    "duration": 25,
    "start_time": "2023-04-15T22:01:00.368Z"
   },
   {
    "duration": 19,
    "start_time": "2023-04-15T22:01:00.396Z"
   },
   {
    "duration": 77,
    "start_time": "2023-04-15T22:01:00.417Z"
   },
   {
    "duration": 22,
    "start_time": "2023-04-15T22:01:00.497Z"
   },
   {
    "duration": 73,
    "start_time": "2023-04-18T16:03:09.535Z"
   },
   {
    "duration": 1405,
    "start_time": "2023-04-18T16:03:23.351Z"
   },
   {
    "duration": 344,
    "start_time": "2023-04-18T16:03:24.758Z"
   },
   {
    "duration": 12,
    "start_time": "2023-04-18T16:03:25.104Z"
   },
   {
    "duration": 24,
    "start_time": "2023-04-18T16:03:25.118Z"
   },
   {
    "duration": 16,
    "start_time": "2023-04-18T16:03:25.144Z"
   },
   {
    "duration": 42,
    "start_time": "2023-04-18T16:03:25.161Z"
   },
   {
    "duration": 17,
    "start_time": "2023-04-18T16:03:25.205Z"
   },
   {
    "duration": 12,
    "start_time": "2023-04-18T16:03:25.223Z"
   },
   {
    "duration": 40,
    "start_time": "2023-04-18T16:03:25.236Z"
   },
   {
    "duration": 9,
    "start_time": "2023-04-18T16:03:25.280Z"
   },
   {
    "duration": 22,
    "start_time": "2023-04-18T16:03:25.291Z"
   },
   {
    "duration": 16,
    "start_time": "2023-04-18T16:03:25.315Z"
   },
   {
    "duration": 18,
    "start_time": "2023-04-18T16:03:25.333Z"
   },
   {
    "duration": 33,
    "start_time": "2023-04-18T16:03:25.353Z"
   },
   {
    "duration": 212,
    "start_time": "2023-04-18T16:03:25.387Z"
   },
   {
    "duration": 7,
    "start_time": "2023-04-18T16:03:25.603Z"
   },
   {
    "duration": 10,
    "start_time": "2023-04-18T16:03:25.612Z"
   },
   {
    "duration": 16,
    "start_time": "2023-04-18T16:03:25.624Z"
   },
   {
    "duration": 11,
    "start_time": "2023-04-18T16:03:25.642Z"
   },
   {
    "duration": 22,
    "start_time": "2023-04-18T16:03:25.667Z"
   },
   {
    "duration": 18,
    "start_time": "2023-04-18T16:03:25.690Z"
   },
   {
    "duration": 6,
    "start_time": "2023-04-18T16:03:25.710Z"
   },
   {
    "duration": 9,
    "start_time": "2023-04-18T16:03:25.717Z"
   },
   {
    "duration": 17,
    "start_time": "2023-04-18T16:03:25.727Z"
   },
   {
    "duration": 175,
    "start_time": "2023-04-18T16:03:25.746Z"
   },
   {
    "duration": 5,
    "start_time": "2023-04-18T16:03:25.923Z"
   },
   {
    "duration": 21,
    "start_time": "2023-04-18T16:03:25.930Z"
   },
   {
    "duration": 22,
    "start_time": "2023-04-18T16:03:25.955Z"
   },
   {
    "duration": 27,
    "start_time": "2023-04-18T16:03:25.979Z"
   },
   {
    "duration": 197,
    "start_time": "2023-04-18T16:03:26.008Z"
   },
   {
    "duration": 143,
    "start_time": "2023-04-18T16:03:26.208Z"
   },
   {
    "duration": 31,
    "start_time": "2023-04-18T16:03:26.353Z"
   },
   {
    "duration": 10,
    "start_time": "2023-04-18T16:03:26.387Z"
   },
   {
    "duration": 373,
    "start_time": "2023-04-18T16:03:26.400Z"
   },
   {
    "duration": 15,
    "start_time": "2023-04-18T16:03:26.775Z"
   },
   {
    "duration": 28,
    "start_time": "2023-04-18T16:03:26.792Z"
   },
   {
    "duration": 283,
    "start_time": "2023-04-18T16:03:26.822Z"
   },
   {
    "duration": 406,
    "start_time": "2023-04-18T16:03:27.113Z"
   },
   {
    "duration": 7,
    "start_time": "2023-04-18T16:03:27.521Z"
   },
   {
    "duration": 313,
    "start_time": "2023-04-18T16:03:27.529Z"
   },
   {
    "duration": 398,
    "start_time": "2023-04-18T16:03:27.844Z"
   },
   {
    "duration": 23,
    "start_time": "2023-04-18T16:03:28.244Z"
   },
   {
    "duration": 158,
    "start_time": "2023-04-18T16:03:28.269Z"
   },
   {
    "duration": 4,
    "start_time": "2023-04-18T16:03:28.429Z"
   },
   {
    "duration": 202,
    "start_time": "2023-04-18T16:03:28.435Z"
   },
   {
    "duration": 4,
    "start_time": "2023-04-18T16:03:28.638Z"
   },
   {
    "duration": 312,
    "start_time": "2023-04-18T16:03:28.644Z"
   },
   {
    "duration": 260,
    "start_time": "2023-04-18T16:03:28.957Z"
   },
   {
    "duration": 25,
    "start_time": "2023-04-18T16:03:29.219Z"
   },
   {
    "duration": 213,
    "start_time": "2023-04-18T16:03:29.246Z"
   },
   {
    "duration": 15,
    "start_time": "2023-04-18T16:03:29.461Z"
   },
   {
    "duration": 23,
    "start_time": "2023-04-18T16:03:29.478Z"
   },
   {
    "duration": 58,
    "start_time": "2023-04-18T16:03:29.504Z"
   },
   {
    "duration": 18,
    "start_time": "2023-04-18T16:03:29.564Z"
   }
  ],
  "kernelspec": {
   "display_name": "Python 3 (ipykernel)",
   "language": "python",
   "name": "python3"
  },
  "language_info": {
   "codemirror_mode": {
    "name": "ipython",
    "version": 3
   },
   "file_extension": ".py",
   "mimetype": "text/x-python",
   "name": "python",
   "nbconvert_exporter": "python",
   "pygments_lexer": "ipython3",
   "version": "3.10.9"
  },
  "toc": {
   "base_numbering": 1,
   "nav_menu": {},
   "number_sections": true,
   "sideBar": true,
   "skip_h1_title": true,
   "title_cell": "Table of Contents",
   "title_sidebar": "Contents",
   "toc_cell": false,
   "toc_position": {},
   "toc_section_display": true,
   "toc_window_display": false
  }
 },
 "nbformat": 4,
 "nbformat_minor": 5
}
