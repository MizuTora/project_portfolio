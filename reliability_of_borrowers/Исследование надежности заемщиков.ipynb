{
 "cells": [
  {
   "cell_type": "markdown",
   "id": "534d4c1a-8633-4582-870d-59ffbea7b993",
   "metadata": {
    "deletable": false,
    "editable": false,
    "id": "c81daeeb"
   },
   "source": [
    "# Исследование надежности заемщиков\n"
   ]
  },
  {
   "cell_type": "markdown",
   "id": "492d969e",
   "metadata": {
    "deletable": true,
    "id": "827c20bf",
    "tags": []
   },
   "source": [
    "Во второй части проекта вы выполните шаги 3 и 4. Их вручную проверит ревьюер.\n",
    "Чтобы вам не пришлось писать код заново для шагов 1 и 2, мы добавили авторские решения в ячейки с кодом. \n",
    "\n"
   ]
  },
  {
   "cell_type": "markdown",
   "id": "10d8493e",
   "metadata": {
    "deletable": true,
    "id": "744d7639",
    "tags": []
   },
   "source": [
    "## Откройте таблицу и изучите общую информацию о данных"
   ]
  },
  {
   "cell_type": "markdown",
   "id": "d86196a8",
   "metadata": {
    "deletable": true,
    "id": "e7a14c31",
    "tags": []
   },
   "source": [
    "**Задание 1. Импортируйте библиотеку pandas. Считайте данные из csv-файла в датафрейм и сохраните в переменную `data`. Путь к файлу:**\n",
    "\n",
    "`/datasets/data.csv`"
   ]
  },
  {
   "cell_type": "code",
   "execution_count": 1,
   "id": "492a9b4d",
   "metadata": {
    "deletable": false,
    "id": "7bcf75c9"
   },
   "outputs": [],
   "source": [
    "import pandas as pd\n",
    "\n",
    "try:\n",
    "    data = pd.read_csv('/datasets/data.csv')\n",
    "except:\n",
    "    data = pd.read_csv('https://code.s3.yandex.net/datasets/data.csv')"
   ]
  },
  {
   "cell_type": "markdown",
   "id": "cf3e2d96",
   "metadata": {
    "deletable": true,
    "id": "b8038fe3",
    "tags": []
   },
   "source": [
    "**Задание 2. Выведите первые 20 строчек датафрейма `data` на экран.**"
   ]
  },
  {
   "cell_type": "code",
   "execution_count": 2,
   "id": "59aad39f",
   "metadata": {
    "deletable": false,
    "id": "2a7cab99",
    "outputId": "1a8f3ef2-d323-4ec2-ddf7-89670b5944c4"
   },
   "outputs": [
    {
     "data": {
      "text/html": [
       "<div>\n",
       "<style scoped>\n",
       "    .dataframe tbody tr th:only-of-type {\n",
       "        vertical-align: middle;\n",
       "    }\n",
       "\n",
       "    .dataframe tbody tr th {\n",
       "        vertical-align: top;\n",
       "    }\n",
       "\n",
       "    .dataframe thead th {\n",
       "        text-align: right;\n",
       "    }\n",
       "</style>\n",
       "<table border=\"1\" class=\"dataframe\">\n",
       "  <thead>\n",
       "    <tr style=\"text-align: right;\">\n",
       "      <th></th>\n",
       "      <th>children</th>\n",
       "      <th>days_employed</th>\n",
       "      <th>dob_years</th>\n",
       "      <th>education</th>\n",
       "      <th>education_id</th>\n",
       "      <th>family_status</th>\n",
       "      <th>family_status_id</th>\n",
       "      <th>gender</th>\n",
       "      <th>income_type</th>\n",
       "      <th>debt</th>\n",
       "      <th>total_income</th>\n",
       "      <th>purpose</th>\n",
       "    </tr>\n",
       "  </thead>\n",
       "  <tbody>\n",
       "    <tr>\n",
       "      <th>0</th>\n",
       "      <td>1</td>\n",
       "      <td>-8437.673028</td>\n",
       "      <td>42</td>\n",
       "      <td>высшее</td>\n",
       "      <td>0</td>\n",
       "      <td>женат / замужем</td>\n",
       "      <td>0</td>\n",
       "      <td>F</td>\n",
       "      <td>сотрудник</td>\n",
       "      <td>0</td>\n",
       "      <td>253875.639453</td>\n",
       "      <td>покупка жилья</td>\n",
       "    </tr>\n",
       "    <tr>\n",
       "      <th>1</th>\n",
       "      <td>1</td>\n",
       "      <td>-4024.803754</td>\n",
       "      <td>36</td>\n",
       "      <td>среднее</td>\n",
       "      <td>1</td>\n",
       "      <td>женат / замужем</td>\n",
       "      <td>0</td>\n",
       "      <td>F</td>\n",
       "      <td>сотрудник</td>\n",
       "      <td>0</td>\n",
       "      <td>112080.014102</td>\n",
       "      <td>приобретение автомобиля</td>\n",
       "    </tr>\n",
       "    <tr>\n",
       "      <th>2</th>\n",
       "      <td>0</td>\n",
       "      <td>-5623.422610</td>\n",
       "      <td>33</td>\n",
       "      <td>Среднее</td>\n",
       "      <td>1</td>\n",
       "      <td>женат / замужем</td>\n",
       "      <td>0</td>\n",
       "      <td>M</td>\n",
       "      <td>сотрудник</td>\n",
       "      <td>0</td>\n",
       "      <td>145885.952297</td>\n",
       "      <td>покупка жилья</td>\n",
       "    </tr>\n",
       "    <tr>\n",
       "      <th>3</th>\n",
       "      <td>3</td>\n",
       "      <td>-4124.747207</td>\n",
       "      <td>32</td>\n",
       "      <td>среднее</td>\n",
       "      <td>1</td>\n",
       "      <td>женат / замужем</td>\n",
       "      <td>0</td>\n",
       "      <td>M</td>\n",
       "      <td>сотрудник</td>\n",
       "      <td>0</td>\n",
       "      <td>267628.550329</td>\n",
       "      <td>дополнительное образование</td>\n",
       "    </tr>\n",
       "    <tr>\n",
       "      <th>4</th>\n",
       "      <td>0</td>\n",
       "      <td>340266.072047</td>\n",
       "      <td>53</td>\n",
       "      <td>среднее</td>\n",
       "      <td>1</td>\n",
       "      <td>гражданский брак</td>\n",
       "      <td>1</td>\n",
       "      <td>F</td>\n",
       "      <td>пенсионер</td>\n",
       "      <td>0</td>\n",
       "      <td>158616.077870</td>\n",
       "      <td>сыграть свадьбу</td>\n",
       "    </tr>\n",
       "    <tr>\n",
       "      <th>5</th>\n",
       "      <td>0</td>\n",
       "      <td>-926.185831</td>\n",
       "      <td>27</td>\n",
       "      <td>высшее</td>\n",
       "      <td>0</td>\n",
       "      <td>гражданский брак</td>\n",
       "      <td>1</td>\n",
       "      <td>M</td>\n",
       "      <td>компаньон</td>\n",
       "      <td>0</td>\n",
       "      <td>255763.565419</td>\n",
       "      <td>покупка жилья</td>\n",
       "    </tr>\n",
       "    <tr>\n",
       "      <th>6</th>\n",
       "      <td>0</td>\n",
       "      <td>-2879.202052</td>\n",
       "      <td>43</td>\n",
       "      <td>высшее</td>\n",
       "      <td>0</td>\n",
       "      <td>женат / замужем</td>\n",
       "      <td>0</td>\n",
       "      <td>F</td>\n",
       "      <td>компаньон</td>\n",
       "      <td>0</td>\n",
       "      <td>240525.971920</td>\n",
       "      <td>операции с жильем</td>\n",
       "    </tr>\n",
       "    <tr>\n",
       "      <th>7</th>\n",
       "      <td>0</td>\n",
       "      <td>-152.779569</td>\n",
       "      <td>50</td>\n",
       "      <td>СРЕДНЕЕ</td>\n",
       "      <td>1</td>\n",
       "      <td>женат / замужем</td>\n",
       "      <td>0</td>\n",
       "      <td>M</td>\n",
       "      <td>сотрудник</td>\n",
       "      <td>0</td>\n",
       "      <td>135823.934197</td>\n",
       "      <td>образование</td>\n",
       "    </tr>\n",
       "    <tr>\n",
       "      <th>8</th>\n",
       "      <td>2</td>\n",
       "      <td>-6929.865299</td>\n",
       "      <td>35</td>\n",
       "      <td>ВЫСШЕЕ</td>\n",
       "      <td>0</td>\n",
       "      <td>гражданский брак</td>\n",
       "      <td>1</td>\n",
       "      <td>F</td>\n",
       "      <td>сотрудник</td>\n",
       "      <td>0</td>\n",
       "      <td>95856.832424</td>\n",
       "      <td>на проведение свадьбы</td>\n",
       "    </tr>\n",
       "    <tr>\n",
       "      <th>9</th>\n",
       "      <td>0</td>\n",
       "      <td>-2188.756445</td>\n",
       "      <td>41</td>\n",
       "      <td>среднее</td>\n",
       "      <td>1</td>\n",
       "      <td>женат / замужем</td>\n",
       "      <td>0</td>\n",
       "      <td>M</td>\n",
       "      <td>сотрудник</td>\n",
       "      <td>0</td>\n",
       "      <td>144425.938277</td>\n",
       "      <td>покупка жилья для семьи</td>\n",
       "    </tr>\n",
       "    <tr>\n",
       "      <th>10</th>\n",
       "      <td>2</td>\n",
       "      <td>-4171.483647</td>\n",
       "      <td>36</td>\n",
       "      <td>высшее</td>\n",
       "      <td>0</td>\n",
       "      <td>женат / замужем</td>\n",
       "      <td>0</td>\n",
       "      <td>M</td>\n",
       "      <td>компаньон</td>\n",
       "      <td>0</td>\n",
       "      <td>113943.491460</td>\n",
       "      <td>покупка недвижимости</td>\n",
       "    </tr>\n",
       "    <tr>\n",
       "      <th>11</th>\n",
       "      <td>0</td>\n",
       "      <td>-792.701887</td>\n",
       "      <td>40</td>\n",
       "      <td>среднее</td>\n",
       "      <td>1</td>\n",
       "      <td>женат / замужем</td>\n",
       "      <td>0</td>\n",
       "      <td>F</td>\n",
       "      <td>сотрудник</td>\n",
       "      <td>0</td>\n",
       "      <td>77069.234271</td>\n",
       "      <td>покупка коммерческой недвижимости</td>\n",
       "    </tr>\n",
       "    <tr>\n",
       "      <th>12</th>\n",
       "      <td>0</td>\n",
       "      <td>NaN</td>\n",
       "      <td>65</td>\n",
       "      <td>среднее</td>\n",
       "      <td>1</td>\n",
       "      <td>гражданский брак</td>\n",
       "      <td>1</td>\n",
       "      <td>M</td>\n",
       "      <td>пенсионер</td>\n",
       "      <td>0</td>\n",
       "      <td>NaN</td>\n",
       "      <td>сыграть свадьбу</td>\n",
       "    </tr>\n",
       "    <tr>\n",
       "      <th>13</th>\n",
       "      <td>0</td>\n",
       "      <td>-1846.641941</td>\n",
       "      <td>54</td>\n",
       "      <td>неоконченное высшее</td>\n",
       "      <td>2</td>\n",
       "      <td>женат / замужем</td>\n",
       "      <td>0</td>\n",
       "      <td>F</td>\n",
       "      <td>сотрудник</td>\n",
       "      <td>0</td>\n",
       "      <td>130458.228857</td>\n",
       "      <td>приобретение автомобиля</td>\n",
       "    </tr>\n",
       "    <tr>\n",
       "      <th>14</th>\n",
       "      <td>0</td>\n",
       "      <td>-1844.956182</td>\n",
       "      <td>56</td>\n",
       "      <td>высшее</td>\n",
       "      <td>0</td>\n",
       "      <td>гражданский брак</td>\n",
       "      <td>1</td>\n",
       "      <td>F</td>\n",
       "      <td>компаньон</td>\n",
       "      <td>1</td>\n",
       "      <td>165127.911772</td>\n",
       "      <td>покупка жилой недвижимости</td>\n",
       "    </tr>\n",
       "    <tr>\n",
       "      <th>15</th>\n",
       "      <td>1</td>\n",
       "      <td>-972.364419</td>\n",
       "      <td>26</td>\n",
       "      <td>среднее</td>\n",
       "      <td>1</td>\n",
       "      <td>женат / замужем</td>\n",
       "      <td>0</td>\n",
       "      <td>F</td>\n",
       "      <td>сотрудник</td>\n",
       "      <td>0</td>\n",
       "      <td>116820.904450</td>\n",
       "      <td>строительство собственной недвижимости</td>\n",
       "    </tr>\n",
       "    <tr>\n",
       "      <th>16</th>\n",
       "      <td>0</td>\n",
       "      <td>-1719.934226</td>\n",
       "      <td>35</td>\n",
       "      <td>среднее</td>\n",
       "      <td>1</td>\n",
       "      <td>женат / замужем</td>\n",
       "      <td>0</td>\n",
       "      <td>F</td>\n",
       "      <td>сотрудник</td>\n",
       "      <td>0</td>\n",
       "      <td>289202.704229</td>\n",
       "      <td>недвижимость</td>\n",
       "    </tr>\n",
       "    <tr>\n",
       "      <th>17</th>\n",
       "      <td>0</td>\n",
       "      <td>-2369.999720</td>\n",
       "      <td>33</td>\n",
       "      <td>высшее</td>\n",
       "      <td>0</td>\n",
       "      <td>гражданский брак</td>\n",
       "      <td>1</td>\n",
       "      <td>M</td>\n",
       "      <td>сотрудник</td>\n",
       "      <td>0</td>\n",
       "      <td>90410.586745</td>\n",
       "      <td>строительство недвижимости</td>\n",
       "    </tr>\n",
       "    <tr>\n",
       "      <th>18</th>\n",
       "      <td>0</td>\n",
       "      <td>400281.136913</td>\n",
       "      <td>53</td>\n",
       "      <td>среднее</td>\n",
       "      <td>1</td>\n",
       "      <td>вдовец / вдова</td>\n",
       "      <td>2</td>\n",
       "      <td>F</td>\n",
       "      <td>пенсионер</td>\n",
       "      <td>0</td>\n",
       "      <td>56823.777243</td>\n",
       "      <td>на покупку подержанного автомобиля</td>\n",
       "    </tr>\n",
       "    <tr>\n",
       "      <th>19</th>\n",
       "      <td>0</td>\n",
       "      <td>-10038.818549</td>\n",
       "      <td>48</td>\n",
       "      <td>СРЕДНЕЕ</td>\n",
       "      <td>1</td>\n",
       "      <td>в разводе</td>\n",
       "      <td>3</td>\n",
       "      <td>F</td>\n",
       "      <td>сотрудник</td>\n",
       "      <td>0</td>\n",
       "      <td>242831.107982</td>\n",
       "      <td>на покупку своего автомобиля</td>\n",
       "    </tr>\n",
       "  </tbody>\n",
       "</table>\n",
       "</div>"
      ],
      "text/plain": [
       "    children  days_employed  dob_years            education  education_id  \\\n",
       "0          1   -8437.673028         42               высшее             0   \n",
       "1          1   -4024.803754         36              среднее             1   \n",
       "2          0   -5623.422610         33              Среднее             1   \n",
       "3          3   -4124.747207         32              среднее             1   \n",
       "4          0  340266.072047         53              среднее             1   \n",
       "5          0    -926.185831         27               высшее             0   \n",
       "6          0   -2879.202052         43               высшее             0   \n",
       "7          0    -152.779569         50              СРЕДНЕЕ             1   \n",
       "8          2   -6929.865299         35               ВЫСШЕЕ             0   \n",
       "9          0   -2188.756445         41              среднее             1   \n",
       "10         2   -4171.483647         36               высшее             0   \n",
       "11         0    -792.701887         40              среднее             1   \n",
       "12         0            NaN         65              среднее             1   \n",
       "13         0   -1846.641941         54  неоконченное высшее             2   \n",
       "14         0   -1844.956182         56               высшее             0   \n",
       "15         1    -972.364419         26              среднее             1   \n",
       "16         0   -1719.934226         35              среднее             1   \n",
       "17         0   -2369.999720         33               высшее             0   \n",
       "18         0  400281.136913         53              среднее             1   \n",
       "19         0  -10038.818549         48              СРЕДНЕЕ             1   \n",
       "\n",
       "       family_status  family_status_id gender income_type  debt  \\\n",
       "0    женат / замужем                 0      F   сотрудник     0   \n",
       "1    женат / замужем                 0      F   сотрудник     0   \n",
       "2    женат / замужем                 0      M   сотрудник     0   \n",
       "3    женат / замужем                 0      M   сотрудник     0   \n",
       "4   гражданский брак                 1      F   пенсионер     0   \n",
       "5   гражданский брак                 1      M   компаньон     0   \n",
       "6    женат / замужем                 0      F   компаньон     0   \n",
       "7    женат / замужем                 0      M   сотрудник     0   \n",
       "8   гражданский брак                 1      F   сотрудник     0   \n",
       "9    женат / замужем                 0      M   сотрудник     0   \n",
       "10   женат / замужем                 0      M   компаньон     0   \n",
       "11   женат / замужем                 0      F   сотрудник     0   \n",
       "12  гражданский брак                 1      M   пенсионер     0   \n",
       "13   женат / замужем                 0      F   сотрудник     0   \n",
       "14  гражданский брак                 1      F   компаньон     1   \n",
       "15   женат / замужем                 0      F   сотрудник     0   \n",
       "16   женат / замужем                 0      F   сотрудник     0   \n",
       "17  гражданский брак                 1      M   сотрудник     0   \n",
       "18    вдовец / вдова                 2      F   пенсионер     0   \n",
       "19         в разводе                 3      F   сотрудник     0   \n",
       "\n",
       "     total_income                                 purpose  \n",
       "0   253875.639453                           покупка жилья  \n",
       "1   112080.014102                 приобретение автомобиля  \n",
       "2   145885.952297                           покупка жилья  \n",
       "3   267628.550329              дополнительное образование  \n",
       "4   158616.077870                         сыграть свадьбу  \n",
       "5   255763.565419                           покупка жилья  \n",
       "6   240525.971920                       операции с жильем  \n",
       "7   135823.934197                             образование  \n",
       "8    95856.832424                   на проведение свадьбы  \n",
       "9   144425.938277                 покупка жилья для семьи  \n",
       "10  113943.491460                    покупка недвижимости  \n",
       "11   77069.234271       покупка коммерческой недвижимости  \n",
       "12            NaN                         сыграть свадьбу  \n",
       "13  130458.228857                 приобретение автомобиля  \n",
       "14  165127.911772              покупка жилой недвижимости  \n",
       "15  116820.904450  строительство собственной недвижимости  \n",
       "16  289202.704229                            недвижимость  \n",
       "17   90410.586745              строительство недвижимости  \n",
       "18   56823.777243      на покупку подержанного автомобиля  \n",
       "19  242831.107982            на покупку своего автомобиля  "
      ]
     },
     "execution_count": 2,
     "metadata": {},
     "output_type": "execute_result"
    }
   ],
   "source": [
    "data.head(20)"
   ]
  },
  {
   "cell_type": "markdown",
   "id": "c738f0db",
   "metadata": {
    "deletable": true,
    "id": "1c12e233",
    "tags": []
   },
   "source": [
    "**Задание 3. Выведите основную информацию о датафрейме с помощью метода `info()`.**"
   ]
  },
  {
   "cell_type": "code",
   "execution_count": 3,
   "id": "f2ade831",
   "metadata": {
    "deletable": false,
    "id": "2b757bca",
    "outputId": "15376089-8dad-46c9-b520-c05248d43158"
   },
   "outputs": [
    {
     "name": "stdout",
     "output_type": "stream",
     "text": [
      "<class 'pandas.core.frame.DataFrame'>\n",
      "RangeIndex: 21525 entries, 0 to 21524\n",
      "Data columns (total 12 columns):\n",
      " #   Column            Non-Null Count  Dtype  \n",
      "---  ------            --------------  -----  \n",
      " 0   children          21525 non-null  int64  \n",
      " 1   days_employed     19351 non-null  float64\n",
      " 2   dob_years         21525 non-null  int64  \n",
      " 3   education         21525 non-null  object \n",
      " 4   education_id      21525 non-null  int64  \n",
      " 5   family_status     21525 non-null  object \n",
      " 6   family_status_id  21525 non-null  int64  \n",
      " 7   gender            21525 non-null  object \n",
      " 8   income_type       21525 non-null  object \n",
      " 9   debt              21525 non-null  int64  \n",
      " 10  total_income      19351 non-null  float64\n",
      " 11  purpose           21525 non-null  object \n",
      "dtypes: float64(2), int64(5), object(5)\n",
      "memory usage: 2.0+ MB\n"
     ]
    }
   ],
   "source": [
    "data.info()"
   ]
  },
  {
   "cell_type": "markdown",
   "id": "b0d3b534",
   "metadata": {
    "deletable": false,
    "editable": false,
    "id": "333ec665"
   },
   "source": [
    "## Предобработка данных"
   ]
  },
  {
   "cell_type": "markdown",
   "id": "2a7d68ce",
   "metadata": {
    "deletable": false,
    "editable": false,
    "id": "02d92d53"
   },
   "source": [
    "### Удаление пропусков"
   ]
  },
  {
   "cell_type": "markdown",
   "id": "18ef28d6",
   "metadata": {
    "deletable": true,
    "id": "cd84967c",
    "tags": []
   },
   "source": [
    "**Задание 4. Выведите количество пропущенных значений для каждого столбца. Используйте комбинацию двух методов.**"
   ]
  },
  {
   "cell_type": "code",
   "execution_count": 4,
   "id": "04014c13",
   "metadata": {
    "deletable": false,
    "id": "7f9b2309",
    "outputId": "81f4d817-781c-465c-ed15-91ce4446810d"
   },
   "outputs": [
    {
     "data": {
      "text/plain": [
       "children               0\n",
       "days_employed       2174\n",
       "dob_years              0\n",
       "education              0\n",
       "education_id           0\n",
       "family_status          0\n",
       "family_status_id       0\n",
       "gender                 0\n",
       "income_type            0\n",
       "debt                   0\n",
       "total_income        2174\n",
       "purpose                0\n",
       "dtype: int64"
      ]
     },
     "execution_count": 4,
     "metadata": {},
     "output_type": "execute_result"
    }
   ],
   "source": [
    "data.isna().sum()"
   ]
  },
  {
   "cell_type": "markdown",
   "id": "d41c80e3",
   "metadata": {
    "deletable": true,
    "id": "db86e27b",
    "tags": []
   },
   "source": [
    "**Задание 5. В двух столбцах есть пропущенные значения. Один из них — `days_employed`. Пропуски в этом столбце вы обработаете на следующем этапе. Другой столбец с пропущенными значениями — `total_income` — хранит данные о доходах. На сумму дохода сильнее всего влияет тип занятости, поэтому заполнить пропуски в этом столбце нужно медианным значением по каждому типу из столбца `income_type`. Например, у человека с типом занятости `сотрудник` пропуск в столбце `total_income` должен быть заполнен медианным доходом среди всех записей с тем же типом.**"
   ]
  },
  {
   "cell_type": "code",
   "execution_count": 5,
   "id": "b7548898",
   "metadata": {
    "deletable": false,
    "id": "42006a93"
   },
   "outputs": [],
   "source": [
    "for t in data['income_type'].unique():\n",
    "    data.loc[(data['income_type'] == t) & (data['total_income'].isna()), 'total_income'] = \\\n",
    "    data.loc[(data['income_type'] == t), 'total_income'].median()"
   ]
  },
  {
   "cell_type": "markdown",
   "id": "a316d79c",
   "metadata": {
    "deletable": false,
    "editable": false,
    "id": "89da5ece"
   },
   "source": [
    "### Обработка аномальных значений"
   ]
  },
  {
   "cell_type": "markdown",
   "id": "f5ca8ae4",
   "metadata": {
    "deletable": true,
    "id": "57964554",
    "tags": []
   },
   "source": [
    "**Задание 6. В данных могут встречаться артефакты (аномалии) — значения, которые не отражают действительность и появились по какой-то ошибке. таким артефактом будет отрицательное количество дней трудового стажа в столбце `days_employed`. Для реальных данных это нормально. Обработайте значения в этом столбце: замените все отрицательные значения положительными с помощью метода `abs()`.**"
   ]
  },
  {
   "cell_type": "code",
   "execution_count": 6,
   "id": "77f65d1e",
   "metadata": {
    "deletable": false,
    "id": "f6f055bf"
   },
   "outputs": [],
   "source": [
    "data['days_employed'] = data['days_employed'].abs()"
   ]
  },
  {
   "cell_type": "markdown",
   "id": "a6e66238",
   "metadata": {
    "deletable": true,
    "id": "6107dd2f",
    "tags": []
   },
   "source": [
    "**Задание 7. Для каждого типа занятости выведите медианное значение трудового стажа `days_employed` в днях.**"
   ]
  },
  {
   "cell_type": "code",
   "execution_count": 7,
   "id": "6b42c837",
   "metadata": {
    "deletable": false,
    "id": "85a5faf6",
    "outputId": "801ef80e-522b-4668-f34e-565af7432bcf"
   },
   "outputs": [
    {
     "data": {
      "text/plain": [
       "income_type\n",
       "безработный        366413.652744\n",
       "в декрете            3296.759962\n",
       "госслужащий          2689.368353\n",
       "компаньон            1547.382223\n",
       "пенсионер          365213.306266\n",
       "предприниматель       520.848083\n",
       "сотрудник            1574.202821\n",
       "студент               578.751554\n",
       "Name: days_employed, dtype: float64"
      ]
     },
     "execution_count": 7,
     "metadata": {},
     "output_type": "execute_result"
    }
   ],
   "source": [
    "data.groupby('income_type')['days_employed'].agg('median')"
   ]
  },
  {
   "cell_type": "markdown",
   "id": "63aacd34",
   "metadata": {
    "deletable": false,
    "editable": false,
    "id": "38d1a030"
   },
   "source": [
    "У двух типов (безработные и пенсионеры) получатся аномально большие значения. Исправить такие значения сложно, поэтому оставьте их как есть. Тем более этот столбец не понадобится вам для исследования."
   ]
  },
  {
   "cell_type": "markdown",
   "id": "8a242009",
   "metadata": {
    "deletable": true,
    "id": "d8a9f147",
    "tags": []
   },
   "source": [
    "**Задание 8. Выведите перечень уникальных значений столбца `children`.**"
   ]
  },
  {
   "cell_type": "code",
   "execution_count": 8,
   "id": "485a007f",
   "metadata": {
    "deletable": false,
    "id": "ef5056eb",
    "outputId": "6975b15c-7f95-4697-d16d-a0c79b657b03"
   },
   "outputs": [
    {
     "data": {
      "text/plain": [
       "array([ 1,  0,  3,  2, -1,  4, 20,  5])"
      ]
     },
     "execution_count": 8,
     "metadata": {},
     "output_type": "execute_result"
    }
   ],
   "source": [
    "data['children'].unique()"
   ]
  },
  {
   "cell_type": "markdown",
   "id": "835fad56",
   "metadata": {
    "deletable": true,
    "id": "40b9ebf2",
    "tags": []
   },
   "source": [
    "**Задание 9. В столбце `children` есть два аномальных значения. Удалите строки, в которых встречаются такие аномальные значения из датафрейма `data`.**"
   ]
  },
  {
   "cell_type": "code",
   "execution_count": 9,
   "id": "b7d58672",
   "metadata": {
    "deletable": false,
    "id": "3ff9801d"
   },
   "outputs": [],
   "source": [
    "data = data[(data['children'] != -1) & (data['children'] != 20)]"
   ]
  },
  {
   "cell_type": "markdown",
   "id": "dba64450",
   "metadata": {
    "deletable": true,
    "id": "bbc4d0ce",
    "tags": []
   },
   "source": [
    "**Задание 10. Ещё раз выведите перечень уникальных значений столбца `children`, чтобы убедиться, что артефакты удалены.**"
   ]
  },
  {
   "cell_type": "code",
   "execution_count": 10,
   "id": "7f2ec888",
   "metadata": {
    "deletable": false,
    "id": "ad4fa8b7",
    "outputId": "b2097101-d49d-44d9-901b-32a65c9463d1"
   },
   "outputs": [
    {
     "data": {
      "text/plain": [
       "array([1, 0, 3, 2, 4, 5])"
      ]
     },
     "execution_count": 10,
     "metadata": {},
     "output_type": "execute_result"
    }
   ],
   "source": [
    "data['children'].unique()"
   ]
  },
  {
   "cell_type": "markdown",
   "id": "841cd0fe",
   "metadata": {
    "deletable": false,
    "editable": false,
    "id": "75440b63"
   },
   "source": [
    "### Удаление пропусков (продолжение)"
   ]
  },
  {
   "cell_type": "markdown",
   "id": "fc0f23df",
   "metadata": {
    "deletable": true,
    "id": "f4ea573f",
    "tags": []
   },
   "source": [
    "**Задание 11. Заполните пропуски в столбце `days_employed` медианными значениями по каждого типа занятости `income_type`.**"
   ]
  },
  {
   "cell_type": "code",
   "execution_count": 11,
   "id": "490ab13f",
   "metadata": {
    "deletable": false,
    "id": "af6b1a7e"
   },
   "outputs": [],
   "source": [
    "for t in data['income_type'].unique():\n",
    "    data.loc[(data['income_type'] == t) & (data['days_employed'].isna()), 'days_employed'] = \\\n",
    "    data.loc[(data['income_type'] == t), 'days_employed'].median()"
   ]
  },
  {
   "cell_type": "markdown",
   "id": "7312757a",
   "metadata": {
    "deletable": true,
    "id": "2753f40d",
    "tags": []
   },
   "source": [
    "**Задание 12. Убедитесь, что все пропуски заполнены. Проверьте себя и ещё раз выведите количество пропущенных значений для каждого столбца с помощью двух методов.**"
   ]
  },
  {
   "cell_type": "code",
   "execution_count": 12,
   "id": "ea02809e",
   "metadata": {
    "deletable": false,
    "id": "55f78bc2",
    "outputId": "8da1e4e1-358e-4e87-98c9-f261bce0a7b2"
   },
   "outputs": [
    {
     "data": {
      "text/plain": [
       "children            0\n",
       "days_employed       0\n",
       "dob_years           0\n",
       "education           0\n",
       "education_id        0\n",
       "family_status       0\n",
       "family_status_id    0\n",
       "gender              0\n",
       "income_type         0\n",
       "debt                0\n",
       "total_income        0\n",
       "purpose             0\n",
       "dtype: int64"
      ]
     },
     "execution_count": 12,
     "metadata": {},
     "output_type": "execute_result"
    }
   ],
   "source": [
    "data.isna().sum()"
   ]
  },
  {
   "cell_type": "markdown",
   "id": "00e48565",
   "metadata": {
    "deletable": false,
    "editable": false,
    "id": "ddc81e43"
   },
   "source": [
    "### Изменение типов данных"
   ]
  },
  {
   "cell_type": "markdown",
   "id": "cb4d8953",
   "metadata": {
    "deletable": true,
    "id": "42d19d24",
    "tags": []
   },
   "source": [
    "**Задание 13. Замените вещественный тип данных в столбце `total_income` на целочисленный с помощью метода `astype()`.**"
   ]
  },
  {
   "cell_type": "code",
   "execution_count": 13,
   "id": "609a1562",
   "metadata": {
    "deletable": false,
    "id": "920b65ad"
   },
   "outputs": [],
   "source": [
    "data['total_income'] = data['total_income'].astype(int)"
   ]
  },
  {
   "cell_type": "markdown",
   "id": "73ee101b",
   "metadata": {
    "deletable": false,
    "editable": false,
    "id": "80c420ba"
   },
   "source": [
    "### Обработка дубликатов"
   ]
  },
  {
   "cell_type": "markdown",
   "id": "6f14876a",
   "metadata": {
    "deletable": true,
    "tags": []
   },
   "source": [
    "**Задание 14. Обработайте неявные дубликаты в столбце `education`. В этом столбце есть одни и те же значения, но записанные по-разному: с использованием заглавных и строчных букв. Приведите их к нижнему регистру.**"
   ]
  },
  {
   "cell_type": "code",
   "execution_count": 14,
   "id": "a8c379c4",
   "metadata": {
    "deletable": false
   },
   "outputs": [],
   "source": [
    "data['education'] = data['education'].str.lower()"
   ]
  },
  {
   "cell_type": "markdown",
   "id": "0af8bed1",
   "metadata": {
    "deletable": true,
    "id": "dc587695",
    "tags": []
   },
   "source": [
    "**Задание 15. Выведите на экран количество строк-дубликатов в данных. Если такие строки присутствуют, удалите их.**"
   ]
  },
  {
   "cell_type": "code",
   "execution_count": 15,
   "id": "91976310",
   "metadata": {
    "deletable": false,
    "id": "3ee445e4",
    "outputId": "9684deba-1934-42d1-99e1-cda61740f822"
   },
   "outputs": [
    {
     "data": {
      "text/plain": [
       "71"
      ]
     },
     "execution_count": 15,
     "metadata": {},
     "output_type": "execute_result"
    }
   ],
   "source": [
    "data.duplicated().sum()"
   ]
  },
  {
   "cell_type": "code",
   "execution_count": 16,
   "id": "f1faff37",
   "metadata": {
    "deletable": false,
    "id": "8575fe05"
   },
   "outputs": [],
   "source": [
    "data = data.drop_duplicates()"
   ]
  },
  {
   "cell_type": "markdown",
   "id": "af0bac10",
   "metadata": {
    "deletable": false,
    "editable": false,
    "id": "9904cf55"
   },
   "source": [
    "### Категоризация данных"
   ]
  },
  {
   "cell_type": "markdown",
   "id": "25dc062b",
   "metadata": {
    "deletable": true,
    "id": "72fcc8a2",
    "tags": []
   },
   "source": [
    "**Задание 16. На основании диапазонов, указанных ниже, создайте в датафрейме `data` столбец `total_income_category` с категориями:**\n",
    "\n",
    "- 0–30000 — `'E'`;\n",
    "- 30001–50000 — `'D'`;\n",
    "- 50001–200000 — `'C'`;\n",
    "- 200001–1000000 — `'B'`;\n",
    "- 1000001 и выше — `'A'`.\n",
    "\n",
    "\n",
    "**Например, кредитополучателю с доходом 25000 нужно назначить категорию `'E'`, а клиенту, получающему 235000, — `'B'`. Используйте собственную функцию с именем `categorize_income()` и метод `apply()`.**"
   ]
  },
  {
   "cell_type": "code",
   "execution_count": 17,
   "id": "3a9caddb",
   "metadata": {
    "deletable": false,
    "id": "e1771346"
   },
   "outputs": [],
   "source": [
    "def categorize_income(income):\n",
    "    try:\n",
    "        if 0 <= income <= 30000:\n",
    "            return 'E'\n",
    "        elif 30001 <= income <= 50000:\n",
    "            return 'D'\n",
    "        elif 50001 <= income <= 200000:\n",
    "            return 'C'\n",
    "        elif 200001 <= income <= 1000000:\n",
    "            return 'B'\n",
    "        elif income >= 1000001:\n",
    "            return 'A'\n",
    "    except:\n",
    "        pass"
   ]
  },
  {
   "cell_type": "code",
   "execution_count": 18,
   "id": "712e81ef",
   "metadata": {
    "deletable": false,
    "id": "d5f3586d"
   },
   "outputs": [],
   "source": [
    "data['total_income_category'] = data['total_income'].apply(categorize_income)"
   ]
  },
  {
   "cell_type": "markdown",
   "id": "019f1505",
   "metadata": {
    "deletable": true,
    "id": "dde49b5c",
    "tags": []
   },
   "source": [
    "**Задание 17. Выведите на экран перечень уникальных целей взятия кредита из столбца `purpose`.**"
   ]
  },
  {
   "cell_type": "code",
   "execution_count": 19,
   "id": "c7379ec4",
   "metadata": {
    "deletable": false,
    "id": "f67ce9b3",
    "outputId": "673c12d9-7d7e-4ae0-9812-c622c89dd244"
   },
   "outputs": [
    {
     "data": {
      "text/plain": [
       "array(['покупка жилья', 'приобретение автомобиля',\n",
       "       'дополнительное образование', 'сыграть свадьбу',\n",
       "       'операции с жильем', 'образование', 'на проведение свадьбы',\n",
       "       'покупка жилья для семьи', 'покупка недвижимости',\n",
       "       'покупка коммерческой недвижимости', 'покупка жилой недвижимости',\n",
       "       'строительство собственной недвижимости', 'недвижимость',\n",
       "       'строительство недвижимости', 'на покупку подержанного автомобиля',\n",
       "       'на покупку своего автомобиля',\n",
       "       'операции с коммерческой недвижимостью',\n",
       "       'строительство жилой недвижимости', 'жилье',\n",
       "       'операции со своей недвижимостью', 'автомобили',\n",
       "       'заняться образованием', 'сделка с подержанным автомобилем',\n",
       "       'получение образования', 'автомобиль', 'свадьба',\n",
       "       'получение дополнительного образования', 'покупка своего жилья',\n",
       "       'операции с недвижимостью', 'получение высшего образования',\n",
       "       'свой автомобиль', 'сделка с автомобилем',\n",
       "       'профильное образование', 'высшее образование',\n",
       "       'покупка жилья для сдачи', 'на покупку автомобиля', 'ремонт жилью',\n",
       "       'заняться высшим образованием'], dtype=object)"
      ]
     },
     "execution_count": 19,
     "metadata": {},
     "output_type": "execute_result"
    }
   ],
   "source": [
    "data['purpose'].unique()"
   ]
  },
  {
   "cell_type": "markdown",
   "id": "c787cf9b",
   "metadata": {
    "deletable": true,
    "id": "85d0aef0",
    "tags": []
   },
   "source": [
    "**Задание 18. Создайте функцию, которая на основании данных из столбца `purpose` сформирует новый столбец `purpose_category`, в который войдут следующие категории:**\n",
    "\n",
    "- `'операции с автомобилем'`,\n",
    "- `'операции с недвижимостью'`,\n",
    "- `'проведение свадьбы'`,\n",
    "- `'получение образования'`.\n",
    "\n",
    "**Например, если в столбце `purpose` находится подстрока `'на покупку автомобиля'`, то в столбце `purpose_category` должна появиться строка `'операции с автомобилем'`.**\n",
    "\n",
    "**Используйте собственную функцию с именем `categorize_purpose()` и метод `apply()`. Изучите данные в столбце `purpose` и определите, какие подстроки помогут вам правильно определить категорию.**"
   ]
  },
  {
   "cell_type": "code",
   "execution_count": 20,
   "id": "7a75b5af",
   "metadata": {
    "deletable": false,
    "id": "e149fab4"
   },
   "outputs": [],
   "source": [
    "def categorize_purpose(row):\n",
    "    try:\n",
    "        if 'автом' in row:\n",
    "            return 'операции с автомобилем'\n",
    "        elif 'жил' in row or 'недвиж' in row:\n",
    "            return 'операции с недвижимостью'\n",
    "        elif 'свад' in row:\n",
    "            return 'проведение свадьбы'\n",
    "        elif 'образов' in row:\n",
    "            return 'получение образования'\n",
    "    except:\n",
    "        return 'нет категории'"
   ]
  },
  {
   "cell_type": "code",
   "execution_count": 21,
   "id": "5dc82d39",
   "metadata": {
    "deletable": false,
    "id": "bf36e69b"
   },
   "outputs": [],
   "source": [
    "data['purpose_category'] = data['purpose'].apply(categorize_purpose)"
   ]
  },
  {
   "cell_type": "markdown",
   "id": "36aed763",
   "metadata": {
    "deletable": true,
    "id": "09b242bf",
    "tags": []
   },
   "source": [
    "### Шаг 3. Исследуйте данные и ответьте на вопросы"
   ]
  },
  {
   "cell_type": "markdown",
   "id": "d03a704f",
   "metadata": {
    "deletable": true,
    "id": "c5d66278",
    "tags": []
   },
   "source": [
    "#### 3.1 Есть ли зависимость между количеством детей и возвратом кредита в срок?"
   ]
  },
  {
   "cell_type": "code",
   "execution_count": 22,
   "id": "c899a3a3",
   "metadata": {
    "deletable": false,
    "id": "2cacfc4a"
   },
   "outputs": [
    {
     "data": {
      "text/html": [
       "<div>\n",
       "<style scoped>\n",
       "    .dataframe tbody tr th:only-of-type {\n",
       "        vertical-align: middle;\n",
       "    }\n",
       "\n",
       "    .dataframe tbody tr th {\n",
       "        vertical-align: top;\n",
       "    }\n",
       "\n",
       "    .dataframe thead th {\n",
       "        text-align: right;\n",
       "    }\n",
       "</style>\n",
       "<table border=\"1\" class=\"dataframe\">\n",
       "  <thead>\n",
       "    <tr style=\"text-align: right;\">\n",
       "      <th></th>\n",
       "      <th>sum</th>\n",
       "      <th>count</th>\n",
       "      <th>mean</th>\n",
       "    </tr>\n",
       "    <tr>\n",
       "      <th>children</th>\n",
       "      <th></th>\n",
       "      <th></th>\n",
       "      <th></th>\n",
       "    </tr>\n",
       "  </thead>\n",
       "  <tbody>\n",
       "    <tr>\n",
       "      <th>0</th>\n",
       "      <td>106300</td>\n",
       "      <td>1409100</td>\n",
       "      <td>7.5</td>\n",
       "    </tr>\n",
       "    <tr>\n",
       "      <th>1</th>\n",
       "      <td>44400</td>\n",
       "      <td>480800</td>\n",
       "      <td>9.2</td>\n",
       "    </tr>\n",
       "    <tr>\n",
       "      <th>2</th>\n",
       "      <td>19400</td>\n",
       "      <td>205200</td>\n",
       "      <td>9.5</td>\n",
       "    </tr>\n",
       "    <tr>\n",
       "      <th>3</th>\n",
       "      <td>2700</td>\n",
       "      <td>33000</td>\n",
       "      <td>8.2</td>\n",
       "    </tr>\n",
       "    <tr>\n",
       "      <th>4</th>\n",
       "      <td>400</td>\n",
       "      <td>4100</td>\n",
       "      <td>9.8</td>\n",
       "    </tr>\n",
       "    <tr>\n",
       "      <th>5</th>\n",
       "      <td>0</td>\n",
       "      <td>900</td>\n",
       "      <td>0.0</td>\n",
       "    </tr>\n",
       "  </tbody>\n",
       "</table>\n",
       "</div>"
      ],
      "text/plain": [
       "             sum    count  mean\n",
       "children                       \n",
       "0         106300  1409100   7.5\n",
       "1          44400   480800   9.2\n",
       "2          19400   205200   9.5\n",
       "3           2700    33000   8.2\n",
       "4            400     4100   9.8\n",
       "5              0      900   0.0"
      ]
     },
     "execution_count": 22,
     "metadata": {},
     "output_type": "execute_result"
    }
   ],
   "source": [
    "# сгрупируем по параметру числа детей с расчетом доли должников и применим функцию agg()\n",
    "round(data.groupby('children')['debt'].agg(['sum','count','mean'])*100, 1)"
   ]
  },
  {
   "cell_type": "markdown",
   "id": "32873dcd",
   "metadata": {
    "deletable": true,
    "id": "3a6b99ec",
    "tags": []
   },
   "source": [
    "**Вывод:** \n",
    "Зависимость от количества детей и возвратом кредита в срок в данном датасете присутствует. Наиболее добросовестные заемщики находятся в категории заемщики без детей 7.5 %, а наибольшее количества невозвратов наблюдается в категории заемщики с четырьмя детьми 9.8 %. Таким образом можно сделать вывод, что заемщики с детьми хуже возвращают кредит."
   ]
  },
  {
   "cell_type": "markdown",
   "id": "447bff5e",
   "metadata": {
    "deletable": true,
    "id": "97be82ca",
    "tags": []
   },
   "source": [
    "#### 3.2 Есть ли зависимость между семейным положением и возвратом кредита в срок?"
   ]
  },
  {
   "cell_type": "code",
   "execution_count": 23,
   "id": "e3500aee",
   "metadata": {
    "deletable": false,
    "id": "dc3f7ee8"
   },
   "outputs": [
    {
     "data": {
      "text/html": [
       "<div>\n",
       "<style scoped>\n",
       "    .dataframe tbody tr th:only-of-type {\n",
       "        vertical-align: middle;\n",
       "    }\n",
       "\n",
       "    .dataframe tbody tr th {\n",
       "        vertical-align: top;\n",
       "    }\n",
       "\n",
       "    .dataframe thead th {\n",
       "        text-align: right;\n",
       "    }\n",
       "</style>\n",
       "<table border=\"1\" class=\"dataframe\">\n",
       "  <thead>\n",
       "    <tr style=\"text-align: right;\">\n",
       "      <th></th>\n",
       "      <th>sum</th>\n",
       "      <th>count</th>\n",
       "      <th>mean</th>\n",
       "    </tr>\n",
       "    <tr>\n",
       "      <th>family_status</th>\n",
       "      <th></th>\n",
       "      <th></th>\n",
       "      <th></th>\n",
       "    </tr>\n",
       "  </thead>\n",
       "  <tbody>\n",
       "    <tr>\n",
       "      <th>Не женат / не замужем</th>\n",
       "      <td>27300</td>\n",
       "      <td>279600</td>\n",
       "      <td>9.8</td>\n",
       "    </tr>\n",
       "    <tr>\n",
       "      <th>в разводе</th>\n",
       "      <td>8400</td>\n",
       "      <td>118900</td>\n",
       "      <td>7.1</td>\n",
       "    </tr>\n",
       "    <tr>\n",
       "      <th>вдовец / вдова</th>\n",
       "      <td>6300</td>\n",
       "      <td>95100</td>\n",
       "      <td>6.6</td>\n",
       "    </tr>\n",
       "    <tr>\n",
       "      <th>гражданский брак</th>\n",
       "      <td>38500</td>\n",
       "      <td>413400</td>\n",
       "      <td>9.3</td>\n",
       "    </tr>\n",
       "    <tr>\n",
       "      <th>женат / замужем</th>\n",
       "      <td>92700</td>\n",
       "      <td>1226100</td>\n",
       "      <td>7.6</td>\n",
       "    </tr>\n",
       "  </tbody>\n",
       "</table>\n",
       "</div>"
      ],
      "text/plain": [
       "                         sum    count  mean\n",
       "family_status                              \n",
       "Не женат / не замужем  27300   279600   9.8\n",
       "в разводе               8400   118900   7.1\n",
       "вдовец / вдова          6300    95100   6.6\n",
       "гражданский брак       38500   413400   9.3\n",
       "женат / замужем        92700  1226100   7.6"
      ]
     },
     "execution_count": 23,
     "metadata": {},
     "output_type": "execute_result"
    }
   ],
   "source": [
    "round(data.groupby('family_status')['debt'].agg(['sum','count','mean'])*100, 1)"
   ]
  },
  {
   "cell_type": "markdown",
   "id": "e93b3fbc",
   "metadata": {
    "deletable": false,
    "id": "1cef7837"
   },
   "source": [
    "**Вывод:** Зависимость между семейным положением и возвратом кредита в срок данном датасете присутствует.\n",
    "Наибольший процент невозвращённых кредитов присутствуют в категориях заемщики не состоящие в браке 9.8 % и заемщики состоящие в гражданском браке 9.3 %б, а наименьшее в категории заемщики вдовы(-цы) 6.6 % и заемщики в разводе 7.1 %.\n",
    "Можно предположить что заемщики состоящие в гражданском браке и не состоящие в браке более молодые и хуже отдают кредит из-зи отсутствия опыта. А заемщики в разводе или вдовы(-цы) наоборот более опытны в вопросах распределения средств. "
   ]
  },
  {
   "cell_type": "markdown",
   "id": "9648a3de",
   "metadata": {
    "deletable": true,
    "id": "1e8b2fca",
    "tags": []
   },
   "source": [
    "#### 3.3 Есть ли зависимость между уровнем дохода и возвратом кредита в срок?"
   ]
  },
  {
   "cell_type": "code",
   "execution_count": 24,
   "id": "ead47190",
   "metadata": {
    "deletable": false,
    "id": "cd7e3720"
   },
   "outputs": [
    {
     "data": {
      "text/html": [
       "<div>\n",
       "<style scoped>\n",
       "    .dataframe tbody tr th:only-of-type {\n",
       "        vertical-align: middle;\n",
       "    }\n",
       "\n",
       "    .dataframe tbody tr th {\n",
       "        vertical-align: top;\n",
       "    }\n",
       "\n",
       "    .dataframe thead th {\n",
       "        text-align: right;\n",
       "    }\n",
       "</style>\n",
       "<table border=\"1\" class=\"dataframe\">\n",
       "  <thead>\n",
       "    <tr style=\"text-align: right;\">\n",
       "      <th></th>\n",
       "      <th>sum</th>\n",
       "      <th>count</th>\n",
       "      <th>mean</th>\n",
       "    </tr>\n",
       "    <tr>\n",
       "      <th>total_income_category</th>\n",
       "      <th></th>\n",
       "      <th></th>\n",
       "      <th></th>\n",
       "    </tr>\n",
       "  </thead>\n",
       "  <tbody>\n",
       "    <tr>\n",
       "      <th>A</th>\n",
       "      <td>200</td>\n",
       "      <td>2500</td>\n",
       "      <td>8.0</td>\n",
       "    </tr>\n",
       "    <tr>\n",
       "      <th>B</th>\n",
       "      <td>35400</td>\n",
       "      <td>501400</td>\n",
       "      <td>7.1</td>\n",
       "    </tr>\n",
       "    <tr>\n",
       "      <th>C</th>\n",
       "      <td>135300</td>\n",
       "      <td>1592100</td>\n",
       "      <td>8.5</td>\n",
       "    </tr>\n",
       "    <tr>\n",
       "      <th>D</th>\n",
       "      <td>2100</td>\n",
       "      <td>34900</td>\n",
       "      <td>6.0</td>\n",
       "    </tr>\n",
       "    <tr>\n",
       "      <th>E</th>\n",
       "      <td>200</td>\n",
       "      <td>2200</td>\n",
       "      <td>9.1</td>\n",
       "    </tr>\n",
       "  </tbody>\n",
       "</table>\n",
       "</div>"
      ],
      "text/plain": [
       "                          sum    count  mean\n",
       "total_income_category                       \n",
       "A                         200     2500   8.0\n",
       "B                       35400   501400   7.1\n",
       "C                      135300  1592100   8.5\n",
       "D                        2100    34900   6.0\n",
       "E                         200     2200   9.1"
      ]
     },
     "execution_count": 24,
     "metadata": {},
     "output_type": "execute_result"
    }
   ],
   "source": [
    "round(data.groupby('total_income_category')['debt'].agg(['sum','count','mean'])*100, 1)"
   ]
  },
  {
   "cell_type": "markdown",
   "id": "f10962ca",
   "metadata": {
    "deletable": false,
    "id": "e8593def"
   },
   "source": [
    "**Вывод:** \n",
    "Заёмщики в категории 'D' 6.0 % чаше возвращают кредит в срок а заёмщики в категории 'E' 9.1 % реже возвращают кредит в срок.\n",
    "Стоит заметить, что выборка по категории 'E' меньше всех остальных, в связи с чем сделать надежный вывод сложно. При этом можно так же отметить, что выборка по категории 'A' относится к более обеспеченным слоям населения, которые в наименьшей степени заинтересованы в кредите, с другой стороны, возможно что такие богатые клиенты не являются целевой аудиторией данного банка. "
   ]
  },
  {
   "cell_type": "markdown",
   "id": "b44dd700",
   "metadata": {
    "deletable": true,
    "id": "99ecbd1f",
    "tags": []
   },
   "source": [
    "#### 3.4 Как разные цели кредита влияют на его возврат в срок?"
   ]
  },
  {
   "cell_type": "code",
   "execution_count": 25,
   "id": "04334700",
   "metadata": {
    "deletable": false,
    "id": "2b687290"
   },
   "outputs": [
    {
     "data": {
      "text/html": [
       "<div>\n",
       "<style scoped>\n",
       "    .dataframe tbody tr th:only-of-type {\n",
       "        vertical-align: middle;\n",
       "    }\n",
       "\n",
       "    .dataframe tbody tr th {\n",
       "        vertical-align: top;\n",
       "    }\n",
       "\n",
       "    .dataframe thead th {\n",
       "        text-align: right;\n",
       "    }\n",
       "</style>\n",
       "<table border=\"1\" class=\"dataframe\">\n",
       "  <thead>\n",
       "    <tr style=\"text-align: right;\">\n",
       "      <th></th>\n",
       "      <th>debt</th>\n",
       "    </tr>\n",
       "    <tr>\n",
       "      <th>purpose_category</th>\n",
       "      <th></th>\n",
       "    </tr>\n",
       "  </thead>\n",
       "  <tbody>\n",
       "    <tr>\n",
       "      <th>операции с автомобилем</th>\n",
       "      <td>9.3</td>\n",
       "    </tr>\n",
       "    <tr>\n",
       "      <th>операции с недвижимостью</th>\n",
       "      <td>7.3</td>\n",
       "    </tr>\n",
       "    <tr>\n",
       "      <th>получение образования</th>\n",
       "      <td>9.3</td>\n",
       "    </tr>\n",
       "    <tr>\n",
       "      <th>проведение свадьбы</th>\n",
       "      <td>7.9</td>\n",
       "    </tr>\n",
       "  </tbody>\n",
       "</table>\n",
       "</div>"
      ],
      "text/plain": [
       "                          debt\n",
       "purpose_category              \n",
       "операции с автомобилем     9.3\n",
       "операции с недвижимостью   7.3\n",
       "получение образования      9.3\n",
       "проведение свадьбы         7.9"
      ]
     },
     "execution_count": 25,
     "metadata": {},
     "output_type": "execute_result"
    }
   ],
   "source": [
    "round(data.pivot_table('debt', index='purpose_category')*100, 1)"
   ]
  },
  {
   "cell_type": "markdown",
   "id": "1edd9ae4",
   "metadata": {
    "deletable": false,
    "id": "b4bb2ce6"
   },
   "source": [
    "**Вывод:** чаше всего кредит возвращают вовремя клиенты в категории 'операции с недвижимостью' 7.3 %,\n",
    "а реже всего клиенты в категории операции с автомобилем 9.3 % и клиенты в категории 'получение образования' 9.3 %"
   ]
  },
  {
   "cell_type": "markdown",
   "id": "0d61184a",
   "metadata": {
    "deletable": true,
    "id": "09c3ac4c",
    "tags": []
   },
   "source": [
    "#### 3.5 Приведите возможные причины появления пропусков в исходных данных."
   ]
  },
  {
   "cell_type": "markdown",
   "id": "f16ea954",
   "metadata": {
    "deletable": false,
    "id": "9da2ceda"
   },
   "source": [
    "*Ответ:* \n",
    "зачастую основными причинами пропуска значений, выступают проблемы связанные с:\n",
    "- технической стороной (форматами таблиц, файлов и пр. или повреждением файлов);  \n",
    "- человеческим фактором (опечатками, невнимательностью);\n",
    "- невозможность их получения."
   ]
  },
  {
   "cell_type": "markdown",
   "id": "bf542ad3",
   "metadata": {
    "deletable": true,
    "id": "7b0487d6",
    "tags": []
   },
   "source": [
    "#### 3.6 Объясните, почему заполнить пропуски медианным значением — лучшее решение для количественных переменных."
   ]
  },
  {
   "cell_type": "markdown",
   "id": "ff028036",
   "metadata": {
    "deletable": false,
    "id": "7ecf2b8e"
   },
   "source": [
    "*Ответ:*  заполнять пропуски медианным значением стоит в том случае, если невозможно уточнить или получить данные у разработчика ответственного за предоставленные данных.\n",
    "В случае невозможности скорректировать отсутствие количественных значений для получения более правильного результата, стоит заполнить медианными значениями по выборке т.к. отсутствие значений, может сильнее исказить выводы чем с медианными значениями.\n",
    "Так же медианное значение не зависит от сильно маленьких или сильно больших значений, в отличие от среднего значения, что более точно отразится на результате."
   ]
  },
  {
   "cell_type": "markdown",
   "id": "0665a502",
   "metadata": {
    "deletable": false,
    "editable": false,
    "id": "6db5255a"
   },
   "source": [
    "### Шаг 4: общий вывод."
   ]
  },
  {
   "cell_type": "markdown",
   "id": "6edc068c",
   "metadata": {
    "deletable": false,
    "id": "bad65432"
   },
   "source": [
    "*Общий вывод:* \n",
    "1. Для получения достоверных(реалистичных) выводов необходимо анализировать 'сырые данные' для установления ошибок или пропусков для их дальнейших корректировок;\n",
    "2. Для анализа данных удобно использовать категоризацию, которая позволяет разбить данные по советующим критериям;\n",
    "3. Лучшее всего пропущенные данные заполнять медианным значением;\n",
    "4. Для предоставленного банка менее рискованно предоставлять кредиты заемщикам без детей, вдовцам(-ам) или заемщикам находящимся в разводе, категории 'D' и с целью 'операций с недвижимостью'. Риск невозврата кредита таким клиентом составляет примерно 6,9 %;\n",
    "5. Наихудшим выбором выступают заемщики  с детьми (с 3-4 детьми наибольший риск) не состоящими в браке или состоящие в гражданском браке, с низким доходом категории 'E' или с доходом категории 'C', с целью операции 'операции с автомобилем' или с категорией 'получение образования'. Риск невозврата кредита таким клиентом составляет примерно 9,5 %;\n",
    "6. Таким образом разница возврата кредита в срок в данном банке небольшая, но существенная - примерно 2,6 %."
   ]
  }
 ],
 "metadata": {
  "ExecuteTimeLog": [
   {
    "duration": 47,
    "start_time": "2023-01-09T07:14:59.729Z"
   },
   {
    "duration": 6,
    "start_time": "2023-01-09T07:15:25.315Z"
   },
   {
    "duration": 6,
    "start_time": "2023-01-09T07:15:27.716Z"
   },
   {
    "duration": 7,
    "start_time": "2023-01-09T07:15:37.425Z"
   },
   {
    "duration": 547,
    "start_time": "2023-01-09T07:15:45.986Z"
   },
   {
    "duration": 21,
    "start_time": "2023-01-09T07:15:48.933Z"
   },
   {
    "duration": 16,
    "start_time": "2023-01-09T07:15:52.216Z"
   },
   {
    "duration": 11,
    "start_time": "2023-01-09T07:15:55.059Z"
   },
   {
    "duration": 33,
    "start_time": "2023-01-09T07:15:58.038Z"
   },
   {
    "duration": 4,
    "start_time": "2023-01-09T07:16:00.016Z"
   },
   {
    "duration": 9,
    "start_time": "2023-01-09T07:16:01.921Z"
   },
   {
    "duration": 5,
    "start_time": "2023-01-09T07:16:04.320Z"
   },
   {
    "duration": 26,
    "start_time": "2023-01-09T07:16:06.643Z"
   },
   {
    "duration": 6,
    "start_time": "2023-01-09T07:16:08.720Z"
   },
   {
    "duration": 42,
    "start_time": "2023-01-09T07:16:10.988Z"
   },
   {
    "duration": 15,
    "start_time": "2023-01-09T07:16:13.516Z"
   },
   {
    "duration": 3,
    "start_time": "2023-01-09T07:16:16.036Z"
   },
   {
    "duration": 11,
    "start_time": "2023-01-09T07:16:17.763Z"
   },
   {
    "duration": 20,
    "start_time": "2023-01-09T07:16:19.763Z"
   },
   {
    "duration": 19,
    "start_time": "2023-01-09T07:16:22.164Z"
   },
   {
    "duration": 4,
    "start_time": "2023-01-09T07:16:25.228Z"
   },
   {
    "duration": 10,
    "start_time": "2023-01-09T07:16:27.236Z"
   },
   {
    "duration": 5,
    "start_time": "2023-01-09T07:16:29.556Z"
   },
   {
    "duration": 4,
    "start_time": "2023-01-09T07:16:33.051Z"
   },
   {
    "duration": 9,
    "start_time": "2023-01-09T07:16:34.821Z"
   },
   {
    "duration": 14,
    "start_time": "2023-01-09T07:16:37.084Z"
   },
   {
    "duration": 21,
    "start_time": "2023-01-09T07:39:15.422Z"
   },
   {
    "duration": 11,
    "start_time": "2023-01-09T07:40:20.734Z"
   },
   {
    "duration": 9,
    "start_time": "2023-01-09T07:41:17.131Z"
   },
   {
    "duration": 83,
    "start_time": "2023-01-09T07:41:23.717Z"
   },
   {
    "duration": 25,
    "start_time": "2023-01-09T07:41:27.630Z"
   },
   {
    "duration": 15,
    "start_time": "2023-01-09T07:41:57.952Z"
   },
   {
    "duration": 20,
    "start_time": "2023-01-09T07:42:04.717Z"
   },
   {
    "duration": 11,
    "start_time": "2023-01-09T07:42:53.983Z"
   },
   {
    "duration": 14,
    "start_time": "2023-01-09T07:43:09.229Z"
   },
   {
    "duration": 9,
    "start_time": "2023-01-09T07:43:31.732Z"
   },
   {
    "duration": 9,
    "start_time": "2023-01-09T07:43:38.625Z"
   },
   {
    "duration": 14,
    "start_time": "2023-01-09T07:43:47.472Z"
   },
   {
    "duration": 4,
    "start_time": "2023-01-09T07:44:12.427Z"
   },
   {
    "duration": 3,
    "start_time": "2023-01-09T07:44:41.785Z"
   },
   {
    "duration": 4,
    "start_time": "2023-01-09T07:44:46.618Z"
   },
   {
    "duration": 4,
    "start_time": "2023-01-09T07:47:06.466Z"
   },
   {
    "duration": 5,
    "start_time": "2023-01-09T07:48:40.631Z"
   },
   {
    "duration": 31,
    "start_time": "2023-01-09T07:50:00.453Z"
   },
   {
    "duration": 9,
    "start_time": "2023-01-09T07:50:16.165Z"
   },
   {
    "duration": 25,
    "start_time": "2023-01-09T07:51:29.686Z"
   },
   {
    "duration": 9,
    "start_time": "2023-01-09T07:51:44.032Z"
   },
   {
    "duration": 10,
    "start_time": "2023-01-09T07:52:26.825Z"
   },
   {
    "duration": 10,
    "start_time": "2023-01-09T07:52:39.032Z"
   },
   {
    "duration": 7,
    "start_time": "2023-01-09T07:52:48.350Z"
   },
   {
    "duration": 12,
    "start_time": "2023-01-09T07:52:59.623Z"
   },
   {
    "duration": 8,
    "start_time": "2023-01-09T07:53:07.726Z"
   },
   {
    "duration": 6,
    "start_time": "2023-01-09T07:53:11.150Z"
   },
   {
    "duration": 6,
    "start_time": "2023-01-09T07:54:30.536Z"
   },
   {
    "duration": 7,
    "start_time": "2023-01-09T07:54:56.937Z"
   },
   {
    "duration": 6,
    "start_time": "2023-01-09T07:55:10.725Z"
   },
   {
    "duration": 8,
    "start_time": "2023-01-09T07:55:16.053Z"
   },
   {
    "duration": 5,
    "start_time": "2023-01-09T07:55:33.614Z"
   },
   {
    "duration": 5,
    "start_time": "2023-01-09T07:57:09.339Z"
   },
   {
    "duration": 6,
    "start_time": "2023-01-09T07:57:27.721Z"
   },
   {
    "duration": 10,
    "start_time": "2023-01-09T07:58:24.218Z"
   },
   {
    "duration": 9,
    "start_time": "2023-01-09T07:58:47.726Z"
   },
   {
    "duration": 895,
    "start_time": "2023-01-09T07:58:54.041Z"
   },
   {
    "duration": 10,
    "start_time": "2023-01-09T07:59:00.217Z"
   },
   {
    "duration": 23,
    "start_time": "2023-01-09T07:59:14.934Z"
   },
   {
    "duration": 906,
    "start_time": "2023-01-09T07:59:18.035Z"
   },
   {
    "duration": 21,
    "start_time": "2023-01-09T07:59:23.972Z"
   },
   {
    "duration": 10,
    "start_time": "2023-01-09T07:59:36.221Z"
   },
   {
    "duration": 14,
    "start_time": "2023-01-09T08:00:12.941Z"
   },
   {
    "duration": 13,
    "start_time": "2023-01-09T08:01:42.382Z"
   },
   {
    "duration": 19,
    "start_time": "2023-01-09T08:01:54.653Z"
   },
   {
    "duration": 12,
    "start_time": "2023-01-09T08:01:59.654Z"
   },
   {
    "duration": 12,
    "start_time": "2023-01-09T08:02:49.782Z"
   },
   {
    "duration": 10,
    "start_time": "2023-01-09T08:03:09.234Z"
   },
   {
    "duration": 15,
    "start_time": "2023-01-09T08:03:16.308Z"
   },
   {
    "duration": 9,
    "start_time": "2023-01-09T08:03:24.029Z"
   },
   {
    "duration": 14,
    "start_time": "2023-01-09T08:03:30.110Z"
   },
   {
    "duration": 10,
    "start_time": "2023-01-09T08:03:33.775Z"
   },
   {
    "duration": 7,
    "start_time": "2023-01-09T08:03:45.855Z"
   },
   {
    "duration": 13,
    "start_time": "2023-01-09T08:06:13.696Z"
   },
   {
    "duration": 8,
    "start_time": "2023-01-09T08:06:34.844Z"
   },
   {
    "duration": 10,
    "start_time": "2023-01-09T08:06:41.376Z"
   },
   {
    "duration": 11,
    "start_time": "2023-01-09T08:06:48.109Z"
   },
   {
    "duration": 76,
    "start_time": "2023-01-09T08:07:40.525Z"
   },
   {
    "duration": 70,
    "start_time": "2023-01-09T08:07:51.425Z"
   },
   {
    "duration": 13,
    "start_time": "2023-01-09T08:07:57.327Z"
   },
   {
    "duration": 71,
    "start_time": "2023-01-09T08:08:18.954Z"
   },
   {
    "duration": 12,
    "start_time": "2023-01-09T08:08:30.121Z"
   },
   {
    "duration": 12,
    "start_time": "2023-01-09T08:10:16.379Z"
   },
   {
    "duration": 14,
    "start_time": "2023-01-09T08:10:55.231Z"
   },
   {
    "duration": 20,
    "start_time": "2023-01-09T08:11:18.581Z"
   },
   {
    "duration": 12,
    "start_time": "2023-01-09T08:11:25.212Z"
   },
   {
    "duration": 16,
    "start_time": "2023-01-09T08:12:01.834Z"
   },
   {
    "duration": 19,
    "start_time": "2023-01-09T08:12:18.237Z"
   },
   {
    "duration": 12,
    "start_time": "2023-01-09T08:12:42.729Z"
   },
   {
    "duration": 95,
    "start_time": "2023-01-09T08:13:04.277Z"
   },
   {
    "duration": 21,
    "start_time": "2023-01-09T08:13:07.441Z"
   },
   {
    "duration": 17,
    "start_time": "2023-01-09T08:13:15.524Z"
   },
   {
    "duration": 16,
    "start_time": "2023-01-09T08:13:44.621Z"
   },
   {
    "duration": 17,
    "start_time": "2023-01-09T08:14:05.957Z"
   },
   {
    "duration": 15,
    "start_time": "2023-01-09T08:14:16.823Z"
   },
   {
    "duration": 17,
    "start_time": "2023-01-09T08:14:59.205Z"
   },
   {
    "duration": 17,
    "start_time": "2023-01-09T08:15:04.879Z"
   },
   {
    "duration": 18,
    "start_time": "2023-01-09T08:15:08.431Z"
   },
   {
    "duration": 11,
    "start_time": "2023-01-09T08:15:11.729Z"
   },
   {
    "duration": 14,
    "start_time": "2023-01-09T08:15:18.027Z"
   },
   {
    "duration": 12,
    "start_time": "2023-01-09T08:15:24.377Z"
   },
   {
    "duration": 13,
    "start_time": "2023-01-09T08:15:32.527Z"
   },
   {
    "duration": 14,
    "start_time": "2023-01-09T08:24:12.565Z"
   },
   {
    "duration": 14,
    "start_time": "2023-01-09T08:24:31.534Z"
   },
   {
    "duration": 12,
    "start_time": "2023-01-09T08:26:59.735Z"
   },
   {
    "duration": 15,
    "start_time": "2023-01-09T08:27:07.343Z"
   },
   {
    "duration": 14,
    "start_time": "2023-01-09T08:29:48.257Z"
   },
   {
    "duration": 5,
    "start_time": "2023-01-09T08:48:03.757Z"
   },
   {
    "duration": 13,
    "start_time": "2023-01-09T08:48:11.173Z"
   },
   {
    "duration": 12,
    "start_time": "2023-01-09T08:48:25.429Z"
   },
   {
    "duration": 73,
    "start_time": "2023-01-09T08:48:55.550Z"
   },
   {
    "duration": 70,
    "start_time": "2023-01-09T08:49:04.237Z"
   },
   {
    "duration": 16,
    "start_time": "2023-01-09T08:49:07.574Z"
   },
   {
    "duration": 17,
    "start_time": "2023-01-09T08:50:25.013Z"
   },
   {
    "duration": 13,
    "start_time": "2023-01-09T08:50:57.671Z"
   },
   {
    "duration": 13,
    "start_time": "2023-01-09T08:51:07.271Z"
   },
   {
    "duration": 13,
    "start_time": "2023-01-09T08:51:37.018Z"
   },
   {
    "duration": 19,
    "start_time": "2023-01-09T08:52:32.216Z"
   },
   {
    "duration": 48,
    "start_time": "2023-01-09T12:03:54.238Z"
   },
   {
    "duration": 456,
    "start_time": "2023-01-09T12:03:59.225Z"
   },
   {
    "duration": 30,
    "start_time": "2023-01-09T12:04:01.430Z"
   },
   {
    "duration": 22,
    "start_time": "2023-01-09T12:04:04.381Z"
   },
   {
    "duration": 10,
    "start_time": "2023-01-09T12:04:06.660Z"
   },
   {
    "duration": 33,
    "start_time": "2023-01-09T12:04:09.213Z"
   },
   {
    "duration": 4,
    "start_time": "2023-01-09T12:04:11.509Z"
   },
   {
    "duration": 9,
    "start_time": "2023-01-09T12:04:13.332Z"
   },
   {
    "duration": 6,
    "start_time": "2023-01-09T12:04:15.765Z"
   },
   {
    "duration": 7,
    "start_time": "2023-01-09T12:04:17.675Z"
   },
   {
    "duration": 5,
    "start_time": "2023-01-09T12:04:19.668Z"
   },
   {
    "duration": 57,
    "start_time": "2023-01-09T12:04:22.516Z"
   },
   {
    "duration": 16,
    "start_time": "2023-01-09T12:04:28.437Z"
   },
   {
    "duration": 5,
    "start_time": "2023-01-09T12:04:31.175Z"
   },
   {
    "duration": 17,
    "start_time": "2023-01-09T12:04:33.068Z"
   },
   {
    "duration": 29,
    "start_time": "2023-01-09T12:04:35.214Z"
   },
   {
    "duration": 25,
    "start_time": "2023-01-09T12:04:37.187Z"
   },
   {
    "duration": 4,
    "start_time": "2023-01-09T12:04:41.197Z"
   },
   {
    "duration": 6,
    "start_time": "2023-01-09T12:04:43.397Z"
   },
   {
    "duration": 4,
    "start_time": "2023-01-09T12:04:46.757Z"
   },
   {
    "duration": 11,
    "start_time": "2023-01-09T12:04:49.365Z"
   },
   {
    "duration": 23,
    "start_time": "2023-01-09T12:04:52.323Z"
   },
   {
    "duration": 27,
    "start_time": "2023-01-09T12:06:55.352Z"
   },
   {
    "duration": 25,
    "start_time": "2023-01-09T12:07:27.878Z"
   },
   {
    "duration": 31,
    "start_time": "2023-01-09T12:08:45.625Z"
   },
   {
    "duration": 182,
    "start_time": "2023-01-09T12:10:15.810Z"
   },
   {
    "duration": 32,
    "start_time": "2023-01-09T12:10:26.105Z"
   },
   {
    "duration": 28,
    "start_time": "2023-01-09T12:10:33.451Z"
   },
   {
    "duration": 5,
    "start_time": "2023-01-09T12:10:59.978Z"
   },
   {
    "duration": 27,
    "start_time": "2023-01-09T12:11:27.067Z"
   },
   {
    "duration": 27,
    "start_time": "2023-01-09T12:11:48.491Z"
   },
   {
    "duration": 95,
    "start_time": "2023-01-09T12:19:00.290Z"
   },
   {
    "duration": 67,
    "start_time": "2023-01-09T12:36:01.758Z"
   },
   {
    "duration": 16,
    "start_time": "2023-01-09T12:36:03.909Z"
   },
   {
    "duration": 15,
    "start_time": "2023-01-09T12:36:06.884Z"
   },
   {
    "duration": 10,
    "start_time": "2023-01-09T12:36:11.388Z"
   },
   {
    "duration": 33,
    "start_time": "2023-01-09T12:36:14.052Z"
   },
   {
    "duration": 8,
    "start_time": "2023-01-09T12:36:16.142Z"
   },
   {
    "duration": 4,
    "start_time": "2023-01-09T12:36:17.876Z"
   },
   {
    "duration": 10,
    "start_time": "2023-01-09T12:36:19.550Z"
   },
   {
    "duration": 5,
    "start_time": "2023-01-09T12:36:23.028Z"
   },
   {
    "duration": 6,
    "start_time": "2023-01-09T12:36:24.771Z"
   },
   {
    "duration": 6,
    "start_time": "2023-01-09T12:36:28.342Z"
   },
   {
    "duration": 35,
    "start_time": "2023-01-09T12:36:30.452Z"
   },
   {
    "duration": 9,
    "start_time": "2023-01-09T12:36:32.852Z"
   },
   {
    "duration": 4,
    "start_time": "2023-01-09T12:36:35.724Z"
   },
   {
    "duration": 17,
    "start_time": "2023-01-09T12:36:37.675Z"
   },
   {
    "duration": 26,
    "start_time": "2023-01-09T12:36:39.388Z"
   },
   {
    "duration": 17,
    "start_time": "2023-01-09T12:36:41.107Z"
   },
   {
    "duration": 4,
    "start_time": "2023-01-09T12:36:44.507Z"
   },
   {
    "duration": 15,
    "start_time": "2023-01-09T12:36:46.542Z"
   },
   {
    "duration": 6,
    "start_time": "2023-01-09T12:36:48.555Z"
   },
   {
    "duration": 4,
    "start_time": "2023-01-09T12:36:52.099Z"
   },
   {
    "duration": 11,
    "start_time": "2023-01-09T12:36:53.936Z"
   },
   {
    "duration": 10,
    "start_time": "2023-01-09T12:38:00.842Z"
   },
   {
    "duration": 47,
    "start_time": "2023-01-09T12:48:40.648Z"
   },
   {
    "duration": 29,
    "start_time": "2023-01-09T12:49:11.648Z"
   },
   {
    "duration": 25,
    "start_time": "2023-01-09T12:49:43.112Z"
   },
   {
    "duration": 24,
    "start_time": "2023-01-09T12:49:49.344Z"
   },
   {
    "duration": 60,
    "start_time": "2023-01-09T12:51:05.056Z"
   },
   {
    "duration": 59,
    "start_time": "2023-01-09T12:51:10.673Z"
   },
   {
    "duration": 23,
    "start_time": "2023-01-09T12:51:28.576Z"
   },
   {
    "duration": 22,
    "start_time": "2023-01-09T12:53:29.297Z"
   },
   {
    "duration": 199,
    "start_time": "2023-01-09T12:53:58.594Z"
   },
   {
    "duration": 227,
    "start_time": "2023-01-09T12:55:52.267Z"
   },
   {
    "duration": 198,
    "start_time": "2023-01-09T12:56:37.746Z"
   },
   {
    "duration": 209,
    "start_time": "2023-01-09T12:59:28.637Z"
   },
   {
    "duration": 185,
    "start_time": "2023-01-09T13:00:16.045Z"
   },
   {
    "duration": 180,
    "start_time": "2023-01-09T13:02:30.414Z"
   },
   {
    "duration": 184,
    "start_time": "2023-01-09T13:04:52.711Z"
   },
   {
    "duration": 216,
    "start_time": "2023-01-09T13:06:08.383Z"
   },
   {
    "duration": 211,
    "start_time": "2023-01-09T13:06:20.472Z"
   },
   {
    "duration": 907,
    "start_time": "2023-01-09T13:08:36.147Z"
   },
   {
    "duration": 188,
    "start_time": "2023-01-09T13:11:12.195Z"
   },
   {
    "duration": 182,
    "start_time": "2023-01-09T13:11:18.675Z"
   },
   {
    "duration": 738,
    "start_time": "2023-01-09T13:11:22.499Z"
   },
   {
    "duration": 56,
    "start_time": "2023-01-09T13:11:37.004Z"
   },
   {
    "duration": 66,
    "start_time": "2023-01-09T13:11:55.870Z"
   },
   {
    "duration": 224,
    "start_time": "2023-01-09T13:12:01.444Z"
   },
   {
    "duration": 198,
    "start_time": "2023-01-09T13:14:07.782Z"
   },
   {
    "duration": 207,
    "start_time": "2023-01-09T13:14:21.351Z"
   },
   {
    "duration": 249,
    "start_time": "2023-01-09T13:14:24.832Z"
   },
   {
    "duration": 191,
    "start_time": "2023-01-09T13:15:17.831Z"
   },
   {
    "duration": 209,
    "start_time": "2023-01-09T13:15:25.743Z"
   },
   {
    "duration": 226,
    "start_time": "2023-01-09T13:15:31.951Z"
   },
   {
    "duration": 301,
    "start_time": "2023-01-09T13:16:57.458Z"
   },
   {
    "duration": 180,
    "start_time": "2023-01-09T13:20:36.346Z"
   },
   {
    "duration": 192,
    "start_time": "2023-01-09T13:20:56.536Z"
   },
   {
    "duration": 183,
    "start_time": "2023-01-09T13:21:04.530Z"
   },
   {
    "duration": 189,
    "start_time": "2023-01-09T13:21:08.370Z"
   },
   {
    "duration": 188,
    "start_time": "2023-01-09T13:21:15.035Z"
   },
   {
    "duration": 202,
    "start_time": "2023-01-09T13:22:17.323Z"
   },
   {
    "duration": 197,
    "start_time": "2023-01-09T13:22:32.308Z"
   },
   {
    "duration": 207,
    "start_time": "2023-01-09T13:22:41.804Z"
   },
   {
    "duration": 242,
    "start_time": "2023-01-09T13:22:44.868Z"
   },
   {
    "duration": 200,
    "start_time": "2023-01-09T13:22:50.740Z"
   },
   {
    "duration": 198,
    "start_time": "2023-01-09T13:24:16.284Z"
   },
   {
    "duration": 215,
    "start_time": "2023-01-09T13:24:35.311Z"
   },
   {
    "duration": 196,
    "start_time": "2023-01-09T13:25:43.777Z"
   },
   {
    "duration": 60,
    "start_time": "2023-01-09T13:26:51.198Z"
   },
   {
    "duration": 190,
    "start_time": "2023-01-09T13:26:56.606Z"
   },
   {
    "duration": 190,
    "start_time": "2023-01-09T13:27:06.390Z"
   },
   {
    "duration": 194,
    "start_time": "2023-01-09T13:29:11.183Z"
   },
   {
    "duration": 196,
    "start_time": "2023-01-09T13:29:16.775Z"
   },
   {
    "duration": 198,
    "start_time": "2023-01-09T13:29:23.184Z"
   },
   {
    "duration": 198,
    "start_time": "2023-01-09T13:29:32.984Z"
   },
   {
    "duration": 230,
    "start_time": "2023-01-09T13:30:19.074Z"
   },
   {
    "duration": 275,
    "start_time": "2023-01-09T13:30:32.137Z"
   },
   {
    "duration": 181,
    "start_time": "2023-01-09T13:30:47.248Z"
   },
   {
    "duration": 57,
    "start_time": "2023-01-09T13:31:20.169Z"
   },
   {
    "duration": 182,
    "start_time": "2023-01-09T13:31:29.185Z"
   },
   {
    "duration": 211,
    "start_time": "2023-01-09T13:34:20.100Z"
   },
   {
    "duration": 184,
    "start_time": "2023-01-09T14:22:12.203Z"
   },
   {
    "duration": 219,
    "start_time": "2023-01-09T14:22:20.236Z"
   },
   {
    "duration": 191,
    "start_time": "2023-01-09T14:26:51.856Z"
   },
   {
    "duration": 54,
    "start_time": "2023-01-09T14:26:58.031Z"
   },
   {
    "duration": 182,
    "start_time": "2023-01-09T14:27:07.231Z"
   },
   {
    "duration": 190,
    "start_time": "2023-01-09T14:27:13.576Z"
   },
   {
    "duration": 28,
    "start_time": "2023-01-09T14:29:02.186Z"
   },
   {
    "duration": 28,
    "start_time": "2023-01-09T14:29:21.073Z"
   },
   {
    "duration": 31,
    "start_time": "2023-01-09T14:29:32.370Z"
   },
   {
    "duration": 28,
    "start_time": "2023-01-09T14:30:57.756Z"
   },
   {
    "duration": 29,
    "start_time": "2023-01-09T14:31:16.611Z"
   },
   {
    "duration": 28,
    "start_time": "2023-01-09T14:31:25.867Z"
   },
   {
    "duration": 27,
    "start_time": "2023-01-09T14:32:21.244Z"
   },
   {
    "duration": 38,
    "start_time": "2023-01-09T14:32:38.756Z"
   },
   {
    "duration": 177,
    "start_time": "2023-01-09T14:39:46.027Z"
   },
   {
    "duration": 207,
    "start_time": "2023-01-09T14:43:00.437Z"
   },
   {
    "duration": 185,
    "start_time": "2023-01-09T14:43:28.086Z"
   },
   {
    "duration": 191,
    "start_time": "2023-01-09T14:50:49.277Z"
   },
   {
    "duration": 201,
    "start_time": "2023-01-09T14:52:53.143Z"
   },
   {
    "duration": 206,
    "start_time": "2023-01-09T14:53:08.767Z"
   },
   {
    "duration": 210,
    "start_time": "2023-01-09T14:53:19.183Z"
   },
   {
    "duration": 198,
    "start_time": "2023-01-09T14:53:26.233Z"
   },
   {
    "duration": 246,
    "start_time": "2023-01-09T15:27:07.416Z"
   },
   {
    "duration": 234,
    "start_time": "2023-01-09T15:27:37.646Z"
   },
   {
    "duration": 188,
    "start_time": "2023-01-09T15:27:45.478Z"
   },
   {
    "duration": 58,
    "start_time": "2023-01-09T15:28:38.478Z"
   },
   {
    "duration": 239,
    "start_time": "2023-01-09T15:28:42.718Z"
   },
   {
    "duration": 233,
    "start_time": "2023-01-09T15:29:01.487Z"
   },
   {
    "duration": 76,
    "start_time": "2023-01-09T15:43:54.542Z"
   },
   {
    "duration": 15,
    "start_time": "2023-01-09T15:43:56.742Z"
   },
   {
    "duration": 15,
    "start_time": "2023-01-09T15:43:59.649Z"
   },
   {
    "duration": 10,
    "start_time": "2023-01-09T15:44:01.766Z"
   },
   {
    "duration": 30,
    "start_time": "2023-01-09T15:44:04.534Z"
   },
   {
    "duration": 5,
    "start_time": "2023-01-09T15:44:06.788Z"
   },
   {
    "duration": 9,
    "start_time": "2023-01-09T15:44:08.821Z"
   },
   {
    "duration": 5,
    "start_time": "2023-01-09T15:44:10.837Z"
   },
   {
    "duration": 6,
    "start_time": "2023-01-09T15:44:12.831Z"
   },
   {
    "duration": 5,
    "start_time": "2023-01-09T15:44:14.934Z"
   },
   {
    "duration": 31,
    "start_time": "2023-01-09T15:44:18.541Z"
   },
   {
    "duration": 10,
    "start_time": "2023-01-09T15:44:21.349Z"
   },
   {
    "duration": 5,
    "start_time": "2023-01-09T15:44:24.957Z"
   },
   {
    "duration": 11,
    "start_time": "2023-01-09T15:44:26.900Z"
   },
   {
    "duration": 21,
    "start_time": "2023-01-09T15:44:28.896Z"
   },
   {
    "duration": 17,
    "start_time": "2023-01-09T15:44:30.844Z"
   },
   {
    "duration": 14,
    "start_time": "2023-01-09T15:44:34.920Z"
   },
   {
    "duration": 6,
    "start_time": "2023-01-09T15:44:36.757Z"
   },
   {
    "duration": 4,
    "start_time": "2023-01-09T15:44:39.981Z"
   },
   {
    "duration": 13,
    "start_time": "2023-01-09T15:44:41.744Z"
   },
   {
    "duration": 260,
    "start_time": "2023-01-09T15:44:45.110Z"
   },
   {
    "duration": 262,
    "start_time": "2023-01-09T15:45:05.028Z"
   },
   {
    "duration": 206,
    "start_time": "2023-01-09T15:46:26.054Z"
   },
   {
    "duration": 205,
    "start_time": "2023-01-09T15:46:46.752Z"
   },
   {
    "duration": 246,
    "start_time": "2023-01-09T15:47:34.815Z"
   },
   {
    "duration": 17,
    "start_time": "2023-01-09T15:48:16.824Z"
   },
   {
    "duration": 17,
    "start_time": "2023-01-09T15:48:26.745Z"
   },
   {
    "duration": 447,
    "start_time": "2023-01-09T15:49:01.604Z"
   },
   {
    "duration": 22,
    "start_time": "2023-01-09T15:49:02.053Z"
   },
   {
    "duration": 120,
    "start_time": "2023-01-09T15:49:02.076Z"
   },
   {
    "duration": 45,
    "start_time": "2023-01-09T15:49:02.199Z"
   },
   {
    "duration": 51,
    "start_time": "2023-01-09T15:49:02.245Z"
   },
   {
    "duration": 3,
    "start_time": "2023-01-09T15:49:02.298Z"
   },
   {
    "duration": 14,
    "start_time": "2023-01-09T15:49:02.302Z"
   },
   {
    "duration": 11,
    "start_time": "2023-01-09T15:49:02.318Z"
   },
   {
    "duration": 11,
    "start_time": "2023-01-09T15:49:02.330Z"
   },
   {
    "duration": 9,
    "start_time": "2023-01-09T15:49:02.344Z"
   },
   {
    "duration": 40,
    "start_time": "2023-01-09T15:49:02.354Z"
   },
   {
    "duration": 8,
    "start_time": "2023-01-09T15:49:02.396Z"
   },
   {
    "duration": 21,
    "start_time": "2023-01-09T15:49:02.405Z"
   },
   {
    "duration": 18,
    "start_time": "2023-01-09T15:49:02.427Z"
   },
   {
    "duration": 36,
    "start_time": "2023-01-09T15:49:02.447Z"
   },
   {
    "duration": 15,
    "start_time": "2023-01-09T15:49:02.484Z"
   },
   {
    "duration": 6,
    "start_time": "2023-01-09T15:49:02.500Z"
   },
   {
    "duration": 32,
    "start_time": "2023-01-09T15:49:02.507Z"
   },
   {
    "duration": 11,
    "start_time": "2023-01-09T15:49:02.540Z"
   },
   {
    "duration": 7,
    "start_time": "2023-01-09T15:49:02.553Z"
   },
   {
    "duration": 13,
    "start_time": "2023-01-09T15:49:02.561Z"
   },
   {
    "duration": 231,
    "start_time": "2023-01-09T15:49:02.576Z"
   },
   {
    "duration": 226,
    "start_time": "2023-01-09T15:49:02.809Z"
   },
   {
    "duration": 202,
    "start_time": "2023-01-09T15:49:03.036Z"
   },
   {
    "duration": 202,
    "start_time": "2023-01-09T15:49:03.240Z"
   },
   {
    "duration": 510,
    "start_time": "2023-01-09T15:51:08.837Z"
   },
   {
    "duration": 22,
    "start_time": "2023-01-09T15:51:09.349Z"
   },
   {
    "duration": 18,
    "start_time": "2023-01-09T15:51:09.373Z"
   },
   {
    "duration": 10,
    "start_time": "2023-01-09T15:51:09.393Z"
   },
   {
    "duration": 56,
    "start_time": "2023-01-09T15:51:09.405Z"
   },
   {
    "duration": 4,
    "start_time": "2023-01-09T15:51:09.463Z"
   },
   {
    "duration": 23,
    "start_time": "2023-01-09T15:51:09.469Z"
   },
   {
    "duration": 5,
    "start_time": "2023-01-09T15:51:09.494Z"
   },
   {
    "duration": 41,
    "start_time": "2023-01-09T15:51:09.501Z"
   },
   {
    "duration": 5,
    "start_time": "2023-01-09T15:51:09.546Z"
   },
   {
    "duration": 61,
    "start_time": "2023-01-09T15:51:09.552Z"
   },
   {
    "duration": 15,
    "start_time": "2023-01-09T15:51:09.615Z"
   },
   {
    "duration": 6,
    "start_time": "2023-01-09T15:51:09.632Z"
   },
   {
    "duration": 26,
    "start_time": "2023-01-09T15:51:09.639Z"
   },
   {
    "duration": 23,
    "start_time": "2023-01-09T15:51:09.667Z"
   },
   {
    "duration": 18,
    "start_time": "2023-01-09T15:51:09.691Z"
   },
   {
    "duration": 4,
    "start_time": "2023-01-09T15:51:09.710Z"
   },
   {
    "duration": 20,
    "start_time": "2023-01-09T15:51:09.716Z"
   },
   {
    "duration": 13,
    "start_time": "2023-01-09T15:51:09.737Z"
   },
   {
    "duration": 4,
    "start_time": "2023-01-09T15:51:09.751Z"
   },
   {
    "duration": 9,
    "start_time": "2023-01-09T15:51:09.777Z"
   },
   {
    "duration": 218,
    "start_time": "2023-01-09T15:51:09.787Z"
   },
   {
    "duration": 212,
    "start_time": "2023-01-09T15:51:10.007Z"
   },
   {
    "duration": 215,
    "start_time": "2023-01-09T15:51:10.220Z"
   },
   {
    "duration": 196,
    "start_time": "2023-01-09T15:51:10.437Z"
   },
   {
    "duration": 212,
    "start_time": "2023-01-09T15:52:28.995Z"
   },
   {
    "duration": 597,
    "start_time": "2023-01-09T17:39:10.013Z"
   },
   {
    "duration": 23,
    "start_time": "2023-01-09T17:39:10.612Z"
   },
   {
    "duration": 31,
    "start_time": "2023-01-09T17:39:10.637Z"
   },
   {
    "duration": 11,
    "start_time": "2023-01-09T17:39:10.670Z"
   },
   {
    "duration": 50,
    "start_time": "2023-01-09T17:39:10.683Z"
   },
   {
    "duration": 3,
    "start_time": "2023-01-09T17:39:10.734Z"
   },
   {
    "duration": 18,
    "start_time": "2023-01-09T17:39:10.739Z"
   },
   {
    "duration": 15,
    "start_time": "2023-01-09T17:39:10.759Z"
   },
   {
    "duration": 20,
    "start_time": "2023-01-09T17:39:10.776Z"
   },
   {
    "duration": 20,
    "start_time": "2023-01-09T17:39:10.799Z"
   },
   {
    "duration": 49,
    "start_time": "2023-01-09T17:39:10.821Z"
   },
   {
    "duration": 8,
    "start_time": "2023-01-09T17:39:10.872Z"
   },
   {
    "duration": 16,
    "start_time": "2023-01-09T17:39:10.882Z"
   },
   {
    "duration": 52,
    "start_time": "2023-01-09T17:39:10.899Z"
   },
   {
    "duration": 33,
    "start_time": "2023-01-09T17:39:10.953Z"
   },
   {
    "duration": 35,
    "start_time": "2023-01-09T17:39:10.988Z"
   },
   {
    "duration": 17,
    "start_time": "2023-01-09T17:39:11.025Z"
   },
   {
    "duration": 16,
    "start_time": "2023-01-09T17:39:11.044Z"
   },
   {
    "duration": 30,
    "start_time": "2023-01-09T17:39:11.062Z"
   },
   {
    "duration": 11,
    "start_time": "2023-01-09T17:39:11.094Z"
   },
   {
    "duration": 24,
    "start_time": "2023-01-09T17:39:11.107Z"
   },
   {
    "duration": 212,
    "start_time": "2023-01-09T17:39:11.133Z"
   },
   {
    "duration": 217,
    "start_time": "2023-01-09T17:39:11.347Z"
   },
   {
    "duration": 211,
    "start_time": "2023-01-09T17:39:11.566Z"
   },
   {
    "duration": 211,
    "start_time": "2023-01-09T17:39:11.779Z"
   },
   {
    "duration": 205,
    "start_time": "2023-01-09T17:40:17.454Z"
   },
   {
    "duration": 216,
    "start_time": "2023-01-09T17:40:20.397Z"
   },
   {
    "duration": 445,
    "start_time": "2023-01-09T17:40:31.663Z"
   },
   {
    "duration": 23,
    "start_time": "2023-01-09T17:40:32.110Z"
   },
   {
    "duration": 15,
    "start_time": "2023-01-09T17:40:32.135Z"
   },
   {
    "duration": 26,
    "start_time": "2023-01-09T17:40:32.153Z"
   },
   {
    "duration": 39,
    "start_time": "2023-01-09T17:40:32.181Z"
   },
   {
    "duration": 4,
    "start_time": "2023-01-09T17:40:32.222Z"
   },
   {
    "duration": 23,
    "start_time": "2023-01-09T17:40:32.228Z"
   },
   {
    "duration": 22,
    "start_time": "2023-01-09T17:40:32.253Z"
   },
   {
    "duration": 32,
    "start_time": "2023-01-09T17:40:32.277Z"
   },
   {
    "duration": 24,
    "start_time": "2023-01-09T17:40:32.311Z"
   },
   {
    "duration": 53,
    "start_time": "2023-01-09T17:40:32.337Z"
   },
   {
    "duration": 10,
    "start_time": "2023-01-09T17:40:32.392Z"
   },
   {
    "duration": 37,
    "start_time": "2023-01-09T17:40:32.404Z"
   },
   {
    "duration": 51,
    "start_time": "2023-01-09T17:40:32.443Z"
   },
   {
    "duration": 36,
    "start_time": "2023-01-09T17:40:32.496Z"
   },
   {
    "duration": 21,
    "start_time": "2023-01-09T17:40:32.533Z"
   },
   {
    "duration": 19,
    "start_time": "2023-01-09T17:40:32.556Z"
   },
   {
    "duration": 27,
    "start_time": "2023-01-09T17:40:32.576Z"
   },
   {
    "duration": 19,
    "start_time": "2023-01-09T17:40:32.605Z"
   },
   {
    "duration": 23,
    "start_time": "2023-01-09T17:40:32.626Z"
   },
   {
    "duration": 53,
    "start_time": "2023-01-09T17:40:32.650Z"
   },
   {
    "duration": 222,
    "start_time": "2023-01-09T17:40:32.705Z"
   },
   {
    "duration": 216,
    "start_time": "2023-01-09T17:40:32.929Z"
   },
   {
    "duration": 222,
    "start_time": "2023-01-09T17:40:33.147Z"
   },
   {
    "duration": 213,
    "start_time": "2023-01-09T17:40:33.370Z"
   },
   {
    "duration": 197,
    "start_time": "2023-01-09T17:41:21.358Z"
   },
   {
    "duration": 209,
    "start_time": "2023-01-09T17:41:24.062Z"
   },
   {
    "duration": 499,
    "start_time": "2023-01-09T17:41:44.492Z"
   },
   {
    "duration": 23,
    "start_time": "2023-01-09T17:41:44.993Z"
   },
   {
    "duration": 16,
    "start_time": "2023-01-09T17:41:45.018Z"
   },
   {
    "duration": 17,
    "start_time": "2023-01-09T17:41:45.036Z"
   },
   {
    "duration": 35,
    "start_time": "2023-01-09T17:41:45.054Z"
   },
   {
    "duration": 4,
    "start_time": "2023-01-09T17:41:45.090Z"
   },
   {
    "duration": 29,
    "start_time": "2023-01-09T17:41:45.095Z"
   },
   {
    "duration": 4,
    "start_time": "2023-01-09T17:41:45.126Z"
   },
   {
    "duration": 11,
    "start_time": "2023-01-09T17:41:45.132Z"
   },
   {
    "duration": 6,
    "start_time": "2023-01-09T17:41:45.146Z"
   },
   {
    "duration": 38,
    "start_time": "2023-01-09T17:41:45.153Z"
   },
   {
    "duration": 26,
    "start_time": "2023-01-09T17:41:45.193Z"
   },
   {
    "duration": 9,
    "start_time": "2023-01-09T17:41:45.221Z"
   },
   {
    "duration": 14,
    "start_time": "2023-01-09T17:41:45.232Z"
   },
   {
    "duration": 20,
    "start_time": "2023-01-09T17:41:45.248Z"
   },
   {
    "duration": 18,
    "start_time": "2023-01-09T17:41:45.269Z"
   },
   {
    "duration": 25,
    "start_time": "2023-01-09T17:41:45.289Z"
   },
   {
    "duration": 18,
    "start_time": "2023-01-09T17:41:45.315Z"
   },
   {
    "duration": 6,
    "start_time": "2023-01-09T17:41:45.334Z"
   },
   {
    "duration": 6,
    "start_time": "2023-01-09T17:41:45.342Z"
   },
   {
    "duration": 14,
    "start_time": "2023-01-09T17:41:45.350Z"
   },
   {
    "duration": 231,
    "start_time": "2023-01-09T17:41:45.366Z"
   },
   {
    "duration": 207,
    "start_time": "2023-01-09T17:41:45.599Z"
   },
   {
    "duration": 207,
    "start_time": "2023-01-09T17:41:45.807Z"
   },
   {
    "duration": 200,
    "start_time": "2023-01-09T17:41:46.016Z"
   },
   {
    "duration": 47,
    "start_time": "2023-01-09T17:57:24.155Z"
   },
   {
    "duration": 11,
    "start_time": "2023-01-09T17:59:19.324Z"
   },
   {
    "duration": 1086,
    "start_time": "2023-01-09T18:27:19.006Z"
   },
   {
    "duration": 25,
    "start_time": "2023-01-09T18:27:20.094Z"
   },
   {
    "duration": 16,
    "start_time": "2023-01-09T18:27:20.121Z"
   },
   {
    "duration": 9,
    "start_time": "2023-01-09T18:27:20.140Z"
   },
   {
    "duration": 57,
    "start_time": "2023-01-09T18:27:20.151Z"
   },
   {
    "duration": 3,
    "start_time": "2023-01-09T18:27:20.210Z"
   },
   {
    "duration": 30,
    "start_time": "2023-01-09T18:27:20.215Z"
   },
   {
    "duration": 16,
    "start_time": "2023-01-09T18:27:20.246Z"
   },
   {
    "duration": 36,
    "start_time": "2023-01-09T18:27:20.263Z"
   },
   {
    "duration": 41,
    "start_time": "2023-01-09T18:27:20.302Z"
   },
   {
    "duration": 45,
    "start_time": "2023-01-09T18:27:20.345Z"
   },
   {
    "duration": 11,
    "start_time": "2023-01-09T18:27:20.391Z"
   },
   {
    "duration": 20,
    "start_time": "2023-01-09T18:27:20.403Z"
   },
   {
    "duration": 35,
    "start_time": "2023-01-09T18:27:20.424Z"
   },
   {
    "duration": 23,
    "start_time": "2023-01-09T18:27:20.460Z"
   },
   {
    "duration": 18,
    "start_time": "2023-01-09T18:27:20.485Z"
   },
   {
    "duration": 7,
    "start_time": "2023-01-09T18:27:20.505Z"
   },
   {
    "duration": 19,
    "start_time": "2023-01-09T18:27:20.514Z"
   },
   {
    "duration": 14,
    "start_time": "2023-01-09T18:27:20.535Z"
   },
   {
    "duration": 19,
    "start_time": "2023-01-09T18:27:20.551Z"
   },
   {
    "duration": 36,
    "start_time": "2023-01-09T18:27:20.571Z"
   },
   {
    "duration": 62,
    "start_time": "2023-01-09T18:27:20.608Z"
   },
   {
    "duration": 0,
    "start_time": "2023-01-09T18:27:20.672Z"
   },
   {
    "duration": 1,
    "start_time": "2023-01-09T18:27:20.673Z"
   },
   {
    "duration": 0,
    "start_time": "2023-01-09T18:27:20.675Z"
   },
   {
    "duration": 426,
    "start_time": "2023-01-09T18:27:50.123Z"
   },
   {
    "duration": 20,
    "start_time": "2023-01-09T18:27:50.550Z"
   },
   {
    "duration": 14,
    "start_time": "2023-01-09T18:27:50.572Z"
   },
   {
    "duration": 16,
    "start_time": "2023-01-09T18:27:50.588Z"
   },
   {
    "duration": 38,
    "start_time": "2023-01-09T18:27:50.605Z"
   },
   {
    "duration": 3,
    "start_time": "2023-01-09T18:27:50.644Z"
   },
   {
    "duration": 13,
    "start_time": "2023-01-09T18:27:50.648Z"
   },
   {
    "duration": 10,
    "start_time": "2023-01-09T18:27:50.663Z"
   },
   {
    "duration": 15,
    "start_time": "2023-01-09T18:27:50.675Z"
   },
   {
    "duration": 8,
    "start_time": "2023-01-09T18:27:50.692Z"
   },
   {
    "duration": 33,
    "start_time": "2023-01-09T18:27:50.702Z"
   },
   {
    "duration": 8,
    "start_time": "2023-01-09T18:27:50.737Z"
   },
   {
    "duration": 3,
    "start_time": "2023-01-09T18:27:50.747Z"
   },
   {
    "duration": 13,
    "start_time": "2023-01-09T18:27:50.751Z"
   },
   {
    "duration": 41,
    "start_time": "2023-01-09T18:27:50.765Z"
   },
   {
    "duration": 15,
    "start_time": "2023-01-09T18:27:50.808Z"
   },
   {
    "duration": 3,
    "start_time": "2023-01-09T18:27:50.825Z"
   },
   {
    "duration": 12,
    "start_time": "2023-01-09T18:27:50.830Z"
   },
   {
    "duration": 5,
    "start_time": "2023-01-09T18:27:50.843Z"
   },
   {
    "duration": 3,
    "start_time": "2023-01-09T18:27:50.850Z"
   },
   {
    "duration": 10,
    "start_time": "2023-01-09T18:27:50.854Z"
   },
   {
    "duration": 211,
    "start_time": "2023-01-09T18:27:50.865Z"
   },
   {
    "duration": 189,
    "start_time": "2023-01-09T18:27:51.078Z"
   },
   {
    "duration": 183,
    "start_time": "2023-01-09T18:27:51.268Z"
   },
   {
    "duration": 181,
    "start_time": "2023-01-09T18:27:51.453Z"
   },
   {
    "duration": 173,
    "start_time": "2023-01-09T18:28:42.522Z"
   },
   {
    "duration": 176,
    "start_time": "2023-01-09T18:29:00.499Z"
   },
   {
    "duration": 180,
    "start_time": "2023-01-09T18:30:44.364Z"
   },
   {
    "duration": 173,
    "start_time": "2023-01-09T18:33:27.062Z"
   },
   {
    "duration": 711,
    "start_time": "2023-01-10T07:21:59.602Z"
   },
   {
    "duration": 20,
    "start_time": "2023-01-10T07:22:00.315Z"
   },
   {
    "duration": 35,
    "start_time": "2023-01-10T07:22:00.337Z"
   },
   {
    "duration": 73,
    "start_time": "2023-01-10T07:22:00.374Z"
   },
   {
    "duration": 58,
    "start_time": "2023-01-10T07:22:00.449Z"
   },
   {
    "duration": 3,
    "start_time": "2023-01-10T07:22:00.509Z"
   },
   {
    "duration": 53,
    "start_time": "2023-01-10T07:22:00.514Z"
   },
   {
    "duration": 32,
    "start_time": "2023-01-10T07:22:00.569Z"
   },
   {
    "duration": 54,
    "start_time": "2023-01-10T07:22:00.603Z"
   },
   {
    "duration": 30,
    "start_time": "2023-01-10T07:22:00.660Z"
   },
   {
    "duration": 62,
    "start_time": "2023-01-10T07:22:00.692Z"
   },
   {
    "duration": 26,
    "start_time": "2023-01-10T07:22:00.755Z"
   },
   {
    "duration": 42,
    "start_time": "2023-01-10T07:22:00.782Z"
   },
   {
    "duration": 55,
    "start_time": "2023-01-10T07:22:00.825Z"
   },
   {
    "duration": 32,
    "start_time": "2023-01-10T07:22:00.882Z"
   },
   {
    "duration": 26,
    "start_time": "2023-01-10T07:22:00.915Z"
   },
   {
    "duration": 16,
    "start_time": "2023-01-10T07:22:00.943Z"
   },
   {
    "duration": 40,
    "start_time": "2023-01-10T07:22:00.961Z"
   },
   {
    "duration": 23,
    "start_time": "2023-01-10T07:22:01.002Z"
   },
   {
    "duration": 20,
    "start_time": "2023-01-10T07:22:01.027Z"
   },
   {
    "duration": 21,
    "start_time": "2023-01-10T07:22:01.048Z"
   },
   {
    "duration": 211,
    "start_time": "2023-01-10T07:22:01.071Z"
   },
   {
    "duration": 195,
    "start_time": "2023-01-10T07:22:01.283Z"
   },
   {
    "duration": 189,
    "start_time": "2023-01-10T07:22:01.479Z"
   },
   {
    "duration": 187,
    "start_time": "2023-01-10T07:22:01.669Z"
   },
   {
    "duration": 431,
    "start_time": "2023-01-10T08:23:53.732Z"
   },
   {
    "duration": 20,
    "start_time": "2023-01-10T08:23:54.165Z"
   },
   {
    "duration": 16,
    "start_time": "2023-01-10T08:23:54.186Z"
   },
   {
    "duration": 8,
    "start_time": "2023-01-10T08:23:54.204Z"
   },
   {
    "duration": 41,
    "start_time": "2023-01-10T08:23:54.213Z"
   },
   {
    "duration": 3,
    "start_time": "2023-01-10T08:23:54.255Z"
   },
   {
    "duration": 23,
    "start_time": "2023-01-10T08:23:54.260Z"
   },
   {
    "duration": 15,
    "start_time": "2023-01-10T08:23:54.284Z"
   },
   {
    "duration": 18,
    "start_time": "2023-01-10T08:23:54.301Z"
   },
   {
    "duration": 10,
    "start_time": "2023-01-10T08:23:54.322Z"
   },
   {
    "duration": 46,
    "start_time": "2023-01-10T08:23:54.333Z"
   },
   {
    "duration": 9,
    "start_time": "2023-01-10T08:23:54.380Z"
   },
   {
    "duration": 20,
    "start_time": "2023-01-10T08:23:54.390Z"
   },
   {
    "duration": 15,
    "start_time": "2023-01-10T08:23:54.412Z"
   },
   {
    "duration": 29,
    "start_time": "2023-01-10T08:23:54.429Z"
   },
   {
    "duration": 18,
    "start_time": "2023-01-10T08:23:54.459Z"
   },
   {
    "duration": 4,
    "start_time": "2023-01-10T08:23:54.479Z"
   },
   {
    "duration": 12,
    "start_time": "2023-01-10T08:23:54.486Z"
   },
   {
    "duration": 7,
    "start_time": "2023-01-10T08:23:54.499Z"
   },
   {
    "duration": 11,
    "start_time": "2023-01-10T08:23:54.507Z"
   },
   {
    "duration": 24,
    "start_time": "2023-01-10T08:23:54.520Z"
   },
   {
    "duration": 227,
    "start_time": "2023-01-10T08:23:54.546Z"
   },
   {
    "duration": 212,
    "start_time": "2023-01-10T08:23:54.775Z"
   },
   {
    "duration": 197,
    "start_time": "2023-01-10T08:23:54.989Z"
   },
   {
    "duration": 186,
    "start_time": "2023-01-10T08:23:55.188Z"
   },
   {
    "duration": 181,
    "start_time": "2023-01-10T08:24:41.460Z"
   },
   {
    "duration": 195,
    "start_time": "2023-01-10T08:24:54.875Z"
   },
   {
    "duration": 178,
    "start_time": "2023-01-10T08:25:07.555Z"
   },
   {
    "duration": 177,
    "start_time": "2023-01-10T08:25:14.253Z"
   },
   {
    "duration": 180,
    "start_time": "2023-01-10T08:26:19.420Z"
   },
   {
    "duration": 177,
    "start_time": "2023-01-10T08:26:32.102Z"
   },
   {
    "duration": 7,
    "start_time": "2023-01-10T08:27:37.702Z"
   },
   {
    "duration": 172,
    "start_time": "2023-01-10T08:28:03.604Z"
   },
   {
    "duration": 178,
    "start_time": "2023-01-10T08:28:50.216Z"
   },
   {
    "duration": 196,
    "start_time": "2023-01-10T08:29:25.605Z"
   },
   {
    "duration": 197,
    "start_time": "2023-01-10T08:30:03.855Z"
   },
   {
    "duration": 484,
    "start_time": "2023-01-10T08:30:46.071Z"
   },
   {
    "duration": 20,
    "start_time": "2023-01-10T08:30:46.556Z"
   },
   {
    "duration": 13,
    "start_time": "2023-01-10T08:30:46.578Z"
   },
   {
    "duration": 12,
    "start_time": "2023-01-10T08:30:46.592Z"
   },
   {
    "duration": 32,
    "start_time": "2023-01-10T08:30:46.605Z"
   },
   {
    "duration": 3,
    "start_time": "2023-01-10T08:30:46.638Z"
   },
   {
    "duration": 13,
    "start_time": "2023-01-10T08:30:46.642Z"
   },
   {
    "duration": 4,
    "start_time": "2023-01-10T08:30:46.656Z"
   },
   {
    "duration": 9,
    "start_time": "2023-01-10T08:30:46.661Z"
   },
   {
    "duration": 27,
    "start_time": "2023-01-10T08:30:46.671Z"
   },
   {
    "duration": 31,
    "start_time": "2023-01-10T08:30:46.699Z"
   },
   {
    "duration": 9,
    "start_time": "2023-01-10T08:30:46.731Z"
   },
   {
    "duration": 3,
    "start_time": "2023-01-10T08:30:46.742Z"
   },
   {
    "duration": 12,
    "start_time": "2023-01-10T08:30:46.746Z"
   },
   {
    "duration": 40,
    "start_time": "2023-01-10T08:30:46.759Z"
   },
   {
    "duration": 15,
    "start_time": "2023-01-10T08:30:46.800Z"
   },
   {
    "duration": 3,
    "start_time": "2023-01-10T08:30:46.816Z"
   },
   {
    "duration": 12,
    "start_time": "2023-01-10T08:30:46.821Z"
   },
   {
    "duration": 5,
    "start_time": "2023-01-10T08:30:46.834Z"
   },
   {
    "duration": 4,
    "start_time": "2023-01-10T08:30:46.840Z"
   },
   {
    "duration": 12,
    "start_time": "2023-01-10T08:30:46.845Z"
   },
   {
    "duration": 206,
    "start_time": "2023-01-10T08:30:46.858Z"
   },
   {
    "duration": 185,
    "start_time": "2023-01-10T08:30:47.065Z"
   },
   {
    "duration": 181,
    "start_time": "2023-01-10T08:30:47.252Z"
   },
   {
    "duration": 182,
    "start_time": "2023-01-10T08:30:47.435Z"
   },
   {
    "duration": 50,
    "start_time": "2023-01-10T12:07:35.829Z"
   },
   {
    "duration": 792,
    "start_time": "2023-01-10T12:07:52.604Z"
   },
   {
    "duration": 26,
    "start_time": "2023-01-10T12:07:53.398Z"
   },
   {
    "duration": 16,
    "start_time": "2023-01-10T12:07:53.426Z"
   },
   {
    "duration": 9,
    "start_time": "2023-01-10T12:07:53.445Z"
   },
   {
    "duration": 44,
    "start_time": "2023-01-10T12:07:53.456Z"
   },
   {
    "duration": 14,
    "start_time": "2023-01-10T12:07:53.501Z"
   },
   {
    "duration": 26,
    "start_time": "2023-01-10T12:07:53.516Z"
   },
   {
    "duration": 10,
    "start_time": "2023-01-10T12:07:53.544Z"
   },
   {
    "duration": 19,
    "start_time": "2023-01-10T12:07:53.556Z"
   },
   {
    "duration": 5,
    "start_time": "2023-01-10T12:07:53.578Z"
   },
   {
    "duration": 41,
    "start_time": "2023-01-10T12:07:53.585Z"
   },
   {
    "duration": 10,
    "start_time": "2023-01-10T12:07:53.628Z"
   },
   {
    "duration": 9,
    "start_time": "2023-01-10T12:07:53.639Z"
   },
   {
    "duration": 26,
    "start_time": "2023-01-10T12:07:53.649Z"
   },
   {
    "duration": 26,
    "start_time": "2023-01-10T12:07:53.677Z"
   },
   {
    "duration": 19,
    "start_time": "2023-01-10T12:07:53.705Z"
   },
   {
    "duration": 4,
    "start_time": "2023-01-10T12:07:53.726Z"
   },
   {
    "duration": 19,
    "start_time": "2023-01-10T12:07:53.732Z"
   },
   {
    "duration": 24,
    "start_time": "2023-01-10T12:07:53.753Z"
   },
   {
    "duration": 8,
    "start_time": "2023-01-10T12:07:53.779Z"
   },
   {
    "duration": 35,
    "start_time": "2023-01-10T12:07:53.788Z"
   },
   {
    "duration": 16,
    "start_time": "2023-01-10T12:07:53.824Z"
   },
   {
    "duration": 223,
    "start_time": "2023-01-10T12:07:53.842Z"
   },
   {
    "duration": 227,
    "start_time": "2023-01-10T12:07:54.067Z"
   },
   {
    "duration": 203,
    "start_time": "2023-01-10T12:07:54.296Z"
   },
   {
    "duration": 85,
    "start_time": "2023-01-10T12:09:34.619Z"
   },
   {
    "duration": 19,
    "start_time": "2023-01-10T12:09:57.247Z"
   },
   {
    "duration": 8,
    "start_time": "2023-01-10T12:10:48.951Z"
   },
   {
    "duration": 11,
    "start_time": "2023-01-10T12:13:45.265Z"
   },
   {
    "duration": 11,
    "start_time": "2023-01-10T12:13:51.465Z"
   },
   {
    "duration": 9,
    "start_time": "2023-01-10T12:14:03.193Z"
   },
   {
    "duration": 11,
    "start_time": "2023-01-10T12:14:09.314Z"
   },
   {
    "duration": 71,
    "start_time": "2023-01-10T12:14:40.178Z"
   },
   {
    "duration": 11,
    "start_time": "2023-01-10T12:14:47.881Z"
   },
   {
    "duration": 12,
    "start_time": "2023-01-10T12:15:00.786Z"
   },
   {
    "duration": 62,
    "start_time": "2023-01-10T12:15:10.498Z"
   },
   {
    "duration": 13,
    "start_time": "2023-01-10T12:15:14.882Z"
   },
   {
    "duration": 9,
    "start_time": "2023-01-10T12:17:18.372Z"
   },
   {
    "duration": 10,
    "start_time": "2023-01-10T12:17:33.132Z"
   },
   {
    "duration": 12,
    "start_time": "2023-01-10T12:17:44.931Z"
   },
   {
    "duration": 9,
    "start_time": "2023-01-10T12:17:50.747Z"
   },
   {
    "duration": 75,
    "start_time": "2023-01-10T12:19:41.133Z"
   },
   {
    "duration": 9,
    "start_time": "2023-01-10T12:21:59.831Z"
   },
   {
    "duration": 10,
    "start_time": "2023-01-10T12:22:09.614Z"
   },
   {
    "duration": 8,
    "start_time": "2023-01-10T12:22:17.479Z"
   },
   {
    "duration": 10,
    "start_time": "2023-01-10T12:22:20.983Z"
   },
   {
    "duration": 11,
    "start_time": "2023-01-10T12:26:46.010Z"
   },
   {
    "duration": 62,
    "start_time": "2023-01-10T12:27:02.970Z"
   },
   {
    "duration": 10,
    "start_time": "2023-01-10T12:27:08.850Z"
   },
   {
    "duration": 11,
    "start_time": "2023-01-10T12:27:14.962Z"
   },
   {
    "duration": 12,
    "start_time": "2023-01-10T12:27:43.043Z"
   },
   {
    "duration": 17,
    "start_time": "2023-01-10T12:27:49.802Z"
   },
   {
    "duration": 11,
    "start_time": "2023-01-10T12:28:15.630Z"
   },
   {
    "duration": 17,
    "start_time": "2023-01-10T12:29:20.429Z"
   },
   {
    "duration": 16,
    "start_time": "2023-01-10T12:38:36.730Z"
   },
   {
    "duration": 16,
    "start_time": "2023-01-10T12:39:10.730Z"
   },
   {
    "duration": 15,
    "start_time": "2023-01-10T12:39:43.833Z"
   },
   {
    "duration": 41,
    "start_time": "2023-01-10T12:39:54.771Z"
   },
   {
    "duration": 16,
    "start_time": "2023-01-10T12:39:59.114Z"
   },
   {
    "duration": 13,
    "start_time": "2023-01-10T12:43:15.732Z"
   },
   {
    "duration": 16,
    "start_time": "2023-01-10T12:43:44.365Z"
   },
   {
    "duration": 459,
    "start_time": "2023-01-10T12:44:02.051Z"
   },
   {
    "duration": 24,
    "start_time": "2023-01-10T12:44:02.512Z"
   },
   {
    "duration": 17,
    "start_time": "2023-01-10T12:44:02.538Z"
   },
   {
    "duration": 10,
    "start_time": "2023-01-10T12:44:02.557Z"
   },
   {
    "duration": 75,
    "start_time": "2023-01-10T12:44:02.569Z"
   },
   {
    "duration": 4,
    "start_time": "2023-01-10T12:44:02.646Z"
   },
   {
    "duration": 14,
    "start_time": "2023-01-10T12:44:02.652Z"
   },
   {
    "duration": 5,
    "start_time": "2023-01-10T12:44:02.668Z"
   },
   {
    "duration": 9,
    "start_time": "2023-01-10T12:44:02.675Z"
   },
   {
    "duration": 6,
    "start_time": "2023-01-10T12:44:02.711Z"
   },
   {
    "duration": 36,
    "start_time": "2023-01-10T12:44:02.719Z"
   },
   {
    "duration": 11,
    "start_time": "2023-01-10T12:44:02.757Z"
   },
   {
    "duration": 4,
    "start_time": "2023-01-10T12:44:02.770Z"
   },
   {
    "duration": 41,
    "start_time": "2023-01-10T12:44:02.776Z"
   },
   {
    "duration": 24,
    "start_time": "2023-01-10T12:44:02.819Z"
   },
   {
    "duration": 18,
    "start_time": "2023-01-10T12:44:02.844Z"
   },
   {
    "duration": 4,
    "start_time": "2023-01-10T12:44:02.864Z"
   },
   {
    "duration": 13,
    "start_time": "2023-01-10T12:44:02.869Z"
   },
   {
    "duration": 30,
    "start_time": "2023-01-10T12:44:02.883Z"
   },
   {
    "duration": 3,
    "start_time": "2023-01-10T12:44:02.915Z"
   },
   {
    "duration": 23,
    "start_time": "2023-01-10T12:44:02.919Z"
   },
   {
    "duration": 74,
    "start_time": "2023-01-10T12:44:02.944Z"
   },
   {
    "duration": 0,
    "start_time": "2023-01-10T12:44:03.020Z"
   },
   {
    "duration": 0,
    "start_time": "2023-01-10T12:44:03.021Z"
   },
   {
    "duration": 0,
    "start_time": "2023-01-10T12:44:03.023Z"
   },
   {
    "duration": 12,
    "start_time": "2023-01-10T12:44:30.252Z"
   },
   {
    "duration": 12,
    "start_time": "2023-01-10T12:44:36.597Z"
   },
   {
    "duration": 17,
    "start_time": "2023-01-10T12:45:47.414Z"
   },
   {
    "duration": 19,
    "start_time": "2023-01-10T12:53:53.043Z"
   },
   {
    "duration": 15,
    "start_time": "2023-01-10T12:57:17.006Z"
   },
   {
    "duration": 25,
    "start_time": "2023-01-10T12:57:44.591Z"
   },
   {
    "duration": 41,
    "start_time": "2023-01-10T12:58:01.679Z"
   },
   {
    "duration": 45,
    "start_time": "2023-01-10T12:59:31.329Z"
   },
   {
    "duration": 11,
    "start_time": "2023-01-10T13:00:50.826Z"
   },
   {
    "duration": 19,
    "start_time": "2023-01-10T13:01:42.761Z"
   },
   {
    "duration": 16,
    "start_time": "2023-01-10T13:01:50.225Z"
   },
   {
    "duration": 26,
    "start_time": "2023-01-10T13:02:02.498Z"
   },
   {
    "duration": 26,
    "start_time": "2023-01-10T13:02:31.990Z"
   },
   {
    "duration": 57,
    "start_time": "2023-01-10T13:02:59.882Z"
   },
   {
    "duration": 17,
    "start_time": "2023-01-10T13:03:07.986Z"
   },
   {
    "duration": 23,
    "start_time": "2023-01-10T13:04:46.667Z"
   },
   {
    "duration": 18,
    "start_time": "2023-01-10T13:07:50.565Z"
   },
   {
    "duration": 13,
    "start_time": "2023-01-10T13:08:38.592Z"
   },
   {
    "duration": 18,
    "start_time": "2023-01-10T13:09:46.223Z"
   },
   {
    "duration": 14,
    "start_time": "2023-01-10T13:10:49.457Z"
   },
   {
    "duration": 475,
    "start_time": "2023-01-10T13:11:27.128Z"
   },
   {
    "duration": 25,
    "start_time": "2023-01-10T13:11:27.605Z"
   },
   {
    "duration": 20,
    "start_time": "2023-01-10T13:11:27.632Z"
   },
   {
    "duration": 10,
    "start_time": "2023-01-10T13:11:27.655Z"
   },
   {
    "duration": 51,
    "start_time": "2023-01-10T13:11:27.667Z"
   },
   {
    "duration": 3,
    "start_time": "2023-01-10T13:11:27.720Z"
   },
   {
    "duration": 13,
    "start_time": "2023-01-10T13:11:27.725Z"
   },
   {
    "duration": 4,
    "start_time": "2023-01-10T13:11:27.740Z"
   },
   {
    "duration": 8,
    "start_time": "2023-01-10T13:11:27.746Z"
   },
   {
    "duration": 4,
    "start_time": "2023-01-10T13:11:27.758Z"
   },
   {
    "duration": 61,
    "start_time": "2023-01-10T13:11:27.763Z"
   },
   {
    "duration": 10,
    "start_time": "2023-01-10T13:11:27.825Z"
   },
   {
    "duration": 12,
    "start_time": "2023-01-10T13:11:27.837Z"
   },
   {
    "duration": 18,
    "start_time": "2023-01-10T13:11:27.851Z"
   },
   {
    "duration": 31,
    "start_time": "2023-01-10T13:11:27.870Z"
   },
   {
    "duration": 24,
    "start_time": "2023-01-10T13:11:27.903Z"
   },
   {
    "duration": 5,
    "start_time": "2023-01-10T13:11:27.928Z"
   },
   {
    "duration": 27,
    "start_time": "2023-01-10T13:11:27.935Z"
   },
   {
    "duration": 7,
    "start_time": "2023-01-10T13:11:27.964Z"
   },
   {
    "duration": 11,
    "start_time": "2023-01-10T13:11:27.973Z"
   },
   {
    "duration": 20,
    "start_time": "2023-01-10T13:11:27.985Z"
   },
   {
    "duration": 20,
    "start_time": "2023-01-10T13:11:28.007Z"
   },
   {
    "duration": 15,
    "start_time": "2023-01-10T13:11:28.029Z"
   },
   {
    "duration": 13,
    "start_time": "2023-01-10T13:11:28.045Z"
   },
   {
    "duration": 23,
    "start_time": "2023-01-10T13:11:28.060Z"
   }
  ],
  "colab": {
   "name": "dpp_template_part2.ipynb",
   "provenance": []
  },
  "kernelspec": {
   "display_name": "Python 3 (ipykernel)",
   "language": "python",
   "name": "python3"
  },
  "language_info": {
   "codemirror_mode": {
    "name": "ipython",
    "version": 3
   },
   "file_extension": ".py",
   "mimetype": "text/x-python",
   "name": "python",
   "nbconvert_exporter": "python",
   "pygments_lexer": "ipython3",
   "version": "3.10.9"
  },
  "toc": {
   "base_numbering": 1,
   "nav_menu": {},
   "number_sections": true,
   "sideBar": true,
   "skip_h1_title": true,
   "title_cell": "Table of Contents",
   "title_sidebar": "Contents",
   "toc_cell": true,
   "toc_position": {},
   "toc_section_display": true,
   "toc_window_display": false
  }
 },
 "nbformat": 4,
 "nbformat_minor": 5
}
